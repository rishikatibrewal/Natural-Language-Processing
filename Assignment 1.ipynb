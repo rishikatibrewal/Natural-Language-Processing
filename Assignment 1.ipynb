{
  "nbformat": 4,
  "nbformat_minor": 0,
  "metadata": {
    "colab": {
      "provenance": [],
      "collapsed_sections": [
        "WGAuG0NmUpS7",
        "gM246cYJWGFh"
      ]
    },
    "kernelspec": {
      "name": "python3",
      "display_name": "Python 3"
    },
    "language_info": {
      "name": "python"
    }
  },
  "cells": [
    {
      "cell_type": "markdown",
      "source": [
        "# Importing Libraries"
      ],
      "metadata": {
        "id": "WGAuG0NmUpS7"
      }
    },
    {
      "cell_type": "code",
      "source": [
        "!pip install contractions"
      ],
      "metadata": {
        "colab": {
          "base_uri": "https://localhost:8080/"
        },
        "id": "GgOhaqiLGmO2",
        "outputId": "90c45358-e8f9-4c37-ae6b-d46699cccf54"
      },
      "execution_count": null,
      "outputs": [
        {
          "output_type": "stream",
          "name": "stdout",
          "text": [
            "Looking in indexes: https://pypi.org/simple, https://us-python.pkg.dev/colab-wheels/public/simple/\n",
            "Requirement already satisfied: contractions in /usr/local/lib/python3.8/dist-packages (0.1.73)\n",
            "Requirement already satisfied: textsearch>=0.0.21 in /usr/local/lib/python3.8/dist-packages (from contractions) (0.0.24)\n",
            "Requirement already satisfied: pyahocorasick in /usr/local/lib/python3.8/dist-packages (from textsearch>=0.0.21->contractions) (2.0.0)\n",
            "Requirement already satisfied: anyascii in /usr/local/lib/python3.8/dist-packages (from textsearch>=0.0.21->contractions) (0.3.1)\n"
          ]
        }
      ]
    },
    {
      "cell_type": "code",
      "source": [
        "import re\n",
        "import json\n",
        "import gzip\n",
        "import gc\n",
        "import numpy as np\n",
        "import pandas as pd\n",
        "import contractions\n",
        "from io import BytesIO\n",
        "from zipfile import ZipFile\n",
        "from urllib.request import urlopen\n",
        "import matplotlib.pyplot as plt\n",
        "from collections import Counter, defaultdict"
      ],
      "metadata": {
        "id": "xqsoUAEbEnyp"
      },
      "execution_count": null,
      "outputs": []
    },
    {
      "cell_type": "code",
      "source": [
        "import nltk\n",
        "nltk.download(\"punkt\")\n",
        "from nltk.tokenize import word_tokenize\n",
        "from nltk.tokenize import sent_tokenize\n",
        "from nltk.corpus.reader.nombank import NombankTreePointer"
      ],
      "metadata": {
        "colab": {
          "base_uri": "https://localhost:8080/"
        },
        "id": "19K41pvKGSf8",
        "outputId": "24780e4c-9f06-4372-8a5e-934638781365"
      },
      "execution_count": null,
      "outputs": [
        {
          "output_type": "stream",
          "name": "stderr",
          "text": [
            "[nltk_data] Downloading package punkt to /root/nltk_data...\n",
            "[nltk_data]   Package punkt is already up-to-date!\n"
          ]
        }
      ]
    },
    {
      "cell_type": "code",
      "source": [
        "from google.colab import drive\n",
        "drive.mount('/content/drive/')"
      ],
      "metadata": {
        "id": "Z2xqC-_QvR-G",
        "colab": {
          "base_uri": "https://localhost:8080/"
        },
        "outputId": "e07ecd6d-d1ab-4771-8330-38b496251651"
      },
      "execution_count": null,
      "outputs": [
        {
          "output_type": "stream",
          "name": "stdout",
          "text": [
            "Drive already mounted at /content/drive/; to attempt to forcibly remount, call drive.mount(\"/content/drive/\", force_remount=True).\n"
          ]
        }
      ]
    },
    {
      "cell_type": "markdown",
      "source": [
        "# Reading Data"
      ],
      "metadata": {
        "id": "gM246cYJWGFh"
      }
    },
    {
      "cell_type": "code",
      "source": [
        "def unzip_read_and_extract(filename:str, count):\n",
        "    data = []\n",
        "    with ZipFile(filename, \"r\") as z:\n",
        "        for filename in z.namelist():\n",
        "            with z.open(filename) as f:\n",
        "                try:\n",
        "                    paper_content = json.load(f)\n",
        "                    body_text = \"\"\n",
        "                    if 'body_text' in paper_content :\n",
        "                        for bt in paper_content['body_text']:\n",
        "                            body_text += bt ['text']\n",
        "                    content = (body_text + '\\n').lower()\n",
        "                    data.append(content)\n",
        "                except ValueError as e:\n",
        "                    print(\"Not a valid JSON\")\n",
        "            if (len(data) == count):\n",
        "                break\n",
        "    return data"
      ],
      "metadata": {
        "id": "lECdBuxTGYvl"
      },
      "execution_count": null,
      "outputs": []
    },
    {
      "cell_type": "code",
      "source": [
        "data = unzip_read_and_extract(\"/content/drive/MyDrive/pdf_json.zip\",50000)"
      ],
      "metadata": {
        "id": "7Dmc2KYQGdIf",
        "colab": {
          "base_uri": "https://localhost:8080/"
        },
        "outputId": "9bdf454a-52a5-41df-b3d9-5b4ab96774a5"
      },
      "execution_count": null,
      "outputs": [
        {
          "output_type": "stream",
          "name": "stdout",
          "text": [
            "Not a valid JSON\n",
            "Not a valid JSON\n"
          ]
        }
      ]
    },
    {
      "cell_type": "code",
      "source": [
        "data[5]"
      ],
      "metadata": {
        "id": "BEvT59j2GvzE",
        "colab": {
          "base_uri": "https://localhost:8080/",
          "height": 140
        },
        "outputId": "2d843233-dd16-4899-9a22-49bf544be040"
      },
      "execution_count": null,
      "outputs": [
        {
          "output_type": "execute_result",
          "data": {
            "text/plain": [
              "'coronavirus\", \"coronavirus disease 2019\", \"sars-cov-2\", \"severe acute respiratory syndrome coronavirus 2\", \"autoimmune disease\", \"clinical characteristic\", \"clinical feature\", \"risk factor\", and \"comorbidities\". in addition, we searched the reference lists of eligible studies and relevant reviews to find potentially eligible studies (see search strategy of pubmed in appendix table 1 ). study inclusion criteria: (1) patient was diagnosed as covid-19 by the laboratory;(2) provided data of autoimmune disease with severe or non-severe or between death and survivors. study exclusion criteria: (1) studies did not provide the prevalence of autoimmune disease; (2) studies without comparisons (severe versus non-severe patients, death versus survival); (3) studies sample size is less than 10 patients; (4) abstracts, news, comments, editorials and review articles. according to the published studies [2] , the severity of disease was defined mainly on the basis of the symptoms present at diagnosis (e.g. patients with pulse oxygen saturation (spo 2 ) less than 90%, or need of intensive care unit (icu) care, or with acute respiratory distress syndrome).study selection and data extraction were been independently conducted by two reviewers. disagreements were resolved by consensus or by a third investigator. we extracted the following abstracted data: first author, year of publication, country of the corresponding author, publication language, recruitment time frame, age and sex of patients, sample size, number of participants in severe (or death) and non-severe (or survival) disease groups, and outcomes of interest. the primary outcome was the association autoimmune disease and risk of severe disease in patients with covid-19.the secondary outcome was the association autoimmune disease and risk of mortality in covid-19 patients.review manager 5.3 (nordic cochrane centre, copenhagen, denmark) was used to estimate pooled odds risk (or) and its 95% confidence interval (ci) for dichotomous outcomes using the mantel-haenszel statistical method with the random-effects model.we used the i 2 statistic to assess the heterogeneity, value of <25%, 26-50%, and >50% considered as low, moderate, and high degrees of heterogeneity, respectively.subgroup analysis was conducted for the secondary outcome between different countries. in addition, we also conducted sensitivity analysis by excluding studies published in chinese to assess the stability of the results.a total of 2472 records were obtained through systematic electronic searches and other ways. after screening titles, abstracts, and full texts, 6 studies [1, 3-6] were included for analysis (see flowchart in appendix figure 1 ). all studies were published in 2020, incorporated a total of 2091 patients (1192 males, 57.01%). the sample size of patients per study ranged from 109 to 1000. only one study from usa [7] , five studies from china [1, [3] [4] [5] [6] . one study published in chinese [4] , and five studies published in english [1, 3, [5] [6] [7] . see detail in table 1 . the range of quality scores was 5 to 8, with a median of 7 (7.17±1.17) (appendix table 2 ). the meta analysis showed that autoimmune disease was associated with a 1. covid-19 is an acute inflammatory infectious disease. it is now generally accepted that the occurrence of autoimmune diseases is related to autoinflammatory [7] . over the course of the covid-19 pandemic, zachary sw and colleagues proposed three key reasons that covid-19 may affect patients with autoimmune diseases [8] .understanding how covid-19 is associated with rheumatic diseases is imperative for rheumatology health professionals and people living with rheumatic diseases [8] . our study showed that autoimmune disease was slightly associated with increased risk of severe and mortality of covid-19 disease through meta-analysis, but the statistical difference was not significant. in terms of treatment and prognosis, covid-19 patients combined with autoimmune diseases may not need special attention. nevertheless, we cannot let our guard down. because our study was limited by small sample size, and five included studies are from china, the results should be interpreted with caution. in addition, researchers should also pay attentions to the effect of the types of autoimmune diseases and treatment drugs on treatment and prognosis.in conclusion, we should not relax our focus on the covid-19 patients with autoimmune diseases. more high-quality studies from different regions are needed to better understand the association between covid-19 disease and autoimmune diseases. the funders had no role in the design and conduct of the study; collection, management, analysis, and interpretation of the data; preparation, review, or approval of the manuscript; and decision to submit the manuscript for publication.the authors declare that they have no competing interests. \\n'"
            ],
            "application/vnd.google.colaboratory.intrinsic+json": {
              "type": "string"
            }
          },
          "metadata": {},
          "execution_count": 7
        }
      ]
    },
    {
      "cell_type": "markdown",
      "source": [
        "# Preprocessing\n",
        "\n",
        "---\n",
        "\n",
        "- Fixed contractions i.e, wouldn't to would not\n",
        "- Removed newline characters and replaced them with an empty character\n",
        "- Identified citation patters using regex and removed them\n",
        "- Removed URLs and emails\n",
        "- Removed punctuation marks\n",
        "- Discarded symbols and numbers, i.e, considered only alphabets\n"
      ],
      "metadata": {
        "id": "Z71gfu6oU9od"
      }
    },
    {
      "cell_type": "code",
      "source": [
        "def preprocessing(text):\n",
        "  text = contractions.fix(text)\n",
        "  if \"\\n\" in text:\n",
        "      text = text.replace(\"\\n\",\"\")\n",
        "  cit_pattern = re.compile(r'\\[\\d+(,[ \\t]*\\d+)*\\]')\n",
        "  text = cit_pattern.sub(r'', text)\n",
        "  url_pattern = re.compile(r'https?://\\S+|www\\.\\S+')\n",
        "  text = url_pattern.sub(r'', text)\n",
        "  email_pattern = re.compile(r'''([-!#-'*+/-9=?A-Z^-~]+(\\.[-!#-'*+/-9=?A-Z^-~]+)*|\"([]!#-[^-~ \\t]|(\\\\[\\t -~]))+\")@([-!#-'*+/-9=?A-Z^-~]+(\\.[-!#-'*+/-9=?A-Z^-~]+)*|\\[[\\t -Z^-~]*])''')\n",
        "  text = email_pattern.sub(r'', text)\n",
        "  punct_pattern = re.compile(r'[^\\w\\s]')\n",
        "  text= punct_pattern.sub(r'', text)\n",
        "  text= \" \".join([word for word in str(text).split() if word.encode().isalpha()])\n",
        "  text= \" \".join(text.split())\n",
        "  return text"
      ],
      "metadata": {
        "id": "l-xrY6RNIAw_"
      },
      "execution_count": null,
      "outputs": []
    },
    {
      "cell_type": "code",
      "source": [
        "text = list(map(preprocessing,data))"
      ],
      "metadata": {
        "id": "ePwOZc2JIf_2"
      },
      "execution_count": null,
      "outputs": []
    },
    {
      "cell_type": "code",
      "source": [
        "text[1]"
      ],
      "metadata": {
        "colab": {
          "base_uri": "https://localhost:8080/",
          "height": 140
        },
        "id": "GKeJqeZB7uWy",
        "outputId": "c354e37b-e44e-486a-efbb-9f6ccb53752e"
      },
      "execution_count": null,
      "outputs": [
        {
          "output_type": "execute_result",
          "data": {
            "text/plain": [
              "'in the last decade two viral pandemics have had a significant impact on worldwide health resulting mainly in severe acute respiratory failure arf the first was the severe acute respiratory syndrome or sars in a virulent clinical entity with a high mortality rate the second was influenza a in which according to the who report caused more than deaths within the first seasonthe use of noninvasive ventilation niv in adults has proved effective in treating chronic obstructive pulmonary disease exacerbation cardiogenic pulmonary oedema and arf in immunocompromised patients in these patients niv has achieved significant reductions in the rate of endotracheal intubation and ventilatorassociated complications and has improved survival rates nevertheless some metaanalyses argue against the use of niv in arf because it offers no advantages over conventional ventilation moreover delaying intubation in hypoxaemic intubated patients with pneumonia may increase the risk of complications early use of niv in ards caused by viral pneumonia is controversial we tried to assess when clinicians used this technique and whether it was successful performing a secondary analysis of the gteisemicyuc grupo de trabajo de enfermedades infecciosassociedad de medicina intensiva y unidades coronarias registry a large cohort of patients admitted to intensive care units icus for respiratory failure caused by pandemic influenza a pneumonia secondary objectives were to assess if niv use might increase mortality if intubation was subsequently required and if in some patients niv could be predicted to be more successful we hypothesized that the use of niv in patients with arf because of pandemic viral pneumonia might be effective in some cases and might avoid the need for invasive mechanical ventilationdata for this study were obtained from a voluntary registry created by node director jordi rello of ciberes pci neumonia and recruited by investigators of the gtei semicyuc study group coordinator rafael zaragoza in inclusion criteria were adult viral pneumonia patients aged over years febrile acute illness respiratory symptoms such as cough sore throat myalgia or influenzalike illness arf conventional oxygen therapy to maintain spo requiring icu admission and microbiological confirmation of pandemic influenza a by realtime pcr data were reported by the attending physician reviewing medical charts and radiological and laboratory records within the first h after icu admission patients with exacerbations of chronic obstructive pulmonary disease acute pulmonary oedema acute asthma and those already intubated at icu admission or using niv for palliative use or rescue therapy were excluded from the analysis the study was approved by the institutional review board of joan xxiii university hospital tarragona spain patient identification remained anonymous and the requirement for informed consent was waived because of the observational nature of the study the icu admission criteria and treatment decisions for all patients including determination of the need for intubation and type of antibiotic and antiviral therapy administered were not standardized and were made by the attending physiciannasopharyngealswab specimens were collected at admission and respiratory secretions were also obtained in intubated patients reverse transcriptionpcr testing was performed in accordance with the cdc protocol http testing was performed at each institution or centralized in a reference laboratory when not available a confirmed case was defined as an acute respiratory illness with laboratoryconfirmed pandemic virus infection by realtime reverse transcriptionpcr or viral culture only confirmed cases were included in the current studythe following information was recorded demographic data comorbidities times of illness onset and hospital admission time to first dose of antiviral delivery microbiological findings and chest xray findings at icu admission intubation and mechanical ventilation requirements invasive and noninvasive medical complications during icu stay and laboratory findings at icu admission were also recorded chronic obstructive pulmonary disease was defined as a disease state characterized by the presence of airflow limitation because of chronic bronchitis or emphysema the airflow obstruction could be accompanied by airway hyperreactivity and could be partially reversible to determine the severity of illness the acute physiology and chronic health evaluation apache ii score was recorded in all patients within h of icu admission in addition organ failure was assessed using the sequential organ failure assessment sofa scoring system definition of communityacquired pneumonia was based on current american thoracic society and infectious disease society of america guidelines primary viral pneumonia was defined in patients in the acute phase of influenza virus illness who presented with acute respiratory distress and unequivocal alveolar opacities with negative respiratory and blood bacterial cultures secondary bacterial pneumonia was considered in patients with confirmation of influenza virus infection who showed recurrence of fever increase in cough and production of purulent sputum plus positive bacterial respiratory or blood cultures respiratory cultures were based on tracheal aspirates obtained immediately after intubation acute renal failure was defined as the need for renal replacement therapy in accordance with the international consensus conference criteria we have defined comorbidities as the pathological antecedents of each patient and antiviral gap as time of delay between the onset of symptoms and the start of antiviral treatment multiple organ dysfunction syndrome mods and shock were defined following international criteria niv was always used for arf at an early stage failure of niv was defined if the patient was intubated and invasively ventilated after an niv trial when spo or important respiratory work appeareddata were analysed using spss software chicago il usa data are expressed as frequency percentage or median interquartile range for univariate analysis of the qualitative variables the chisquared and fisher tests were used quantitative variables were analysed by comparison of means with the students t test stepwise multivariate analysis was performed with logistic regression taking the variables which had p values in the univariate analysis or others with a special clinical interest chronic obstructive pulmonary disease or heart failure as dependent variables a p value of or less was considered to be statistically significantin all adults with pandemic influenza a viral pneumonia were admitted to the icus fig shows the distribution of the study population depending on the ventilation provided baseline characteristics of noninvasively ventilated patients compared with other subgroups are briefly described in table compared with nonventilated subjects patients with successful niv presented more comorbidities versus p a higher lactate dehydrogenase versus youl p and creatine kianse versus youl p levels as well as longer icu stay versus days p table an niv trial was successful in patients but failed in who required intubation and invasive mechanical ventilation hence of the patients who underwent intubation were intubated and ventilated from the beginning and were intubated and ventilated after niv failure therefore of ventilated patients admitted to the icu for influenza a pneumonia benefited from nivlower apache ii score median versus p lower sofa score median versus p the presence of fewer than two chest xray quadrant opacities haemodynamic stability analysed as the absence of the need for vasopressors and the absence of acute renal failure or mods were associated with niv success table these patients required shorter mechanical ventilation time median versus days p shorter icu stay versus days p and shorter hospital stay versus days p than patients with niv failure multivariate analysis table demonstrated that niv success was associated with the presence of fewer than two chest xray quadrant opacities or and no vasopressor requirement or moreover when we compared the subset of noninvasively ventilated patients with two or more quadrant opacities for those with a sofa score versus those with a sofa the success rate increased from to or ci whereas when the sofa score was the success rate became ci no differences were found comparing invasively ventilated patients after niv failure with those initially submitted to orotracheal intubation and invasively ventilated with regard to apache ii and sofa scores radiographic infiltrates proportion of shock or ventilatorassociated pneumonia icu and hospital stay or mortalityto study the possible association of complications with delay in intubation in niv failure patients we compared these patients intubated because of niv failure with those intubated at icu admission but they did not show significantly different rates of ventilatorassociated pneumonia versus over twothirds of the ventilatorassociated pneumonia episodes were caused by pseudomonas aeruginosa acinetobacter baumannii or methicillinresistant staphylococcus aureus mortality rates in icu were similar in patients who failed niv and in those who were intubated and invasively ventilated from the beginning or ci p lengths of icu stay and of hospital stay were also similar in both groups this is the first large multicentre cohort study to suggest that arf in some patients with viral influenza a pneumonia may respond to niv therapy patients with only one radiological quadrant opacity haemodynamic stability plus a sofa score were more likely to have a positive response to this treatment moreover in patients with niv failure delayed intubation because of a trial of noninvasive mechanical ventilation did not increase mortality the use of niv by clinicians in this large cohort of patients with severe acute respiratory infection is provocative contrasting with the recommendations in many guidelines probably based on a previous study during the severe acute respiratory syndrome pandemic the european society of intensive care medicine esicm the british thoracic society and who include niv as a highrisk procedure for disease transmission in arf caused by influenza a although it has been shown that intubation is associated with a higher risk of viral particle transmission during severe acute respiratory syndrome nonetheless some reports suggest that niv can be used in the management of some specific clinical cases of respiratory failure in this cohort clinicians used niv in of ventilated patients corresponding to of all patients admitted to icus with influenza a pneumonia these values are comparable to other series with an average of reported cases of around ranging from to of all ventilated patients with and without pneumonia overall these reports include a total of niv patients only three of these series with a total of patients assessed the efficacy of niv reporting it to be around ranging from to none of these studies was designed with the purpose of studying only the role of niv so heterogeneity and lack of standardized criteria to start niv is obviously a weaknesstreatment decisions were not standardized and were made by the attending physician niv was performed in several patients despite possible contraindications ie haemodynamic instability and mods of patients indeed the multivariate analysis identified haemodynamic stability and presentation with chest xray opacities in fewer than two quadrants as independent factors associated with niv success although vasopressor use per se is not an absolute contraindication for niv data on vasopressor dosage and lactate levels could have better clarified this aspect based on the severity of illness of several patients undergoing niv one of the main messages of the present study could be that niv should not be offered to critically ill patients with acute respiratory failure complicating viral pneumonia and other severe acute organ failureshowever a key question is what happens to patients who fail niv and must be intubated and invasively ventilated and whether the delay is really detrimental to their clinical outcome some studies have reported an increasing risk of complications and worse prognosis in hypoxaemic patients intubated after niv failure in our series our comparison of invasively ventilated patients after niv failure with those initially intubated and invasively ventilated presented a similar mortality we found no differences between the two populationsthe main limitation of this study was its observational design it is a secondary study of a database in which niv was not implemented with a standardized protocol first no data were provided on the severity of acute respiratory failure in the patients included in the study for instance respiratory rate pao fio paco ph it is different to use niv at an early stage of respiratory failure for instance when the pao fio ratio is or a late stage of arf in patients presenting with intubation criteria the lack of these data does not allow comparison of this study with previous studies dealing with hypoxaemic respiratory failure moreover icu admission and intubation criteria were not standardized delay time of intubation after niv failure was not recorded for the same reasons niv techniques and ventilation protocols are not reported again comparison with previous studies is not possible in addition we cannot exclude that the lack of statistical difference in incidence of ventilatorassociated pneumonia between patients intubated from the beginning and those intubated after niv failure is the result of a lack of power of the current sample size in patients at risk of failure with niv methods used to optimize niv are not reported another limitation is the selfreporting by sites which introduces the risk of selection bias healthcare workers were not prospectively assessed with followup serologies and the safety of the procedure should be investigated although no official notification of nosocomially transmitted cases has been reported using this therapy the technique must be applied using the security measures recommended by the cdc guidelines and many scientific societies in spite of recommendations against its use and these limitations clinicians used niv in nearly half of this large multicentre cohort and in a significant proportion it was successful suggesting that patients with severe acute respiratory infection can take benefit from early noninvasive oxygenation techniques a randomized clinical trial is warranted to determine which patients may benefit from these techniques to improve prognosis and to help reduce healthcare costsin conclusion clinicians used niv in of patients with influenza a viral pneumonia admitted to icu and treatment was effective in of them niv was successful in patients who presented with fewer than two chest xray opacities with haemodynamic stability and sofa score niv failure was associated with a mortality similar to that in patients who were intubated from the startdrs masclans and rello contributed to the conception and design of this study acquisition of data analysis and interpretation of data and manuscript preparation both are guarantors of the paper taking responsibility for the integrity of the work as a whole drs socias marques vidaur lorente and almirall contributed to the acquisition of data analysis and interpretation of data and manuscript preparation investigators from icus of gteisemyciuc contributed to the acquisition of data and are listed in the appendix in addition dr perez was specifically responsible for statistical analysisthe authors have reported that no potential conflicts of interest exist with any companiesorganizations whose products or services may be discussed in this article administrative support logistics and storage of data were funded by resources assigned to node director jordi rello of ciberes centro de investigacion respiratoria en red en enfermedades respiratorias instituto de salud carlos iii madrid spain being part of pci neumoniaciberes and its own research group indeed the generous dedication of thiago lisboa sandra trefler mireia llaurado and rosi luque salary funded by node of ciberes and alejandro rodriguez salary funded by institut catala de la salut during the peak of the pandemic is greatly appreciated'"
            ],
            "application/vnd.google.colaboratory.intrinsic+json": {
              "type": "string"
            }
          },
          "metadata": {},
          "execution_count": 10
        }
      ]
    },
    {
      "cell_type": "markdown",
      "source": [
        "## Saving Corpus in Drive"
      ],
      "metadata": {
        "id": "vFdiIg2xVz45"
      }
    },
    {
      "cell_type": "code",
      "source": [
        "corpora = \"\\n\".join(text)\n",
        "with open(\"/content/drive/MyDrive/corpora.txt\", \"w\") as f:\n",
        "    f.write(corpora)"
      ],
      "metadata": {
        "id": "CmC624D74inU"
      },
      "execution_count": null,
      "outputs": []
    },
    {
      "cell_type": "code",
      "source": [
        "import gc\n",
        "del corpora, text, data\n",
        "gc.collect()"
      ],
      "metadata": {
        "colab": {
          "base_uri": "https://localhost:8080/"
        },
        "id": "l6bJ8EllwlhD",
        "outputId": "d7602dd7-0c41-4dab-8660-bb537e3af4ce"
      },
      "execution_count": null,
      "outputs": [
        {
          "output_type": "execute_result",
          "data": {
            "text/plain": [
              "0"
            ]
          },
          "metadata": {},
          "execution_count": 12
        }
      ]
    },
    {
      "cell_type": "markdown",
      "source": [
        "Due to memory crashing repeatedly, variables no longer required have been cleared from memory"
      ],
      "metadata": {
        "id": "qhB2cHQdN5AK"
      }
    },
    {
      "cell_type": "code",
      "source": [
        "with open(\"/content/drive/MyDrive/corpora.txt\", \"r\") as f:\n",
        "    content = f.readlines()"
      ],
      "metadata": {
        "id": "PGxAznVWvD2B"
      },
      "execution_count": null,
      "outputs": []
    },
    {
      "cell_type": "code",
      "source": [
        "content[1]"
      ],
      "metadata": {
        "colab": {
          "base_uri": "https://localhost:8080/",
          "height": 209
        },
        "id": "3V75bDfI0wnG",
        "outputId": "2efdf31b-3aa9-4a3e-8679-848c8b9afc8b"
      },
      "execution_count": null,
      "outputs": [
        {
          "output_type": "execute_result",
          "data": {
            "text/plain": [
              "'in the last decade two viral pandemics have had a significant impact on worldwide health resulting mainly in severe acute respiratory failure arf the first was the severe acute respiratory syndrome or sars in a virulent clinical entity with a high mortality rate the second was influenza a in which according to the who report caused more than deaths within the first seasonthe use of noninvasive ventilation niv in adults has proved effective in treating chronic obstructive pulmonary disease exacerbation cardiogenic pulmonary oedema and arf in immunocompromised patients in these patients niv has achieved significant reductions in the rate of endotracheal intubation and ventilatorassociated complications and has improved survival rates nevertheless some metaanalyses argue against the use of niv in arf because it offers no advantages over conventional ventilation moreover delaying intubation in hypoxaemic intubated patients with pneumonia may increase the risk of complications early use of niv in ards caused by viral pneumonia is controversial we tried to assess when clinicians used this technique and whether it was successful performing a secondary analysis of the gteisemicyuc grupo de trabajo de enfermedades infecciosassociedad de medicina intensiva y unidades coronarias registry a large cohort of patients admitted to intensive care units icus for respiratory failure caused by pandemic influenza a pneumonia secondary objectives were to assess if niv use might increase mortality if intubation was subsequently required and if in some patients niv could be predicted to be more successful we hypothesized that the use of niv in patients with arf because of pandemic viral pneumonia might be effective in some cases and might avoid the need for invasive mechanical ventilationdata for this study were obtained from a voluntary registry created by node director jordi rello of ciberes pci neumonia and recruited by investigators of the gtei semicyuc study group coordinator rafael zaragoza in inclusion criteria were adult viral pneumonia patients aged over years febrile acute illness respiratory symptoms such as cough sore throat myalgia or influenzalike illness arf conventional oxygen therapy to maintain spo requiring icu admission and microbiological confirmation of pandemic influenza a by realtime pcr data were reported by the attending physician reviewing medical charts and radiological and laboratory records within the first h after icu admission patients with exacerbations of chronic obstructive pulmonary disease acute pulmonary oedema acute asthma and those already intubated at icu admission or using niv for palliative use or rescue therapy were excluded from the analysis the study was approved by the institutional review board of joan xxiii university hospital tarragona spain patient identification remained anonymous and the requirement for informed consent was waived because of the observational nature of the study the icu admission criteria and treatment decisions for all patients including determination of the need for intubation and type of antibiotic and antiviral therapy administered were not standardized and were made by the attending physiciannasopharyngealswab specimens were collected at admission and respiratory secretions were also obtained in intubated patients reverse transcriptionpcr testing was performed in accordance with the cdc protocol http testing was performed at each institution or centralized in a reference laboratory when not available a confirmed case was defined as an acute respiratory illness with laboratoryconfirmed pandemic virus infection by realtime reverse transcriptionpcr or viral culture only confirmed cases were included in the current studythe following information was recorded demographic data comorbidities times of illness onset and hospital admission time to first dose of antiviral delivery microbiological findings and chest xray findings at icu admission intubation and mechanical ventilation requirements invasive and noninvasive medical complications during icu stay and laboratory findings at icu admission were also recorded chronic obstructive pulmonary disease was defined as a disease state characterized by the presence of airflow limitation because of chronic bronchitis or emphysema the airflow obstruction could be accompanied by airway hyperreactivity and could be partially reversible to determine the severity of illness the acute physiology and chronic health evaluation apache ii score was recorded in all patients within h of icu admission in addition organ failure was assessed using the sequential organ failure assessment sofa scoring system definition of communityacquired pneumonia was based on current american thoracic society and infectious disease society of america guidelines primary viral pneumonia was defined in patients in the acute phase of influenza virus illness who presented with acute respiratory distress and unequivocal alveolar opacities with negative respiratory and blood bacterial cultures secondary bacterial pneumonia was considered in patients with confirmation of influenza virus infection who showed recurrence of fever increase in cough and production of purulent sputum plus positive bacterial respiratory or blood cultures respiratory cultures were based on tracheal aspirates obtained immediately after intubation acute renal failure was defined as the need for renal replacement therapy in accordance with the international consensus conference criteria we have defined comorbidities as the pathological antecedents of each patient and antiviral gap as time of delay between the onset of symptoms and the start of antiviral treatment multiple organ dysfunction syndrome mods and shock were defined following international criteria niv was always used for arf at an early stage failure of niv was defined if the patient was intubated and invasively ventilated after an niv trial when spo or important respiratory work appeareddata were analysed using spss software chicago il usa data are expressed as frequency percentage or median interquartile range for univariate analysis of the qualitative variables the chisquared and fisher tests were used quantitative variables were analysed by comparison of means with the students t test stepwise multivariate analysis was performed with logistic regression taking the variables which had p values in the univariate analysis or others with a special clinical interest chronic obstructive pulmonary disease or heart failure as dependent variables a p value of or less was considered to be statistically significantin all adults with pandemic influenza a viral pneumonia were admitted to the icus fig shows the distribution of the study population depending on the ventilation provided baseline characteristics of noninvasively ventilated patients compared with other subgroups are briefly described in table compared with nonventilated subjects patients with successful niv presented more comorbidities versus p a higher lactate dehydrogenase versus youl p and creatine kianse versus youl p levels as well as longer icu stay versus days p table an niv trial was successful in patients but failed in who required intubation and invasive mechanical ventilation hence of the patients who underwent intubation were intubated and ventilated from the beginning and were intubated and ventilated after niv failure therefore of ventilated patients admitted to the icu for influenza a pneumonia benefited from nivlower apache ii score median versus p lower sofa score median versus p the presence of fewer than two chest xray quadrant opacities haemodynamic stability analysed as the absence of the need for vasopressors and the absence of acute renal failure or mods were associated with niv success table these patients required shorter mechanical ventilation time median versus days p shorter icu stay versus days p and shorter hospital stay versus days p than patients with niv failure multivariate analysis table demonstrated that niv success was associated with the presence of fewer than two chest xray quadrant opacities or and no vasopressor requirement or moreover when we compared the subset of noninvasively ventilated patients with two or more quadrant opacities for those with a sofa score versus those with a sofa the success rate increased from to or ci whereas when the sofa score was the success rate became ci no differences were found comparing invasively ventilated patients after niv failure with those initially submitted to orotracheal intubation and invasively ventilated with regard to apache ii and sofa scores radiographic infiltrates proportion of shock or ventilatorassociated pneumonia icu and hospital stay or mortalityto study the possible association of complications with delay in intubation in niv failure patients we compared these patients intubated because of niv failure with those intubated at icu admission but they did not show significantly different rates of ventilatorassociated pneumonia versus over twothirds of the ventilatorassociated pneumonia episodes were caused by pseudomonas aeruginosa acinetobacter baumannii or methicillinresistant staphylococcus aureus mortality rates in icu were similar in patients who failed niv and in those who were intubated and invasively ventilated from the beginning or ci p lengths of icu stay and of hospital stay were also similar in both groups this is the first large multicentre cohort study to suggest that arf in some patients with viral influenza a pneumonia may respond to niv therapy patients with only one radiological quadrant opacity haemodynamic stability plus a sofa score were more likely to have a positive response to this treatment moreover in patients with niv failure delayed intubation because of a trial of noninvasive mechanical ventilation did not increase mortality the use of niv by clinicians in this large cohort of patients with severe acute respiratory infection is provocative contrasting with the recommendations in many guidelines probably based on a previous study during the severe acute respiratory syndrome pandemic the european society of intensive care medicine esicm the british thoracic society and who include niv as a highrisk procedure for disease transmission in arf caused by influenza a although it has been shown that intubation is associated with a higher risk of viral particle transmission during severe acute respiratory syndrome nonetheless some reports suggest that niv can be used in the management of some specific clinical cases of respiratory failure in this cohort clinicians used niv in of ventilated patients corresponding to of all patients admitted to icus with influenza a pneumonia these values are comparable to other series with an average of reported cases of around ranging from to of all ventilated patients with and without pneumonia overall these reports include a total of niv patients only three of these series with a total of patients assessed the efficacy of niv reporting it to be around ranging from to none of these studies was designed with the purpose of studying only the role of niv so heterogeneity and lack of standardized criteria to start niv is obviously a weaknesstreatment decisions were not standardized and were made by the attending physician niv was performed in several patients despite possible contraindications ie haemodynamic instability and mods of patients indeed the multivariate analysis identified haemodynamic stability and presentation with chest xray opacities in fewer than two quadrants as independent factors associated with niv success although vasopressor use per se is not an absolute contraindication for niv data on vasopressor dosage and lactate levels could have better clarified this aspect based on the severity of illness of several patients undergoing niv one of the main messages of the present study could be that niv should not be offered to critically ill patients with acute respiratory failure complicating viral pneumonia and other severe acute organ failureshowever a key question is what happens to patients who fail niv and must be intubated and invasively ventilated and whether the delay is really detrimental to their clinical outcome some studies have reported an increasing risk of complications and worse prognosis in hypoxaemic patients intubated after niv failure in our series our comparison of invasively ventilated patients after niv failure with those initially intubated and invasively ventilated presented a similar mortality we found no differences between the two populationsthe main limitation of this study was its observational design it is a secondary study of a database in which niv was not implemented with a standardized protocol first no data were provided on the severity of acute respiratory failure in the patients included in the study for instance respiratory rate pao fio paco ph it is different to use niv at an early stage of respiratory failure for instance when the pao fio ratio is or a late stage of arf in patients presenting with intubation criteria the lack of these data does not allow comparison of this study with previous studies dealing with hypoxaemic respiratory failure moreover icu admission and intubation criteria were not standardized delay time of intubation after niv failure was not recorded for the same reasons niv techniques and ventilation protocols are not reported again comparison with previous studies is not possible in addition we cannot exclude that the lack of statistical difference in incidence of ventilatorassociated pneumonia between patients intubated from the beginning and those intubated after niv failure is the result of a lack of power of the current sample size in patients at risk of failure with niv methods used to optimize niv are not reported another limitation is the selfreporting by sites which introduces the risk of selection bias healthcare workers were not prospectively assessed with followup serologies and the safety of the procedure should be investigated although no official notification of nosocomially transmitted cases has been reported using this therapy the technique must be applied using the security measures recommended by the cdc guidelines and many scientific societies in spite of recommendations against its use and these limitations clinicians used niv in nearly half of this large multicentre cohort and in a significant proportion it was successful suggesting that patients with severe acute respiratory infection can take benefit from early noninvasive oxygenation techniques a randomized clinical trial is warranted to determine which patients may benefit from these techniques to improve prognosis and to help reduce healthcare costsin conclusion clinicians used niv in of patients with influenza a viral pneumonia admitted to icu and treatment was effective in of them niv was successful in patients who presented with fewer than two chest xray opacities with haemodynamic stability and sofa score niv failure was associated with a mortality similar to that in patients who were intubated from the startdrs masclans and rello contributed to the conception and design of this study acquisition of data analysis and interpretation of data and manuscript preparation both are guarantors of the paper taking responsibility for the integrity of the work as a whole drs socias marques vidaur lorente and almirall contributed to the acquisition of data analysis and interpretation of data and manuscript preparation investigators from icus of gteisemyciuc contributed to the acquisition of data and are listed in the appendix in addition dr perez was specifically responsible for statistical analysisthe authors have reported that no potential conflicts of interest exist with any companiesorganizations whose products or services may be discussed in this article administrative support logistics and storage of data were funded by resources assigned to node director jordi rello of ciberes centro de investigacion respiratoria en red en enfermedades respiratorias instituto de salud carlos iii madrid spain being part of pci neumoniaciberes and its own research group indeed the generous dedication of thiago lisboa sandra trefler mireia llaurado and rosi luque salary funded by node of ciberes and alejandro rodriguez salary funded by institut catala de la salut during the peak of the pandemic is greatly appreciated\\n'"
            ],
            "application/vnd.google.colaboratory.intrinsic+json": {
              "type": "string"
            }
          },
          "metadata": {},
          "execution_count": 7
        }
      ]
    },
    {
      "cell_type": "code",
      "source": [
        "content = list(map(lambda text: text.strip(), content)) # removing \\n from corpus "
      ],
      "metadata": {
        "id": "2zie90mM0u8O"
      },
      "execution_count": null,
      "outputs": []
    },
    {
      "cell_type": "code",
      "source": [
        "content[1]"
      ],
      "metadata": {
        "colab": {
          "base_uri": "https://localhost:8080/"
        },
        "id": "aEs1B2bA3GLR",
        "outputId": "3632f174-d6c4-463e-a922-e477c980738a"
      },
      "execution_count": null,
      "outputs": [
        {
          "output_type": "execute_result",
          "data": {
            "text/plain": [
              "'in the last decade two viral pandemics have had a significant impact on worldwide health resulting mainly in severe acute respiratory failure arf the first was the severe acute respiratory syndrome or sars in a virulent clinical entity with a high mortality rate the second was influenza a in which according to the who report caused more than deaths within the first seasonthe use of noninvasive ventilation niv in adults has proved effective in treating chronic obstructive pulmonary disease exacerbation cardiogenic pulmonary oedema and arf in immunocompromised patients in these patients niv has achieved significant reductions in the rate of endotracheal intubation and ventilatorassociated complications and has improved survival rates nevertheless some metaanalyses argue against the use of niv in arf because it offers no advantages over conventional ventilation moreover delaying intubation in hypoxaemic intubated patients with pneumonia may increase the risk of complications early use of niv in ards caused by viral pneumonia is controversial we tried to assess when clinicians used this technique and whether it was successful performing a secondary analysis of the gteisemicyuc grupo de trabajo de enfermedades infecciosassociedad de medicina intensiva y unidades coronarias registry a large cohort of patients admitted to intensive care units icus for respiratory failure caused by pandemic influenza a pneumonia secondary objectives were to assess if niv use might increase mortality if intubation was subsequently required and if in some patients niv could be predicted to be more successful we hypothesized that the use of niv in patients with arf because of pandemic viral pneumonia might be effective in some cases and might avoid the need for invasive mechanical ventilationdata for this study were obtained from a voluntary registry created by node director jordi rello of ciberes pci neumonia and recruited by investigators of the gtei semicyuc study group coordinator rafael zaragoza in inclusion criteria were adult viral pneumonia patients aged over years febrile acute illness respiratory symptoms such as cough sore throat myalgia or influenzalike illness arf conventional oxygen therapy to maintain spo requiring icu admission and microbiological confirmation of pandemic influenza a by realtime pcr data were reported by the attending physician reviewing medical charts and radiological and laboratory records within the first h after icu admission patients with exacerbations of chronic obstructive pulmonary disease acute pulmonary oedema acute asthma and those already intubated at icu admission or using niv for palliative use or rescue therapy were excluded from the analysis the study was approved by the institutional review board of joan xxiii university hospital tarragona spain patient identification remained anonymous and the requirement for informed consent was waived because of the observational nature of the study the icu admission criteria and treatment decisions for all patients including determination of the need for intubation and type of antibiotic and antiviral therapy administered were not standardized and were made by the attending physiciannasopharyngealswab specimens were collected at admission and respiratory secretions were also obtained in intubated patients reverse transcriptionpcr testing was performed in accordance with the cdc protocol http testing was performed at each institution or centralized in a reference laboratory when not available a confirmed case was defined as an acute respiratory illness with laboratoryconfirmed pandemic virus infection by realtime reverse transcriptionpcr or viral culture only confirmed cases were included in the current studythe following information was recorded demographic data comorbidities times of illness onset and hospital admission time to first dose of antiviral delivery microbiological findings and chest xray findings at icu admission intubation and mechanical ventilation requirements invasive and noninvasive medical complications during icu stay and laboratory findings at icu admission were also recorded chronic obstructive pulmonary disease was defined as a disease state characterized by the presence of airflow limitation because of chronic bronchitis or emphysema the airflow obstruction could be accompanied by airway hyperreactivity and could be partially reversible to determine the severity of illness the acute physiology and chronic health evaluation apache ii score was recorded in all patients within h of icu admission in addition organ failure was assessed using the sequential organ failure assessment sofa scoring system definition of communityacquired pneumonia was based on current american thoracic society and infectious disease society of america guidelines primary viral pneumonia was defined in patients in the acute phase of influenza virus illness who presented with acute respiratory distress and unequivocal alveolar opacities with negative respiratory and blood bacterial cultures secondary bacterial pneumonia was considered in patients with confirmation of influenza virus infection who showed recurrence of fever increase in cough and production of purulent sputum plus positive bacterial respiratory or blood cultures respiratory cultures were based on tracheal aspirates obtained immediately after intubation acute renal failure was defined as the need for renal replacement therapy in accordance with the international consensus conference criteria we have defined comorbidities as the pathological antecedents of each patient and antiviral gap as time of delay between the onset of symptoms and the start of antiviral treatment multiple organ dysfunction syndrome mods and shock were defined following international criteria niv was always used for arf at an early stage failure of niv was defined if the patient was intubated and invasively ventilated after an niv trial when spo or important respiratory work appeareddata were analysed using spss software chicago il usa data are expressed as frequency percentage or median interquartile range for univariate analysis of the qualitative variables the chisquared and fisher tests were used quantitative variables were analysed by comparison of means with the students t test stepwise multivariate analysis was performed with logistic regression taking the variables which had p values in the univariate analysis or others with a special clinical interest chronic obstructive pulmonary disease or heart failure as dependent variables a p value of or less was considered to be statistically significantin all adults with pandemic influenza a viral pneumonia were admitted to the icus fig shows the distribution of the study population depending on the ventilation provided baseline characteristics of noninvasively ventilated patients compared with other subgroups are briefly described in table compared with nonventilated subjects patients with successful niv presented more comorbidities versus p a higher lactate dehydrogenase versus youl p and creatine kianse versus youl p levels as well as longer icu stay versus days p table an niv trial was successful in patients but failed in who required intubation and invasive mechanical ventilation hence of the patients who underwent intubation were intubated and ventilated from the beginning and were intubated and ventilated after niv failure therefore of ventilated patients admitted to the icu for influenza a pneumonia benefited from nivlower apache ii score median versus p lower sofa score median versus p the presence of fewer than two chest xray quadrant opacities haemodynamic stability analysed as the absence of the need for vasopressors and the absence of acute renal failure or mods were associated with niv success table these patients required shorter mechanical ventilation time median versus days p shorter icu stay versus days p and shorter hospital stay versus days p than patients with niv failure multivariate analysis table demonstrated that niv success was associated with the presence of fewer than two chest xray quadrant opacities or and no vasopressor requirement or moreover when we compared the subset of noninvasively ventilated patients with two or more quadrant opacities for those with a sofa score versus those with a sofa the success rate increased from to or ci whereas when the sofa score was the success rate became ci no differences were found comparing invasively ventilated patients after niv failure with those initially submitted to orotracheal intubation and invasively ventilated with regard to apache ii and sofa scores radiographic infiltrates proportion of shock or ventilatorassociated pneumonia icu and hospital stay or mortalityto study the possible association of complications with delay in intubation in niv failure patients we compared these patients intubated because of niv failure with those intubated at icu admission but they did not show significantly different rates of ventilatorassociated pneumonia versus over twothirds of the ventilatorassociated pneumonia episodes were caused by pseudomonas aeruginosa acinetobacter baumannii or methicillinresistant staphylococcus aureus mortality rates in icu were similar in patients who failed niv and in those who were intubated and invasively ventilated from the beginning or ci p lengths of icu stay and of hospital stay were also similar in both groups this is the first large multicentre cohort study to suggest that arf in some patients with viral influenza a pneumonia may respond to niv therapy patients with only one radiological quadrant opacity haemodynamic stability plus a sofa score were more likely to have a positive response to this treatment moreover in patients with niv failure delayed intubation because of a trial of noninvasive mechanical ventilation did not increase mortality the use of niv by clinicians in this large cohort of patients with severe acute respiratory infection is provocative contrasting with the recommendations in many guidelines probably based on a previous study during the severe acute respiratory syndrome pandemic the european society of intensive care medicine esicm the british thoracic society and who include niv as a highrisk procedure for disease transmission in arf caused by influenza a although it has been shown that intubation is associated with a higher risk of viral particle transmission during severe acute respiratory syndrome nonetheless some reports suggest that niv can be used in the management of some specific clinical cases of respiratory failure in this cohort clinicians used niv in of ventilated patients corresponding to of all patients admitted to icus with influenza a pneumonia these values are comparable to other series with an average of reported cases of around ranging from to of all ventilated patients with and without pneumonia overall these reports include a total of niv patients only three of these series with a total of patients assessed the efficacy of niv reporting it to be around ranging from to none of these studies was designed with the purpose of studying only the role of niv so heterogeneity and lack of standardized criteria to start niv is obviously a weaknesstreatment decisions were not standardized and were made by the attending physician niv was performed in several patients despite possible contraindications ie haemodynamic instability and mods of patients indeed the multivariate analysis identified haemodynamic stability and presentation with chest xray opacities in fewer than two quadrants as independent factors associated with niv success although vasopressor use per se is not an absolute contraindication for niv data on vasopressor dosage and lactate levels could have better clarified this aspect based on the severity of illness of several patients undergoing niv one of the main messages of the present study could be that niv should not be offered to critically ill patients with acute respiratory failure complicating viral pneumonia and other severe acute organ failureshowever a key question is what happens to patients who fail niv and must be intubated and invasively ventilated and whether the delay is really detrimental to their clinical outcome some studies have reported an increasing risk of complications and worse prognosis in hypoxaemic patients intubated after niv failure in our series our comparison of invasively ventilated patients after niv failure with those initially intubated and invasively ventilated presented a similar mortality we found no differences between the two populationsthe main limitation of this study was its observational design it is a secondary study of a database in which niv was not implemented with a standardized protocol first no data were provided on the severity of acute respiratory failure in the patients included in the study for instance respiratory rate pao fio paco ph it is different to use niv at an early stage of respiratory failure for instance when the pao fio ratio is or a late stage of arf in patients presenting with intubation criteria the lack of these data does not allow comparison of this study with previous studies dealing with hypoxaemic respiratory failure moreover icu admission and intubation criteria were not standardized delay time of intubation after niv failure was not recorded for the same reasons niv techniques and ventilation protocols are not reported again comparison with previous studies is not possible in addition we cannot exclude that the lack of statistical difference in incidence of ventilatorassociated pneumonia between patients intubated from the beginning and those intubated after niv failure is the result of a lack of power of the current sample size in patients at risk of failure with niv methods used to optimize niv are not reported another limitation is the selfreporting by sites which introduces the risk of selection bias healthcare workers were not prospectively assessed with followup serologies and the safety of the procedure should be investigated although no official notification of nosocomially transmitted cases has been reported using this therapy the technique must be applied using the security measures recommended by the cdc guidelines and many scientific societies in spite of recommendations against its use and these limitations clinicians used niv in nearly half of this large multicentre cohort and in a significant proportion it was successful suggesting that patients with severe acute respiratory infection can take benefit from early noninvasive oxygenation techniques a randomized clinical trial is warranted to determine which patients may benefit from these techniques to improve prognosis and to help reduce healthcare costsin conclusion clinicians used niv in of patients with influenza a viral pneumonia admitted to icu and treatment was effective in of them niv was successful in patients who presented with fewer than two chest xray opacities with haemodynamic stability and sofa score niv failure was associated with a mortality similar to that in patients who were intubated from the startdrs masclans and rello contributed to the conception and design of this study acquisition of data analysis and interpretation of data and manuscript preparation both are guarantors of the paper taking responsibility for the integrity of the work as a whole drs socias marques vidaur lorente and almirall contributed to the acquisition of data analysis and interpretation of data and manuscript preparation investigators from icus of gteisemyciuc contributed to the acquisition of data and are listed in the appendix in addition dr perez was specifically responsible for statistical analysisthe authors have reported that no potential conflicts of interest exist with any companiesorganizations whose products or services may be discussed in this article administrative support logistics and storage of data were funded by resources assigned to node director jordi rello of ciberes centro de investigacion respiratoria en red en enfermedades respiratorias instituto de salud carlos iii madrid spain being part of pci neumoniaciberes and its own research group indeed the generous dedication of thiago lisboa sandra trefler mireia llaurado and rosi luque salary funded by node of ciberes and alejandro rodriguez salary funded by institut catala de la salut during the peak of the pandemic is greatly appreciated'"
            ],
            "application/vnd.google.colaboratory.intrinsic+json": {
              "type": "string"
            }
          },
          "metadata": {},
          "execution_count": 9
        }
      ]
    },
    {
      "cell_type": "markdown",
      "source": [
        "## Vocabulary"
      ],
      "metadata": {
        "id": "RHgHop5RV9fx"
      }
    },
    {
      "cell_type": "markdown",
      "source": [
        "The sentences are padded with start and end tag"
      ],
      "metadata": {
        "id": "m_gMHe21OEF6"
      }
    },
    {
      "cell_type": "code",
      "source": [
        "def padding(text):\n",
        "    sent = '<s> ' + str(text)+ ' </s>'\n",
        "    return sent"
      ],
      "metadata": {
        "id": "REU1-XhQ5-Oh"
      },
      "execution_count": null,
      "outputs": []
    },
    {
      "cell_type": "code",
      "source": [
        "def vocab_count(corp):\n",
        "  corp = list(map(padding,corp))\n",
        "  count={}\n",
        "  for sen in corp:\n",
        "    for word in sen.split(' '):\n",
        "      if word not in count.keys():\n",
        "        count[word]=1\n",
        "      else:\n",
        "        count[word]+=1\n",
        "  return count,len(count)"
      ],
      "metadata": {
        "id": "EzkzwO5jkcY9"
      },
      "execution_count": null,
      "outputs": []
    },
    {
      "cell_type": "code",
      "source": [
        "vocab_50,vocab_50_count=vocab_count(content)"
      ],
      "metadata": {
        "id": "WHCvHEYWxoXo"
      },
      "execution_count": null,
      "outputs": []
    },
    {
      "cell_type": "code",
      "source": [
        "vocab_50_count"
      ],
      "metadata": {
        "colab": {
          "base_uri": "https://localhost:8080/"
        },
        "id": "xNbvDWmFyg7t",
        "outputId": "8464d01a-bbeb-4b06-979e-8d09a88d0a48"
      },
      "execution_count": null,
      "outputs": [
        {
          "output_type": "execute_result",
          "data": {
            "text/plain": [
              "1653831"
            ]
          },
          "metadata": {},
          "execution_count": 13
        }
      ]
    },
    {
      "cell_type": "markdown",
      "source": [
        "The vocabulary size for corpus of size 50000 is 1653831. "
      ],
      "metadata": {
        "id": "86l2DQcM0xzP"
      }
    },
    {
      "cell_type": "code",
      "source": [
        "vocab_10,vocab_10_count=vocab_count(content[:10000])"
      ],
      "metadata": {
        "id": "nyM-1Sh9xzMd"
      },
      "execution_count": null,
      "outputs": []
    },
    {
      "cell_type": "code",
      "source": [
        "vocab_10_count"
      ],
      "metadata": {
        "colab": {
          "base_uri": "https://localhost:8080/"
        },
        "id": "hwPdUzG0-Nu7",
        "outputId": "6e0ef7a7-35c7-43a3-8a43-4f1e34427ade"
      },
      "execution_count": null,
      "outputs": [
        {
          "output_type": "execute_result",
          "data": {
            "text/plain": [
              "547503"
            ]
          },
          "metadata": {},
          "execution_count": 14
        }
      ]
    },
    {
      "cell_type": "markdown",
      "source": [
        "The vocabulary size for corpus of size 10000 is 547503"
      ],
      "metadata": {
        "id": "mdNCdhNZzUJz"
      }
    },
    {
      "cell_type": "code",
      "source": [
        "with open(\"/content/drive/MyDrive/vocab_50.txt\", \"w\") as f:\n",
        "     f.write(json.dumps(vocab_50))"
      ],
      "metadata": {
        "id": "TUjk9ZSJpwqa"
      },
      "execution_count": null,
      "outputs": []
    },
    {
      "cell_type": "code",
      "source": [
        "with open(\"/content/drive/MyDrive/vocab_10.txt\", \"w\") as f:\n",
        "     f.write(json.dumps(vocab_10))"
      ],
      "metadata": {
        "id": "tJz8viavzcZ-"
      },
      "execution_count": null,
      "outputs": []
    },
    {
      "cell_type": "code",
      "source": [
        "import gc\n",
        "del vocab_50_count,vocab_10_count,vocab_50,vocab_10\n",
        "gc.collect()"
      ],
      "metadata": {
        "colab": {
          "base_uri": "https://localhost:8080/"
        },
        "id": "XCufpg26zcmn",
        "outputId": "7179ed63-4842-4457-d143-101f3ec2284d"
      },
      "execution_count": null,
      "outputs": [
        {
          "output_type": "execute_result",
          "data": {
            "text/plain": [
              "0"
            ]
          },
          "metadata": {},
          "execution_count": 16
        }
      ]
    },
    {
      "cell_type": "markdown",
      "source": [
        "# Bigram & Trigram Model"
      ],
      "metadata": {
        "id": "j40N4O3JUl4H"
      }
    },
    {
      "cell_type": "markdown",
      "source": [
        "## Bigram Model"
      ],
      "metadata": {
        "id": "M0h4zH0Fl61B"
      }
    },
    {
      "cell_type": "code",
      "source": [
        "def bigram_model (text):\n",
        "    text = list(map(padding,text))   \n",
        "    bigram_freq = Counter()\n",
        "    for sentence in text:\n",
        "        words = sentence.split(' ')\n",
        "        for i in range(len(words)-1):\n",
        "            word_pair = (words[i],words[i+1])\n",
        "            bigram_freq[word_pair]+=1\n",
        "    return bigram_freq"
      ],
      "metadata": {
        "id": "kso6OuCrj1lD"
      },
      "execution_count": null,
      "outputs": []
    },
    {
      "cell_type": "code",
      "source": [
        "bi_model=bigram_model(content)"
      ],
      "metadata": {
        "id": "5__7U0SInyZr"
      },
      "execution_count": null,
      "outputs": []
    },
    {
      "cell_type": "code",
      "source": [
        "bi_model.most_common(10)"
      ],
      "metadata": {
        "id": "ijycjfPT3BU4",
        "colab": {
          "base_uri": "https://localhost:8080/"
        },
        "outputId": "acb80da2-d4da-4252-99e5-c9f179ae058f"
      },
      "execution_count": null,
      "outputs": [
        {
          "output_type": "execute_result",
          "data": {
            "text/plain": [
              "[(('of', 'the'), 1384639),\n",
              " (('in', 'the'), 1054897),\n",
              " (('to', 'the'), 514503),\n",
              " (('et', 'al'), 505727),\n",
              " (('and', 'the'), 370868),\n",
              " (('on', 'the'), 296200),\n",
              " (('for', 'the'), 293120),\n",
              " (('with', 'the'), 264445),\n",
              " (('to', 'be'), 245346),\n",
              " (('that', 'the'), 211801)]"
            ]
          },
          "metadata": {},
          "execution_count": 21
        }
      ]
    },
    {
      "cell_type": "markdown",
      "source": [
        "Saving bigram model in Drive"
      ],
      "metadata": {
        "id": "WC88zUuKOUyK"
      }
    },
    {
      "cell_type": "code",
      "source": [
        "with open(r\"/content/drive/MyDrive/Bigram_Model_50k.txt\",'w+') as f:\n",
        "  f.write(str(bi_model))"
      ],
      "metadata": {
        "id": "WLg2Sov8z_-r"
      },
      "execution_count": null,
      "outputs": []
    },
    {
      "cell_type": "code",
      "source": [
        "import pickle\n",
        "with open('/content/drive/MyDrive/Bigram_Model_50k.txt', 'wb') as f:\n",
        "            pickle.dump(dict(bi_model), f)"
      ],
      "metadata": {
        "id": "5wCDObpW2OAA"
      },
      "execution_count": null,
      "outputs": []
    },
    {
      "cell_type": "code",
      "source": [
        "bi_model_10k=bigram_model(content[:10000])"
      ],
      "metadata": {
        "id": "2yyoqJhx0ujq"
      },
      "execution_count": null,
      "outputs": []
    },
    {
      "cell_type": "code",
      "source": [
        "bi_model_10k.most_common(10)"
      ],
      "metadata": {
        "colab": {
          "base_uri": "https://localhost:8080/"
        },
        "id": "9koMqjTa00ab",
        "outputId": "6981eaf7-1a49-4a14-f931-1d1b8933733a"
      },
      "execution_count": null,
      "outputs": [
        {
          "output_type": "execute_result",
          "data": {
            "text/plain": [
              "[(('of', 'the'), 282592),\n",
              " (('in', 'the'), 214487),\n",
              " (('to', 'the'), 104874),\n",
              " (('et', 'al'), 99407),\n",
              " (('and', 'the'), 75389),\n",
              " (('on', 'the'), 60266),\n",
              " (('for', 'the'), 60214),\n",
              " (('with', 'the'), 54370),\n",
              " (('to', 'be'), 50162),\n",
              " (('that', 'the'), 43271)]"
            ]
          },
          "metadata": {},
          "execution_count": 19
        }
      ]
    },
    {
      "cell_type": "code",
      "source": [
        "import gc\n",
        "del bi_model\n",
        "gc.collect()"
      ],
      "metadata": {
        "colab": {
          "base_uri": "https://localhost:8080/"
        },
        "id": "qC8Jn5N53dXx",
        "outputId": "c4832fc3-7b31-4e04-f77e-a291495734fb"
      },
      "execution_count": null,
      "outputs": [
        {
          "output_type": "execute_result",
          "data": {
            "text/plain": [
              "719"
            ]
          },
          "metadata": {},
          "execution_count": 27
        }
      ]
    },
    {
      "cell_type": "code",
      "source": [
        "import pickle\n",
        "with open('/content/drive/MyDrive/Bigram_Model_10k.txt', 'wb') as f:\n",
        "            pickle.dump(dict(bi_model_10k), f)"
      ],
      "metadata": {
        "id": "x2LSWAej06om"
      },
      "execution_count": null,
      "outputs": []
    },
    {
      "cell_type": "code",
      "source": [
        "import gc\n",
        "del content,bi_model_10k\n",
        "gc.collect()"
      ],
      "metadata": {
        "colab": {
          "base_uri": "https://localhost:8080/"
        },
        "id": "ssr_JbKk3scE",
        "outputId": "21f3cf84-23bb-4c7c-ffb4-c56cabaf564d"
      },
      "execution_count": null,
      "outputs": [
        {
          "output_type": "execute_result",
          "data": {
            "text/plain": [
              "0"
            ]
          },
          "metadata": {},
          "execution_count": 21
        }
      ]
    },
    {
      "cell_type": "markdown",
      "source": [
        "### Computing Probability for next word using bigram model\n",
        "\n"
      ],
      "metadata": {
        "id": "wW383P-nWhuH"
      }
    },
    {
      "cell_type": "code",
      "source": [
        "import pickle\n",
        "with open(\"/content/drive/MyDrive/Bigram_Model_50k.txt\" , 'rb') as bi:\n",
        "    bigram = pickle.load(bi)"
      ],
      "metadata": {
        "id": "bEk5Ve7E3x9v"
      },
      "execution_count": null,
      "outputs": []
    },
    {
      "cell_type": "code",
      "source": [
        "from pathlib import Path\n",
        "vocab_50 = json.loads(Path(\"/content/drive/MyDrive/vocab_50.txt\").read_text())"
      ],
      "metadata": {
        "id": "mIxGXsK34d1z"
      },
      "execution_count": null,
      "outputs": []
    },
    {
      "cell_type": "code",
      "source": [
        "def predict_bigram_next_word(first_word):\n",
        "  prob_first_second={}\n",
        "  for keys in bigram.keys():\n",
        "    if keys[0]== first_word:\n",
        "      prob_first_second[keys]=(bigram[keys]+1)/(vocab_50[first_word]+len(vocab_50))\n",
        "  return Counter(prob_first_second)"
      ],
      "metadata": {
        "id": "pdbCoVzzr_iE"
      },
      "execution_count": null,
      "outputs": []
    },
    {
      "cell_type": "code",
      "source": [
        "predict_bigram_next_word('were').most_common(10)"
      ],
      "metadata": {
        "id": "v60hgv3qXrwA",
        "colab": {
          "base_uri": "https://localhost:8080/"
        },
        "outputId": "2988b1d5-bcc9-48ff-8026-c0c9eec80486"
      },
      "execution_count": null,
      "outputs": [
        {
          "output_type": "execute_result",
          "data": {
            "text/plain": [
              "[(('were', 'not'), 0.011101136090804252),\n",
              " (('were', 'used'), 0.010686431280836737),\n",
              " (('were', 'also'), 0.008229332117724641),\n",
              " (('were', 'performed'), 0.007927338278542086),\n",
              " (('were', 'found'), 0.0069923739399354295),\n",
              " (('were', 'collected'), 0.0066971785402605375),\n",
              " (('were', 'obtained'), 0.005596546965230276),\n",
              " (('were', 'observed'), 0.005123518700539116),\n",
              " (('were', 'identified'), 0.005063406182787138),\n",
              " (('were', 'detected'), 0.004509512269215342)]"
            ]
          },
          "metadata": {},
          "execution_count": 9
        }
      ]
    },
    {
      "cell_type": "code",
      "source": [
        "predict_bigram_next_word('integrated').most_common(10)"
      ],
      "metadata": {
        "id": "2PuO7EFwszdq",
        "colab": {
          "base_uri": "https://localhost:8080/"
        },
        "outputId": "e370f390-9513-47a8-d45f-37a1cbb39c33"
      },
      "execution_count": null,
      "outputs": [
        {
          "output_type": "execute_result",
          "data": {
            "text/plain": [
              "[(('integrated', 'into'), 0.0009600247841295115),\n",
              " (('integrated', 'with'), 0.0005007258723977565),\n",
              " (('integrated', 'in'), 0.00027738051924192266),\n",
              " (('integrated', 'and'), 0.00022454613462441356),\n",
              " (('integrated', 'dna'), 0.0001735129222097741),\n",
              " (('integrated', 'approach'), 0.00015850315385252723),\n",
              " (('integrated', 'the'), 0.00010987150437504728),\n",
              " (('integrated', 'to'), 0.00010086564336069914),\n",
              " (('integrated', 'care'), 9.065900087777126e-05),\n",
              " (('integrated', 'moving'), 7.805079545768387e-05)]"
            ]
          },
          "metadata": {},
          "execution_count": 10
        }
      ]
    },
    {
      "cell_type": "code",
      "source": [
        "predict_bigram_next_word('treatment').most_common(10)"
      ],
      "metadata": {
        "id": "w0Z5Ips1s9wl",
        "colab": {
          "base_uri": "https://localhost:8080/"
        },
        "outputId": "d1bebe87-dd63-4d82-db60-09fcbc682df5"
      },
      "execution_count": null,
      "outputs": [
        {
          "output_type": "execute_result",
          "data": {
            "text/plain": [
              "[(('treatment', 'of'), 0.019140245173176886),\n",
              " (('treatment', 'with'), 0.007537260522482551),\n",
              " (('treatment', 'and'), 0.005373807747620392),\n",
              " (('treatment', 'for'), 0.0044400841657130825),\n",
              " (('treatment', 'in'), 0.0032489880580236293),\n",
              " (('treatment', 'is'), 0.0025345480445945513),\n",
              " (('treatment', 'was'), 0.0021204666659048873),\n",
              " (('treatment', 'the'), 0.001947978102114318),\n",
              " (('treatment', 'group'), 0.0011296096480417107),\n",
              " (('treatment', 'or'), 0.0010757409798547504)]"
            ]
          },
          "metadata": {},
          "execution_count": 11
        }
      ]
    },
    {
      "cell_type": "code",
      "source": [
        "predict_bigram_next_word('health').most_common(10)"
      ],
      "metadata": {
        "id": "d-Mkb18n4ar9",
        "colab": {
          "base_uri": "https://localhost:8080/"
        },
        "outputId": "3591a6ff-a3ff-4db5-b76d-4c4ad4f4d2a4"
      },
      "execution_count": null,
      "outputs": [
        {
          "output_type": "execute_result",
          "data": {
            "text/plain": [
              "[(('health', 'care'), 0.012729269916687777),\n",
              " (('health', 'and'), 0.009255150755828497),\n",
              " (('health', 'organization'), 0.004969222657243689),\n",
              " (('health', 'system'), 0.0026834648534327884),\n",
              " (('health', 'services'), 0.0024311958871167773),\n",
              " (('health', 'of'), 0.002156185693229302),\n",
              " (('health', 'systems'), 0.002101183654451807),\n",
              " (('health', 'emergency'), 0.0016770333169561238),\n",
              " (('health', 'professionals'), 0.001601934379394544),\n",
              " (('health', 'authorities'), 0.001557509655766567)]"
            ]
          },
          "metadata": {},
          "execution_count": 12
        }
      ]
    },
    {
      "cell_type": "code",
      "source": [
        "predict_bigram_next_word('in').most_common(10)"
      ],
      "metadata": {
        "id": "m8aE7p2k4bxy",
        "colab": {
          "base_uri": "https://localhost:8080/"
        },
        "outputId": "2d4cf962-c8f7-416d-db32-50ff1d2aaf62"
      },
      "execution_count": null,
      "outputs": [
        {
          "output_type": "execute_result",
          "data": {
            "text/plain": [
              "[(('in', 'the'), 0.16794224902623878),\n",
              " (('in', 'a'), 0.03144294330772192),\n",
              " (('in', 'this'), 0.021148282031434824),\n",
              " (('in', 'addition'), 0.011959917940736604),\n",
              " (('in', 'patients'), 0.01172557206979304),\n",
              " (('in', 'our'), 0.007692339532779288),\n",
              " (('in', 'which'), 0.007223170183818226),\n",
              " (('in', 'order'), 0.006825801098305227),\n",
              " (('in', 'vitro'), 0.00599810803917779),\n",
              " (('in', 'an'), 0.005768060631899631)]"
            ]
          },
          "metadata": {},
          "execution_count": 13
        }
      ]
    },
    {
      "cell_type": "markdown",
      "source": [
        "The spaces are filled up  using bigram model. The word with highest probability for the word preceeding the space is used. \n",
        "\n",
        "all houses were *not* ventilated \\\n",
        "it aims to develop an integrated *into* to reach mmps exposed \\\n",
        "to malaria with prevention diagnosis and treatment *of* by \\\n",
        "involving non-health *care* stakeholders from provincial to  \\\n",
        "community level this is because engineers do not work in *the* but rather\n",
        "as a team\n"
      ],
      "metadata": {
        "id": "w9hN1noaLdrw"
      }
    },
    {
      "cell_type": "markdown",
      "source": [
        "### Computing Perplexity Score for Bigram Model"
      ],
      "metadata": {
        "id": "bG9K212v4nMg"
      }
    },
    {
      "cell_type": "code",
      "source": [
        "bigram"
      ],
      "metadata": {
        "colab": {
          "base_uri": "https://localhost:8080/"
        },
        "id": "BQ65vE5__q5v",
        "outputId": "c1df2894-dcbf-4d38-cd2d-e0ec51e48f5d"
      },
      "execution_count": null,
      "outputs": [
        {
          "output_type": "execute_result",
          "data": {
            "text/plain": [
              "{('<s>', 'introduction'): 303,\n",
              " ('introduction', 'severe'): 34,\n",
              " ('severe', 'acute'): 17364,\n",
              " ('acute', 'respiratory'): 27750,\n",
              " ('respiratory', 'syndrome'): 20392,\n",
              " ('syndrome', 'coronavirus'): 8981,\n",
              " ('coronavirus', 'is'): 1768,\n",
              " ('is', 'responsible'): 5273,\n",
              " ('responsible', 'for'): 22676,\n",
              " ('for', 'the'): 293120,\n",
              " ('the', 'outbreak'): 21148,\n",
              " ('outbreak', 'of'): 9638,\n",
              " ('of', 'coronavirus'): 6004,\n",
              " ('coronavirus', 'disease'): 8667,\n",
              " ('disease', 'the'): 6625,\n",
              " ('the', 'numbers'): 4372,\n",
              " ('numbers', 'are'): 1246,\n",
              " ('are', 'continuously'): 365,\n",
              " ('continuously', 'evolving'): 78,\n",
              " ('evolving', 'worldwide'): 6,\n",
              " ('worldwide', 'about'): 32,\n",
              " ('about', 'million'): 950,\n",
              " ('million', 'confirmed'): 621,\n",
              " ('confirmed', 'cases'): 13595,\n",
              " ('cases', 'and'): 17990,\n",
              " ('and', 'deaths'): 6480,\n",
              " ('deaths', 'as'): 826,\n",
              " ('as', 'of'): 11324,\n",
              " ('of', 'th'): 476,\n",
              " ('th', 'may'): 308,\n",
              " ('may', 'and'): 1614,\n",
              " ('and', 'italy'): 1113,\n",
              " ('italy', 'has'): 305,\n",
              " ('has', 'registered'): 29,\n",
              " ('registered', 'a'): 84,\n",
              " ('a', 'huge'): 1936,\n",
              " ('huge', 'number'): 276,\n",
              " ('number', 'of'): 171860,\n",
              " ('of', 'cases'): 26606,\n",
              " ('as', 'compared'): 11318,\n",
              " ('compared', 'to'): 75379,\n",
              " ('to', 'other'): 18570,\n",
              " ('other', 'countries'): 5972,\n",
              " ('countries', 'lung'): 1,\n",
              " ('lung', 'and'): 3798,\n",
              " ('and', 'systemic'): 2711,\n",
              " ('systemic', 'inflammation'): 1576,\n",
              " ('inflammation', 'are'): 317,\n",
              " ('are', 'the'): 32923,\n",
              " ('the', 'most'): 87516,\n",
              " ('most', 'common'): 20201,\n",
              " ('common', 'features'): 450,\n",
              " ('features', 'of'): 10404,\n",
              " ('of', 'which'): 24952,\n",
              " ('which', 'may'): 17461,\n",
              " ('may', 'lead'): 6392,\n",
              " ('lead', 'to'): 33551,\n",
              " ('to', 'multiorgan'): 258,\n",
              " ('multiorgan', 'dysfunction'): 418,\n",
              " ('dysfunction', 'and'): 2327,\n",
              " ('and', 'death'): 6748,\n",
              " ('death', 'hence'): 23,\n",
              " ('hence', 'extensive'): 6,\n",
              " ('extensive', 'research'): 315,\n",
              " ('research', 'in'): 4061,\n",
              " ('in', 'multiple'): 4034,\n",
              " ('multiple', 'therapeutic'): 44,\n",
              " ('therapeutic', 'areas'): 55,\n",
              " ('areas', 'is'): 441,\n",
              " ('is', 'rapidly'): 1093,\n",
              " ('rapidly', 'progressing'): 160,\n",
              " ('progressing', 'airborne'): 1,\n",
              " ('airborne', 'particulate'): 69,\n",
              " ('particulate', 'matter'): 1095,\n",
              " ('matter', 'pm'): 167,\n",
              " ('pm', 'also'): 19,\n",
              " ('also', 'called'): 1743,\n",
              " ('called', 'particle'): 2,\n",
              " ('particle', 'pollution'): 9,\n",
              " ('pollution', 'is'): 261,\n",
              " ('is', 'considered'): 9448,\n",
              " ('considered', 'to'): 9762,\n",
              " ('to', 'be'): 245346,\n",
              " ('be', 'the'): 25297,\n",
              " ('most', 'relevant'): 1219,\n",
              " ('relevant', 'component'): 7,\n",
              " ('component', 'of'): 7007,\n",
              " ('of', 'air'): 3395,\n",
              " ('air', 'pollution'): 3044,\n",
              " ('pollution', 'pm'): 10,\n",
              " ('pm', 'is'): 149,\n",
              " ('is', 'a'): 162097,\n",
              " ('a', 'heterogeneous'): 885,\n",
              " ('heterogeneous', 'mixture'): 38,\n",
              " ('mixture', 'of'): 4072,\n",
              " ('of', 'solid'): 725,\n",
              " ('solid', 'and'): 304,\n",
              " ('and', 'liquid'): 324,\n",
              " ('liquid', 'organic'): 4,\n",
              " ('organic', 'and'): 230,\n",
              " ('and', 'inorganic'): 228,\n",
              " ('inorganic', 'material'): 17,\n",
              " ('material', 'suspended'): 3,\n",
              " ('suspended', 'in'): 1585,\n",
              " ('in', 'air'): 1383,\n",
              " ('air', 'the'): 449,\n",
              " ('the', 'characteristics'): 4092,\n",
              " ('characteristics', 'and'): 3945,\n",
              " ('and', 'sources'): 325,\n",
              " ('sources', 'of'): 6522,\n",
              " ('of', 'ultrafine'): 67,\n",
              " ('ultrafine', 'pm'): 2,\n",
              " ('pm', 'pm'): 212,\n",
              " ('pm', 'mm'): 6,\n",
              " ('mm', 'fine'): 4,\n",
              " ('fine', 'pm'): 38,\n",
              " ('mm', 'and'): 2370,\n",
              " ('and', 'coarse'): 59,\n",
              " ('coarse', 'pm'): 8,\n",
              " ('mm', 'are'): 88,\n",
              " ('are', 'described'): 3048,\n",
              " ('described', 'elsewhere'): 973,\n",
              " ('elsewhere', 'numerous'): 1,\n",
              " ('numerous', 'studies'): 937,\n",
              " ('studies', 'have'): 27609,\n",
              " ('have', 'documented'): 553,\n",
              " ('documented', 'the'): 622,\n",
              " ('the', 'detrimental'): 419,\n",
              " ('detrimental', 'impact'): 115,\n",
              " ('impact', 'of'): 28572,\n",
              " ('of', 'pm'): 1025,\n",
              " ('pm', 'air'): 21,\n",
              " ('pollution', 'on'): 117,\n",
              " ('on', 'several'): 1329,\n",
              " ('several', 'organs'): 202,\n",
              " ('organs', 'particularly'): 45,\n",
              " ('particularly', 'airways'): 1,\n",
              " ('airways', 'and'): 1037,\n",
              " ('and', 'lungs'): 873,\n",
              " ('lungs', 'although'): 64,\n",
              " ('although', 'the'): 21261,\n",
              " ('the', 'quality'): 9276,\n",
              " ('quality', 'of'): 17415,\n",
              " ('of', 'evidence'): 4640,\n",
              " ('evidence', 'remains'): 39,\n",
              " ('remains', 'poor'): 55,\n",
              " ('poor', 'in'): 378,\n",
              " ('in', 'some'): 23723,\n",
              " ('some', 'cases'): 7087,\n",
              " ('cases', 'the'): 9393,\n",
              " ('the', 'existence'): 5522,\n",
              " ('existence', 'of'): 5922,\n",
              " ('of', 'a'): 175550,\n",
              " ('a', 'relationship'): 1818,\n",
              " ('relationship', 'between'): 16606,\n",
              " ('between', 'air'): 179,\n",
              " ('pollution', 'including'): 21,\n",
              " ('including', 'that'): 368,\n",
              " ('that', 'from'): 1073,\n",
              " ('from', 'pm'): 99,\n",
              " ('pm', 'and'): 1047,\n",
              " ('and', 'airborne'): 386,\n",
              " ('airborne', 'viral'): 87,\n",
              " ('viral', 'infections'): 11978,\n",
              " ('infections', 'has'): 678,\n",
              " ('has', 'been'): 163703,\n",
              " ('been', 'also'): 833,\n",
              " ('also', 'proposed'): 411,\n",
              " ('proposed', 'in'): 2252,\n",
              " ('in', 'this'): 132838,\n",
              " ('this', 'regard'): 3531,\n",
              " ('regard', 'an'): 31,\n",
              " ('an', 'association'): 3337,\n",
              " ('association', 'between'): 12020,\n",
              " ('pollution', 'mainly'): 4,\n",
              " ('mainly', 'pm'): 3,\n",
              " ('and', 'sars'): 1583,\n",
              " ('sars', 'mortality'): 21,\n",
              " ('mortality', 'has'): 372,\n",
              " ('been', 'reported'): 30619,\n",
              " ('reported', 'in'): 27102,\n",
              " ('in', 'addition'): 75123,\n",
              " ('addition', 'exposure'): 23,\n",
              " ('exposure', 'to'): 19800,\n",
              " ('to', 'ambient'): 150,\n",
              " ('ambient', 'pm'): 38,\n",
              " ('pm', 'explained'): 1,\n",
              " ('explained', 'a'): 69,\n",
              " ('a', 'significant'): 33399,\n",
              " ('significant', 'percentage'): 222,\n",
              " ('percentage', 'of'): 15343,\n",
              " ('of', 'incident'): 331,\n",
              " ('incident', 'cases'): 297,\n",
              " ('cases', 'of'): 29658,\n",
              " ('of', 'influenza'): 14365,\n",
              " ('influenza', 'and'): 4659,\n",
              " ('and', 'measles'): 504,\n",
              " ('measles', 'in'): 276,\n",
              " ('in', 'china'): 18640,\n",
              " ('china', 'recently'): 29,\n",
              " ('recently', 'a'): 1901,\n",
              " ('a', 'comprehensive'): 4918,\n",
              " ('comprehensive', 'association'): 1,\n",
              " ('association', 'study'): 246,\n",
              " ('study', 'found'): 2733,\n",
              " ('found', 'an'): 1019,\n",
              " ('an', 'independent'): 3814,\n",
              " ('independent', 'link'): 4,\n",
              " ('link', 'between'): 3614,\n",
              " ('between', 'six'): 71,\n",
              " ('six', 'air'): 28,\n",
              " ('air', 'pollutants'): 925,\n",
              " ('pollutants', 'including'): 48,\n",
              " ('including', 'pm'): 15,\n",
              " ('and', 'pm'): 774,\n",
              " ('and', 'the'): 370868,\n",
              " ('the', 'number'): 76448,\n",
              " ('of', 'confirmed'): 5666,\n",
              " ('cases', 'in'): 14774,\n",
              " ('in', 'chinese'): 1430,\n",
              " ('chinese', 'cities'): 257,\n",
              " ('cities', 'also'): 37,\n",
              " ('also', 'a'): 7205,\n",
              " ('significant', 'relationship'): 644,\n",
              " ('between', 'longterm'): 42,\n",
              " ('longterm', 'exposure'): 280,\n",
              " ('to', 'nitrogen'): 42,\n",
              " ('nitrogen', 'dioxide'): 297,\n",
              " ('dioxide', 'and'): 253,\n",
              " ('and', 'fatalities'): 400,\n",
              " ('fatalities', 'has'): 13,\n",
              " ('been', 'described'): 11040,\n",
              " ('described', 'several'): 61,\n",
              " ('several', 'mechanisms'): 594,\n",
              " ('mechanisms', 'have'): 656,\n",
              " ('have', 'been'): 150672,\n",
              " ('been', 'proposed'): 6966,\n",
              " ('proposed', 'to'): 3871,\n",
              " ('to', 'explain'): 4151,\n",
              " ('explain', 'the'): 6826,\n",
              " ('detrimental', 'association'): 1,\n",
              " ('between', 'pm'): 152,\n",
              " ('and', 'viral'): 8638,\n",
              " ('infections', 'modifications'): 3,\n",
              " ('modifications', 'of'): 927,\n",
              " ('of', 'the'): 1384639,\n",
              " ('the', 'respiratory'): 11161,\n",
              " ('respiratory', 'immune'): 34,\n",
              " ('immune', 'response'): 25097,\n",
              " ('response', 'to'): 38360,\n",
              " ('to', 'microbial'): 406,\n",
              " ('microbial', 'pathogens'): 397,\n",
              " ('pathogens', 'increased'): 14,\n",
              " ('increased', 'airways'): 9,\n",
              " ('airways', 'vulnerability'): 1,\n",
              " ('vulnerability', 'to'): 1080,\n",
              " ('to', 'respiratory'): 2363,\n",
              " ('respiratory', 'infections'): 5606,\n",
              " ('infections', 'exacerbation'): 2,\n",
              " ('exacerbation', 'of'): 1770,\n",
              " ('of', 'multiple'): 7408,\n",
              " ('multiple', 'comorbidities'): 356,\n",
              " ('comorbidities', 'and'): 1922,\n",
              " ('and', 'additional'): 2015,\n",
              " ('additional', 'underresearched'): 1,\n",
              " ('underresearched', 'mechanisms'): 1,\n",
              " ('mechanisms', 'eg'): 112,\n",
              " ('eg', 'increased'): 102,\n",
              " ('increased', 'viral'): 593,\n",
              " ('viral', 'spread'): 1203,\n",
              " ('spread', 'due'): 65,\n",
              " ('due', 'to'): 131415,\n",
              " ('to', 'attachment'): 49,\n",
              " ('attachment', 'of'): 1416,\n",
              " ('of', 'viral'): 32757,\n",
              " ('viral', 'particles'): 4336,\n",
              " ('particles', 'to'): 760,\n",
              " ('to', 'pm'): 456,\n",
              " ('pm', 'condensation'): 1,\n",
              " ('condensation', 'nuclei'): 17,\n",
              " ('nuclei', 'based'): 7,\n",
              " ('based', 'on'): 116012,\n",
              " ('on', 'these'): 6424,\n",
              " ('these', 'premises'): 64,\n",
              " ('premises', 'on'): 9,\n",
              " ('on', 'the'): 296200,\n",
              " ('the', 'excess'): 1005,\n",
              " ('excess', 'of'): 1830,\n",
              " ('pm', 'pollution'): 94,\n",
              " ('pollution', 'in'): 402,\n",
              " ('in', 'specific'): 2195,\n",
              " ('specific', 'geographical'): 57,\n",
              " ('geographical', 'areas'): 481,\n",
              " ('areas', 'in'): 2694,\n",
              " ('in', 'italy'): 4632,\n",
              " ('italy', 'and'): 2384,\n",
              " ('and', 'on'): 9607,\n",
              " ('the', 'recent'): 6937,\n",
              " ('recent', 'debate'): 14,\n",
              " ('debate', 'on'): 480,\n",
              " ('deaths', 'in'): 4482,\n",
              " ('some', 'areas'): 799,\n",
              " ('areas', 'of'): 10359,\n",
              " ('of', 'northern'): 369,\n",
              " ('northern', 'italy'): 734,\n",
              " ('italy', 'as'): 190,\n",
              " ('to', 'the'): 514503,\n",
              " ('the', 'rest'): 6236,\n",
              " ('rest', 'of'): 5384,\n",
              " ('the', 'country'): 9501,\n",
              " ('country', 'we'): 344,\n",
              " ('we', 'tested'): 3306,\n",
              " ('tested', 'the'): 3163,\n",
              " ('the', 'association'): 9811,\n",
              " ('pm', 'exposure'): 77,\n",
              " ('exposure', 'and'): 3410,\n",
              " ('and', 'cases'): 2160,\n",
              " ('in', 'different'): 15508,\n",
              " ('different', 'italian'): 26,\n",
              " ('italian', 'regions'): 318,\n",
              " ('regions', 'and'): 2793,\n",
              " ('and', 'provincesdata'): 1,\n",
              " ('provincesdata', 'were'): 1,\n",
              " ('were', 'extracted'): 3426,\n",
              " ('extracted', 'from'): 7508,\n",
              " ('from', 'publicly'): 142,\n",
              " ('publicly', 'accessible'): 189,\n",
              " ('accessible', 'databases'): 18,\n",
              " ('databases', 'and'): 749,\n",
              " ('and', 'stratified'): 171,\n",
              " ('stratified', 'by'): 1376,\n",
              " ('by', 'italian'): 64,\n",
              " ('and', 'up'): 1307,\n",
              " ('up', 'to'): 34781,\n",
              " ('to', 'provinces'): 46,\n",
              " ('provinces', 'according'): 9,\n",
              " ('according', 'to'): 62368,\n",
              " ('to', 'availability'): 101,\n",
              " ('availability', 'the'): 207,\n",
              " ('numbers', 'of'): 15792,\n",
              " ('deaths', 'since'): 110,\n",
              " ('since', 'st'): 30,\n",
              " ('st', 'march'): 95,\n",
              " ('march', 'to'): 2698,\n",
              " ('to', 'st'): 163,\n",
              " ('march', 'were'): 309,\n",
              " ('were', 'retrieved'): 1248,\n",
              " ('retrieved', 'from'): 1773,\n",
              " ('from', 'the'): 208867,\n",
              " ('the', 'daily'): 5347,\n",
              " ('daily', 'bulletins'): 7,\n",
              " ('bulletins', 'of'): 16,\n",
              " ('the', 'italian'): 2492,\n",
              " ('italian', 'ministry'): 119,\n",
              " ('ministry', 'of'): 4776,\n",
              " ('of', 'health'): 17812,\n",
              " ('health', 'available'): 5,\n",
              " ('available', 'at'): 3871,\n",
              " ('at', 'data'): 128,\n",
              " ('data', 'on'): 13592,\n",
              " ('the', 'population'): 22539,\n",
              " ('population', 'size'): 2625,\n",
              " ('size', 'on'): 298,\n",
              " ('on', 'st'): 161,\n",
              " ('st', 'january'): 109,\n",
              " ('january', 'the'): 1777,\n",
              " ('the', 'geographical'): 1089,\n",
              " ('geographical', 'extension'): 9,\n",
              " ('extension', 'of'): 2625,\n",
              " ('of', 'italian'): 330,\n",
              " ('and', 'provinces'): 122,\n",
              " ('provinces', 'gender'): 1,\n",
              " ('gender', 'distribution'): 231,\n",
              " ('distribution', 'and'): 3889,\n",
              " ('the', 'percentage'): 8572,\n",
              " ('of', 'people'): 12195,\n",
              " ('people', 'aged'): 608,\n",
              " ('aged', 'years'): 5588,\n",
              " ('years', 'were'): 2077,\n",
              " ('were', 'collected'): 18716,\n",
              " ('collected', 'from'): 11248,\n",
              " ('italian', 'national'): 174,\n",
              " ('national', 'statistical'): 47,\n",
              " ('statistical', 'institute'): 25,\n",
              " ('institute', 'istat'): 7,\n",
              " ('istat', 'database'): 6,\n",
              " ('database', 'available'): 39,\n",
              " ('at', 'it'): 243,\n",
              " ('it', 'mean'): 46,\n",
              " ('mean', 'population'): 37,\n",
              " ('population', 'exposure'): 86,\n",
              " ('of', 'days'): 9094,\n",
              " ('days', 'exceeding'): 21,\n",
              " ('exceeding', 'the'): 431,\n",
              " ('the', 'limit'): 2160,\n",
              " ('limit', 'value'): 78,\n",
              " ('value', 'of'): 24632,\n",
              " ('of', 'exposure'): 6084,\n",
              " ('pm', 'in'): 261,\n",
              " ('in', 'were'): 1163,\n",
              " ('national', 'institute'): 2293,\n",
              " ('institute', 'for'): 2025,\n",
              " ('for', 'environmental'): 510,\n",
              " ('environmental', 'protection'): 674,\n",
              " ('protection', 'and'): 1923,\n",
              " ('and', 'research'): 3341,\n",
              " ('research', 'ispra'): 2,\n",
              " ('ispra', 'databases'): 1,\n",
              " ('databases', 'available'): 30,\n",
              " ('at', 'govit'): 1,\n",
              " ('govit', 'the'): 1,\n",
              " ('the', 'mean'): 22554,\n",
              " ('mean', 'annual'): 150,\n",
              " ('annual', 'temperatures'): 7,\n",
              " ('temperatures', 'recorded'): 17,\n",
              " ('recorded', 'in'): 3150,\n",
              " ('in', 'in'): 7238,\n",
              " ('italian', 'provinces'): 75,\n",
              " ('provinces', 'were'): 118,\n",
              " ('the', 'istat'): 41,\n",
              " ('database', 'and'): 1506,\n",
              " ('mean', 'relative'): 139,\n",
              " ('relative', 'humidity'): 2237,\n",
              " ('humidity', 'in'): 222,\n",
              " ('in', 'the'): 1054897,\n",
              " ('the', 'last'): 20615,\n",
              " ('last', 'three'): 533,\n",
              " ('three', 'decades'): 497,\n",
              " ('decades', 'was'): 22,\n",
              " ('was', 'sourced'): 53,\n",
              " ('sourced', 'from'): 370,\n",
              " ('from', 'an'): 9267,\n",
              " ('an', 'official'): 297,\n",
              " ('official', 'italian'): 10,\n",
              " ('italian', 'weather'): 1,\n",
              " ('weather', 'forecast'): 33,\n",
              " ('forecast', 'website'): 1,\n",
              " ('website', 'statistical'): 4,\n",
              " ('statistical', 'package'): 493,\n",
              " ('package', 'release'): 8,\n",
              " ('release', 'spss'): 12,\n",
              " ('spss', 'inc'): 654,\n",
              " ('inc', 'chicago'): 594,\n",
              " ('chicago', 'iii'): 4,\n",
              " ('iii', 'was'): 165,\n",
              " ('was', 'used'): 45124,\n",
              " ('used', 'for'): 42107,\n",
              " ('for', 'statistical'): 1677,\n",
              " ('statistical', 'analyses'): 2735,\n",
              " ('analyses', 'base'): 1,\n",
              " ('base', 'logarithmic'): 3,\n",
              " ('logarithmic', 'lg'): 1,\n",
              " ('lg', 'transformation'): 1,\n",
              " ('transformation', 'was'): 132,\n",
              " ('was', 'performed'): 38850,\n",
              " ('performed', 'for'): 3476,\n",
              " ('for', 'skewed'): 35,\n",
              " ('skewed', 'variables'): 11,\n",
              " ('variables', 'the'): 1231,\n",
              " ('the', 'incidence'): 13897,\n",
              " ('incidence', 'proportion'): 35,\n",
              " ('proportion', 'was'): 229,\n",
              " ('was', 'calculated'): 9325,\n",
              " ('calculated', 'as'): 3666,\n",
              " ('as', 'the'): 128818,\n",
              " ('the', 'ratio'): 6999,\n",
              " ('ratio', 'between'): 1160,\n",
              " ('between', 'cases'): 491,\n",
              " ('cases', 'recorded'): 120,\n",
              " ('in', 'march'): 2996,\n",
              " ('march', 'and'): 4081,\n",
              " ('the', 'regionalprovincial'): 1,\n",
              " ('regionalprovincial', 'population'): 1,\n",
              " ('population', 'sizes'): 493,\n",
              " ('sizes', 'per'): 15,\n",
              " ('per', 'inhabitants'): 393,\n",
              " ('inhabitants', 'the'): 116,\n",
              " ('the', 'death'): 3781,\n",
              " ('death', 'rate'): 2595,\n",
              " ('rate', 'was'): 6384,\n",
              " ('between', 'deaths'): 51,\n",
              " ('deaths', 'recorded'): 92,\n",
              " ('the', 'regional'): 2478,\n",
              " ('regional', 'population'): 70,\n",
              " ('inhabitants', 'data'): 2,\n",
              " ('data', 'for'): 9957,\n",
              " ('for', 'provincial'): 17,\n",
              " ('provincial', 'death'): 1,\n",
              " ('death', 'rates'): 1601,\n",
              " ('rates', 'were'): 2991,\n",
              " ('were', 'unavailable'): 203,\n",
              " ('unavailable', 'anova'): 1,\n",
              " ('anova', 'was'): 373,\n",
              " ('used', 'to'): 79721,\n",
              " ('to', 'compare'): 9662,\n",
              " ('compare', 'pm'): 2,\n",
              " ('pm', 'measurements'): 4,\n",
              " ('measurements', 'across'): 26,\n",
              " ('across', 'provinces'): 101,\n",
              " ('provinces', 'by'): 23,\n",
              " ('by', 'geographical'): 108,\n",
              " ('geographical', 'distribution'): 656,\n",
              " ('distribution', 'north'): 6,\n",
              " ('north', 'centre'): 5,\n",
              " ('centre', 'southislands'): 2,\n",
              " ('southislands', 'spearmans'): 1,\n",
              " ('spearmans', 'and'): 10,\n",
              " ('and', 'pearsons'): 107,\n",
              " ('pearsons', 'correlations'): 44,\n",
              " ('correlations', 'were'): 735,\n",
              " ('were', 'used'): 29865,\n",
              " ('to', 'test'): 10839,\n",
              " ('test', 'the'): 6554,\n",
              " ('the', 'crude'): 1070,\n",
              " ('crude', 'associations'): 7,\n",
              " ('associations', 'between'): 2912,\n",
              " ('between', 'the'): 71179,\n",
              " ('the', 'study'): 55555,\n",
              " ('study', 'variables'): 205,\n",
              " ('variables', 'multiple'): 11,\n",
              " ('multiple', 'linear'): 465,\n",
              " ('linear', 'regression'): 3038,\n",
              " ('regression', 'analyses'): 1056,\n",
              " ('analyses', 'were'): 6465,\n",
              " ('were', 'performed'): 22154,\n",
              " ('performed', 'to'): 6632,\n",
              " ('test', 'whether'): 1378,\n",
              " ('whether', 'the'): 14469,\n",
              " ('the', 'exposure'): 2909,\n",
              " ('pm', 'was'): 113,\n",
              " ('was', 'associated'): 12201,\n",
              " ('associated', 'with'): 129045,\n",
              " ('with', 'either'): 5226,\n",
              " ('either', 'incidence'): 7,\n",
              " ('incidence', 'proportions'): 3,\n",
              " ('proportions', 'across'): 24,\n",
              " ('across', 'italian'): 20,\n",
              " ('provinces', 'or'): 55,\n",
              " ('or', 'death'): 2082,\n",
              " ('rates', 'across'): 242,\n",
              " ('regions', 'variables'): 2,\n",
              " ('variables', 'with'): 1090,\n",
              " ('with', 'a'): 165504,\n",
              " ('significant', 'crude'): 4,\n",
              " ('crude', 'association'): 13,\n",
              " ('association', 'with'): 7905,\n",
              " ('with', 'endpoints'): 13,\n",
              " ('endpoints', 'incidence'): 2,\n",
              " ('proportion', 'and'): 234,\n",
              " ('and', 'becausespecific'): 31,\n",
              " ('becausespecific', 'death'): 12,\n",
              " ('rate', 'were'): 547,\n",
              " ('were', 'included'): 12035,\n",
              " ('included', 'as'): 1697,\n",
              " ('as', 'covariates'): 300,\n",
              " ('covariates', 'in'): 231,\n",
              " ('the', 'multivariable'): 586,\n",
              " ('multivariable', 'regression'): 220,\n",
              " ('analyses', 'thus'): 32,\n",
              " ('thus', 'gender'): 7,\n",
              " ('distribution', 'across'): 168,\n",
              " ('across', 'regions'): 297,\n",
              " ('provinces', 'and'): 587,\n",
              " ('and', 'territorial'): 177,\n",
              " ('territorial', 'extension'): 10,\n",
              " ('extension', 'were'): 14,\n",
              " ('were', 'always'): 388,\n",
              " ('always', 'included'): 39,\n",
              " ('as', 'independent'): 764,\n",
              " ('independent', 'confounders'): 1,\n",
              " ('confounders', 'in'): 110,\n",
              " ('addition', 'to'): 27408,\n",
              " ('the', 'aforementioned'): 3031,\n",
              " ('aforementioned', 'covariates'): 3,\n",
              " ('covariates', 'mean'): 2,\n",
              " ('annual', 'temperature'): 41,\n",
              " ('temperature', 'and'): 5284,\n",
              " ('and', 'relative'): 1848,\n",
              " ('humidity', 'were'): 94,\n",
              " ('included', 'in'): 21704,\n",
              " ('analyses', 'carried'): 37,\n",
              " ('carried', 'out'): 21805,\n",
              " ('out', 'at'): 1221,\n",
              " ('at', 'the'): 151325,\n",
              " ('the', 'provincial'): 656,\n",
              " ('provincial', 'level'): 187,\n",
              " ('level', 'table'): 171,\n",
              " ('table', 'i'): 1886,\n",
              " ('i', 'lombardia'): 1,\n",
              " ('lombardia', 'was'): 3,\n",
              " ('was', 'the'): 27880,\n",
              " ('italian', 'region'): 98,\n",
              " ('region', 'with'): 980,\n",
              " ('with', 'highest'): 506,\n",
              " ('highest', 'number'): 1336,\n",
              " ('deaths', 'accounting'): 13,\n",
              " ('accounting', 'for'): 4074,\n",
              " ('for', 'and'): 12091,\n",
              " ('and', 'of'): 26921,\n",
              " ('italian', 'cases'): 34,\n",
              " ('deaths', 'respectively'): 99,\n",
              " ('respectively', 'the'): 9978,\n",
              " ('the', 'lowest'): 6969,\n",
              " ('lowest', 'numbers'): 21,\n",
              " ('deaths', 'were'): 1544,\n",
              " ('were', 'recorded'): 5273,\n",
              " ('in', 'molise'): 3,\n",
              " ('molise', 'and'): 5,\n",
              " ('and', 'basilicata'): 12,\n",
              " ('basilicata', 'respectively'): 1,\n",
              " ('respectively', 'table'): 1518,\n",
              " ('i', 'data'): 65,\n",
              " ('cases', 'stratified'): 16,\n",
              " ('by', 'date'): 181,\n",
              " ('date', 'and'): 1117,\n",
              " ('and', 'italian'): 201,\n",
              " ('provinces', 'are'): 100,\n",
              " ('are', 'available'): 10523,\n",
              " ('at', 'www'): 34,\n",
              " ('www', 'epicentroissitexposure'): 1,\n",
              " ('epicentroissitexposure', 'to'): 1,\n",
              " ('pm', 'across'): 2,\n",
              " ('provinces', 'as'): 51,\n",
              " ('as', 'depicted'): 751,\n",
              " ('depicted', 'in'): 2704,\n",
              " ('in', 'figure'): 24099,\n",
              " ('figure', 'a'): 3702,\n",
              " ('a', 'lombardia'): 2,\n",
              " ('lombardia', 'and'): 51,\n",
              " ('and', 'veneto'): 109,\n",
              " ('veneto', 'were'): 5,\n",
              " ('were', 'the'): 10698,\n",
              " ('regions', 'with'): 1783,\n",
              " ('with', 'the'): 264445,\n",
              " ('the', 'highest'): 21528,\n",
              " ('highest', 'mean'): 195,\n",
              " ('mean', 'exposure'): 21,\n",
              " ('pm', 'whereas'): 9,\n",
              " ('whereas', 'sardegna'): 1,\n",
              " ('sardegna', 'and'): 5,\n",
              " ('and', 'valle'): 24,\n",
              " ('valle', 'daosta'): 32,\n",
              " ('daosta', 'were'): 3,\n",
              " ('were', 'those'): 686,\n",
              " ('those', 'with'): 16812,\n",
              " ('lowest', 'mean'): 85,\n",
              " ('pm', 'respectively'): 46,\n",
              " ('respectively', 'across'): 37,\n",
              " ('provinces', 'stratified'): 1,\n",
              " ('stratified', 'according'): 189,\n",
              " ('to', 'geographical'): 82,\n",
              " ('geographical', 'positioning'): 2,\n",
              " ('positioning', 'ie'): 4,\n",
              " ('ie', 'north'): 6,\n",
              " ('southislands', 'additional'): 1,\n",
              " ('additional', 'data'): 753,\n",
              " ('data', 'regarding'): 1517,\n",
              " ('regarding', 'the'): 13291,\n",
              " ('in', 'are'): 1283,\n",
              " ('are', 'reported'): 4591,\n",
              " ('figure', 'two'): 284,\n",
              " ('two', 'multiple'): 17,\n",
              " ('regression', 'models'): 2222,\n",
              " ('models', 'were'): 3205,\n",
              " ('were', 'elaborated'): 37,\n",
              " ('elaborated', 'including'): 3,\n",
              " ('including', 'the'): 17990,\n",
              " ('proportion', 'as'): 35,\n",
              " ('the', 'dependent'): 1519,\n",
              " ('dependent', 'variable'): 1617,\n",
              " ('variable', 'and'): 1826,\n",
              " ('the', 'following'): 41945,\n",
              " ('following', 'independent'): 33,\n",
              " ('independent', 'variables'): 1478,\n",
              " ('variables', 'gender'): 49,\n",
              " ('distribution', 'territorial'): 2,\n",
              " ('territorial', 'region'): 1,\n",
              " ('region', 'extension'): 2,\n",
              " ('extension', 'and'): 344,\n",
              " ('regional', 'mean'): 2,\n",
              " ('annual', 'exposure'): 9,\n",
              " ('pm', 'table'): 6,\n",
              " ('table', 'ii'): 992,\n",
              " ('ii', 'both'): 33,\n",
              " ('both', 'pm'): 32,\n",
              " ('pm', 'were'): 119,\n",
              " ('were', 'associated'): 6266,\n",
              " ('with', 'incidence'): 161,\n",
              " ('proportion', 'irrespective'): 1,\n",
              " ('irrespective', 'of'): 2814,\n",
              " ('of', 'confounders'): 82,\n",
              " ('confounders', 'p'): 5,\n",
              " ('p', 'and'): 16228,\n",
              " ('and', 'p'): 7458,\n",
              " ('p', 'respectively'): 1570,\n",
              " ('respectively', 'two'): 168,\n",
              " ('two', 'additional'): 1209,\n",
              " ('additional', 'multiple'): 9,\n",
              " ('rate', 'as'): 1208,\n",
              " ('the', 'same'): 96293,\n",
              " ('same', 'independent'): 21,\n",
              " ('variables', 'as'): 802,\n",
              " ('as', 'in'): 19290,\n",
              " ('the', 'previous'): 12533,\n",
              " ('previous', 'regression'): 4,\n",
              " ('regression', 'model'): 3204,\n",
              " ('model', 'table'): 396,\n",
              " ('ii', 'crude'): 1,\n",
              " ('crude', 'positive'): 1,\n",
              " ('positive', 'correlations'): 376,\n",
              " ('correlations', 'between'): 2062,\n",
              " ('to', 'either'): 2953,\n",
              " ('either', 'pm'): 6,\n",
              " ('pm', 'available'): 2,\n",
              " ('available', 'complete'): 61,\n",
              " ('complete', 'data'): 425,\n",
              " ('for', 'provinces'): 41,\n",
              " ('or', 'pm'): 46,\n",
              " ('cases', 'are'): 4752,\n",
              " ('are', 'depicted'): 940,\n",
              " ('in', 'figures'): 1176,\n",
              " ('figures', 'a'): 91,\n",
              " ('a', 'and'): 17328,\n",
              " ('and', 'b'): 15211,\n",
              " ('b', 'respectivelytwo'): 1,\n",
              " ('respectivelytwo', 'multiple'): 1,\n",
              " ('territorial', 'provincial'): 1,\n",
              " ('provincial', 'extension'): 1,\n",
              " ('extension', 'mean'): 1,\n",
              " ('temperature', 'relative'): 178,\n",
              " ('humidity', 'and'): 955,\n",
              " ('provincial', 'mean'): 2,\n",
              " ('pm', 'or'): 74,\n",
              " ('pm', 'exposures'): 7,\n",
              " ('exposures', 'were'): 175,\n",
              " ('were', 'independently'): 703,\n",
              " ('independently', 'associated'): 1348,\n",
              " ('proportion', 'across'): 8,\n",
              " ('provinces', 'p'): 4,\n",
              " ('ii', 'in'): 945,\n",
              " ('the', 'regression'): 1917,\n",
              " ('model', 'with'): 5256,\n",
              " ('with', 'pm'): 161,\n",
              " ('pm', 'as'): 59,\n",
              " ('as', 'an'): 38817,\n",
              " ('independent', 'variable'): 588,\n",
              " ('variable', 'both'): 18,\n",
              " ('both', 'mean'): 57,\n",
              " ('temperature', 'p'): 41,\n",
              " ('humidity', 'p'): 9,\n",
              " ('p', 'were'): 1554,\n",
              " ('proportion', 'similar'): 11,\n",
              " ('similar', 'results'): 3339,\n",
              " ('results', 'for'): 5890,\n",
              " ('for', 'annual'): 139,\n",
              " ('were', 'observed'): 14318,\n",
              " ('observed', 'in'): 35923,\n",
              " ('the', 'pm'): 641,\n",
              " ('pm', 'multivariate'): 1,\n",
              " ('multivariate', 'modelan'): 1,\n",
              " ('modelan', 'additional'): 1,\n",
              " ('regression', 'analysis'): 3925,\n",
              " ('analysis', 'in'): 3880,\n",
              " ('in', 'italian'): 233,\n",
              " ('provinces', 'was'): 47,\n",
              " ('performed', 'with'): 6834,\n",
              " ('variable', 'along'): 7,\n",
              " ('along', 'with'): 17194,\n",
              " ('with', 'confounders'): 3,\n",
              " ('confounders', 'also'): 7,\n",
              " ('also', 'in'): 6424,\n",
              " ('this', 'regression'): 65,\n",
              " ('model', 'the'): 7873,\n",
              " ('the', 'index'): 3640,\n",
              " ('index', 'of'): 2716,\n",
              " ('exposure', 'was'): 704,\n",
              " ('was', 'independently'): 628,\n",
              " ('proportion', 'p'): 65,\n",
              " ('p', 'table'): 1973,\n",
              " ('this', 'study'): 79050,\n",
              " ('study', 'exploring'): 75,\n",
              " ('exploring', 'the'): 1320,\n",
              " ('between', 'past'): 39,\n",
              " ('past', 'pm'): 2,\n",
              " ('of', 'related'): 1617,\n",
              " ('related', 'features'): 31,\n",
              " ('features', 'ie'): 92,\n",
              " ('ie', 'cases'): 79,\n",
              " ('italy', 'two'): 21,\n",
              " ('two', 'main'): 2305,\n",
              " ('main', 'results'): 452,\n",
              " ('results', 'emerged'): 13,\n",
              " ('emerged', 'first'): 15,\n",
              " ('first', 'an'): 149,\n",
              " ('an', 'extremely'): 1329,\n",
              " ('extremely', 'heterogeneous'): 50,\n",
              " ('heterogeneous', 'distribution'): 59,\n",
              " ('distribution', 'of'): 19013,\n",
              " ('deaths', 'across'): 141,\n",
              " ('was', 'evident'): 1120,\n",
              " ('evident', 'second'): 1,\n",
              " ('second', 'regionstratified'): 1,\n",
              " ('regionstratified', 'and'): 1,\n",
              " ('and', 'provincestratified'): 1,\n",
              " ('provincestratified', 'exposure'): 1,\n",
              " ('rate', 'irrespective'): 8,\n",
              " ('of', 'demographic'): 620,\n",
              " ('demographic', 'and'): 2089,\n",
              " ('and', 'climatic'): 198,\n",
              " ('climatic', 'confounders'): 1,\n",
              " ('confounders', 'cases'): 1,\n",
              " ('cases', 'cases'): 253,\n",
              " ('cases', 'n'): 361,\n",
              " ('n', 'a'): 13284,\n",
              " ('a', 'b'): 6303,\n",
              " ('b', 'in'): 2220,\n",
              " ('the', 'analysis'): 14271,\n",
              " ('analysis', 'restricted'): 33,\n",
              " ('restricted', 'to'): 4418,\n",
              " ('italian', 'data'): 103,\n",
              " ('data', 'of'): 6980,\n",
              " ('of', 'march'): 3368,\n",
              " ('march', 'of'): 372,\n",
              " ('of', 'deaths'): 7018,\n",
              " ('the', 'lombardia'): 16,\n",
              " ('lombardia', 'region'): 19,\n",
              " ('region', 'respectively'): 54,\n",
              " ('respectively', 'conversely'): 27,\n",
              " ('conversely', 'less'): 11,\n",
              " ('less', 'than'): 25447,\n",
              " ('than', 'of'): 7421,\n",
              " ('of', 'all'): 35658,\n",
              " ('all', 'these'): 5814,\n",
              " ('these', 'features'): 1254,\n",
              " ('features', 'were'): 982,\n",
              " ('were', 'registered'): 605,\n",
              " ('registered', 'cumulatively'): 1,\n",
              " ('cumulatively', 'in'): 8,\n",
              " ('the', 'molise'): 3,\n",
              " ('basilicata', 'regions'): 5,\n",
              " ('regions', 'similarly'): 15,\n",
              " ('similarly', 'an'): 151,\n",
              " ('an', 'uneven'): 87,\n",
              " ('uneven', 'distribution'): 129,\n",
              " ('cases', 'across'): 245,\n",
              " ('evident', 'with'): 164,\n",
              " ('with', 'northern'): 38,\n",
              " ('italy', 'provinces'): 3,\n",
              " ('provinces', 'counting'): 1,\n",
              " ('counting', 'the'): 476,\n",
              " ('highest', 'numbers'): 145,\n",
              " ('numbers', 'and'): 2342,\n",
              " ('and', 'southern'): 693,\n",
              " ('southern', 'italy'): 174,\n",
              " ('provinces', 'the'): 158,\n",
              " ('numbers', 'several'): 6,\n",
              " ('several', 'differential'): 8,\n",
              " ('differential', 'factors'): 2,\n",
              " ('factors', 'might'): 308,\n",
              " ('might', 'have'): 6704,\n",
              " ('have', 'contributed'): 1977,\n",
              " ('contributed', 'to'): 7058,\n",
              " ('the', 'uneven'): 150,\n",
              " ('uneven', 'geographical'): 7,\n",
              " ('deaths', 'including'): 58,\n",
              " ('including', 'population'): 65,\n",
              " ('size', 'and'): 7165,\n",
              " ('extension', 'peculiar'): 1,\n",
              " ('peculiar', 'demographic'): 1,\n",
              " ('demographic', 'characteristics'): 1522,\n",
              " ('characteristics', 'local'): 2,\n",
              " ('local', 'strategies'): 15,\n",
              " ('strategies', 'aimed'): 180,\n",
              " ('aimed', 'at'): 4823,\n",
              " ('at', 'diagnosing'): 13,\n",
              " ('diagnosing', 'the'): 152,\n",
              " ('the', 'viral'): 31547,\n",
              " ('viral', 'infection'): 14207,\n",
              " ('infection', 'spatiotemporal'): 1,\n",
              " ('spatiotemporal', 'start'): 1,\n",
              " ('start', 'and'): 592,\n",
              " ('and', 'spread'): 3012,\n",
              " ('spread', 'of'): 24536,\n",
              " ('of', 'level'): 318,\n",
              " ('level', 'of'): 40964,\n",
              " ('of', 'adherence'): 473,\n",
              " ('adherence', 'to'): 3386,\n",
              " ('to', 'strict'): 220,\n",
              " ('strict', 'control'): 175,\n",
              " ('control', 'measures'): 5963,\n",
              " ('measures', 'and'): 3505,\n",
              " ('additional', 'ones'): 13,\n",
              " ('ones', 'in'): 626,\n",
              " ('study', 'we'): 16199,\n",
              " ('we', 'found'): 20555,\n",
              " ('found', 'that'): 38053,\n",
              " ('that', 'both'): 5917,\n",
              " ('both', 'population'): 59,\n",
              " ('extension', 'at'): 604,\n",
              " ('level', 'were'): 576,\n",
              " ('with', 'cases'): 1100,\n",
              " ('in', 'a'): 197502,\n",
              " ('a', 'positive'): 15392,\n",
              " ('positive', 'p'): 54,\n",
              " ('and', 'negative'): 6394,\n",
              " ('negative', 'p'): 42,\n",
              " ('p', 'fashion'): 1,\n",
              " ('fashion', 'respectively'): 4,\n",
              " ('respectively', 'thus'): 338,\n",
              " ('thus', 'in'): 1829,\n",
              " ('in', 'order'): 42874,\n",
              " ('order', 'to'): 45360,\n",
              " ('to', 'minimise'): 1264,\n",
              " ('minimise', 'their'): 31,\n",
              " ('their', 'confounding'): 4,\n",
              " ('confounding', 'effect'): 127,\n",
              " ('effect', 'on'): 19111,\n",
              " ('deaths', 'the'): 1023,\n",
              " ('were', 'calculated'): 7438,\n",
              " ('calculated', 'accounting'): 4,\n",
              " ('for', 'population'): 435,\n",
              " ('extension', 'was'): 85,\n",
              " ('was', 'always'): 581,\n",
              " ('in', 'all'): 30763,\n",
              " ('all', 'multivariate'): 14,\n",
              " ('multivariate', 'models'): 164,\n",
              " ('models', 'as'): 849,\n",
              " ('as', 'a'): 172911,\n",
              " ('a', 'confounder'): 91,\n",
              " ('confounder', 'our'): 1,\n",
              " ('our', 'finding'): 790,\n",
              " ('finding', 'of'): 1952,\n",
              " ('positive', 'crude'): 2,\n",
              " ('association', 'of'): 6767,\n",
              " ('of', 'provincial'): 97,\n",
              " ('provincial', 'female'): 1,\n",
              " ('female', 'gender'): 411,\n",
              " ('distribution', 'with'): 1404,\n",
              " ('proportion', 'rho'): 1,\n",
              " ('rho', 'p'): 174,\n",
              " ('p', 'result'): 8,\n",
              " ('result', 'not'): 81,\n",
              " ('not', 'shown'): 8669,\n",
              " ('shown', 'was'): 73,\n",
              " ('was', 'unexpected'): 209,\n",
              " ('unexpected', 'italian'): 1,\n",
              " ('data', 'from'): 20255,\n",
              " ('from', 'istituto'): 8,\n",
              " ('istituto', 'superiore'): 74,\n",
              " ('superiore', 'di'): 81,\n",
              " ('di', 'iss'): 22,\n",
              " ('iss', 'reported'): 4,\n",
              " ('reported', 'a'): 5579,\n",
              " ('a', 'increased'): 298,\n",
              " ('increased', 'number'): 1043,\n",
              " ('cases', 'among'): 800,\n",
              " ('among', 'men'): 392,\n",
              " ('men', 'in'): 578,\n",
              " ('the', 'iss'): 53,\n",
              " ('iss', 'report'): 5,\n",
              " ('report', 'nd'): 2,\n",
              " ('nd', 'april'): 27,\n",
              " ('april', 'epidemia'): 2,\n",
              " ('epidemia', 'however'): 1,\n",
              " ('however', 'minimal'): 14,\n",
              " ('minimal', 'adjustment'): 9,\n",
              " ('adjustment', 'eg'): 6,\n",
              " ('eg', 'for'): 784,\n",
              " ('for', 'only'): 1384,\n",
              " ('only', 'territorial'): 2,\n",
              " ('the', 'reported'): 4910,\n",
              " ('reported', 'correlation'): 17,\n",
              " ('correlation', 'gender'): 1,\n",
              " ('distribution', 'vs'): 13,\n",
              " ('vs', 'incidence'): 6,\n",
              " ('proportion', 'abolished'): 1,\n",
              " ('abolished', 'completely'): 10,\n",
              " ('completely', 'its'): 4,\n",
              " ('its', 'statistical'): 66,\n",
              " ('statistical', 'significance'): 4575,\n",
              " ('significance', 'in'): 960,\n",
              " ('addition', 'gender'): 11,\n",
              " ('gender', 'differences'): 545,\n",
              " ('differences', 'in'): 26792,\n",
              " ('cases', 'disappeared'): 3,\n",
              " ('disappeared', 'in'): 168,\n",
              " ('italy', 'with'): 237,\n",
              " ('the', 'progression'): 3063,\n",
              " ('progression', 'of'): 5721,\n",
              " ('the', 'pandemic'): 53132,\n",
              " ('pandemic', 'data'): 122,\n",
              " ('data', 'available'): 2003,\n",
              " ('at', 'moreover'): 25,\n",
              " ('moreover', 'analysis'): 29,\n",
              " ('analysis', 'of'): 41824,\n",
              " ('of', 'international'): 3796,\n",
              " ('international', 'genderdisaggregated'): 1,\n",
              " ('genderdisaggregated', 'data'): 4,\n",
              " ('crude', 'number'): 10,\n",
              " ('cases', 'shows'): 42,\n",
              " ...}"
            ]
          },
          "metadata": {},
          "execution_count": 14
        }
      ]
    },
    {
      "cell_type": "code",
      "source": [
        "def preplexity_bigram(sentence):\n",
        "  sentence = preprocessing(sentence)\n",
        "  sentence = '<s> '+str(sentence)+' </s>'\n",
        "  sentence = sentence.split(' ')\n",
        "  p=1\n",
        "  for i in range(len(sentence)-1):\n",
        "    word = (sentence[i], sentence[i+1])\n",
        "    if word in bigram.keys():\n",
        "      p*=(bigram[word]+1)/(vocab_50[word[0]]+len(vocab_50.keys()))\n",
        "    elif word[0] in vocab_50.keys():\n",
        "      p*=1/(vocab_50[word[0]]+len(vocab_50))\n",
        "    else:\n",
        "      p*=1/(len(vocab_50))\n",
        "  return (p)**(-1/len(sentence))"
      ],
      "metadata": {
        "id": "4Ice36TN4soo"
      },
      "execution_count": null,
      "outputs": []
    },
    {
      "cell_type": "code",
      "source": [
        "preplexity_bigram('it appears that the overall code stroke volume has decreased since the covid- pandemic.')"
      ],
      "metadata": {
        "id": "fuduNZJf4vmG",
        "colab": {
          "base_uri": "https://localhost:8080/"
        },
        "outputId": "48820120-df2c-4518-e874-306c830e2cea"
      },
      "execution_count": null,
      "outputs": [
        {
          "output_type": "execute_result",
          "data": {
            "text/plain": [
              "1945.4569333654485"
            ]
          },
          "metadata": {},
          "execution_count": 16
        }
      ]
    },
    {
      "cell_type": "code",
      "source": [
        "preplexity_bigram('half a century ago hypertension was not treatable.')"
      ],
      "metadata": {
        "id": "exu6x87t400Q",
        "colab": {
          "base_uri": "https://localhost:8080/"
        },
        "outputId": "f7d5df47-190d-4abd-e359-301b1c4bb827"
      },
      "execution_count": null,
      "outputs": [
        {
          "output_type": "execute_result",
          "data": {
            "text/plain": [
              "9711.97972815161"
            ]
          },
          "metadata": {},
          "execution_count": 17
        }
      ]
    },
    {
      "cell_type": "code",
      "source": [
        "preplexity_bigram('sarahs tv is broadcasting an advert for private healthcare.')"
      ],
      "metadata": {
        "id": "m2YiL6OI46Py",
        "colab": {
          "base_uri": "https://localhost:8080/"
        },
        "outputId": "603d04cf-9443-4e28-8cc4-01a222890611"
      },
      "execution_count": null,
      "outputs": [
        {
          "output_type": "execute_result",
          "data": {
            "text/plain": [
              "73773.3133350428"
            ]
          },
          "metadata": {},
          "execution_count": 18
        }
      ]
    },
    {
      "cell_type": "markdown",
      "source": [
        "## Trigram Model"
      ],
      "metadata": {
        "id": "s7BhJ7NmU6Ux"
      }
    },
    {
      "cell_type": "code",
      "source": [
        "def trigram_model(text):\n",
        "    text = list(map(padding,text))  \n",
        "    trigram_freq = Counter()\n",
        "    for sentence in text:\n",
        "        word_list = sentence.split(' ')\n",
        "        for i in range(len(word_list)-2):\n",
        "            trigram = (word_list[i],word_list[i+1],word_list[i+2])\n",
        "            trigram_freq[trigram]+=1\n",
        "    return trigram_freq"
      ],
      "metadata": {
        "id": "nl_ufWy5ucil"
      },
      "execution_count": null,
      "outputs": []
    },
    {
      "cell_type": "code",
      "source": [
        "tri_model = trigram_model(content[:10000])"
      ],
      "metadata": {
        "id": "2dchZCq_u5hN"
      },
      "execution_count": null,
      "outputs": []
    },
    {
      "cell_type": "code",
      "source": [
        "import gc\n",
        "del content,f\n",
        "gc.collect()"
      ],
      "metadata": {
        "colab": {
          "base_uri": "https://localhost:8080/"
        },
        "id": "lBW4CENKIJhK",
        "outputId": "0aa26d03-8fc4-460a-c794-428ee59bb467"
      },
      "execution_count": null,
      "outputs": [
        {
          "output_type": "execute_result",
          "data": {
            "text/plain": [
              "0"
            ]
          },
          "metadata": {},
          "execution_count": 13
        }
      ]
    },
    {
      "cell_type": "code",
      "source": [
        "tri_model.most_common(10)"
      ],
      "metadata": {
        "id": "r4Exnl_77jVV",
        "colab": {
          "base_uri": "https://localhost:8080/"
        },
        "outputId": "5f5aa5c3-8813-45ed-9706-dc740eec3b70"
      },
      "execution_count": null,
      "outputs": [
        {
          "output_type": "execute_result",
          "data": {
            "text/plain": [
              "[(('as', 'well', 'as'), 17346),\n",
              " (('the', 'number', 'of'), 14808),\n",
              " (('the', 'presence', 'of'), 11073),\n",
              " (('the', 'use', 'of'), 10199),\n",
              " (('testing', 'testing', 'testing'), 9873),\n",
              " (('due', 'to', 'the'), 8672),\n",
              " (('in', 'order', 'to'), 8537),\n",
              " (('one', 'of', 'the'), 8006),\n",
              " (('in', 'patients', 'with'), 7877),\n",
              " (('based', 'on', 'the'), 7841)]"
            ]
          },
          "metadata": {},
          "execution_count": 28
        }
      ]
    },
    {
      "cell_type": "markdown",
      "source": [
        "Saving trigram model in Drive"
      ],
      "metadata": {
        "id": "aAzCRVEPOaD_"
      }
    },
    {
      "cell_type": "code",
      "source": [
        "import pickle\n",
        "with open('/content/drive/MyDrive/Trigram_Model_10k.txt', 'wb') as f:\n",
        "            pickle.dump(dict(tri_model), f)"
      ],
      "metadata": {
        "id": "lDhDYzdQWyxW"
      },
      "execution_count": null,
      "outputs": []
    },
    {
      "cell_type": "markdown",
      "source": [
        "### Computing Probability for next word using bigram model"
      ],
      "metadata": {
        "id": "tK4-35AJFR7a"
      }
    },
    {
      "cell_type": "code",
      "source": [
        "import pickle\n",
        "with open(\"/content/drive/MyDrive/Trigram_Model_10k.txt\" , 'rb') as tri:\n",
        "    tri_model = pickle.load(tri)"
      ],
      "metadata": {
        "id": "J80R6nySF4hx"
      },
      "execution_count": null,
      "outputs": []
    },
    {
      "cell_type": "code",
      "source": [
        "import pickle\n",
        "with open(\"/content/drive/MyDrive/Bigram_Model_10k.txt\" , 'rb') as bi:\n",
        "    bigram_10k = pickle.load(bi)"
      ],
      "metadata": {
        "id": "LMfW6S-HGCcv"
      },
      "execution_count": null,
      "outputs": []
    },
    {
      "cell_type": "code",
      "source": [
        "from pathlib import Path\n",
        "vocab_10 = json.loads(Path(\"/content/drive/MyDrive/vocab_10.txt\").read_text())"
      ],
      "metadata": {
        "id": "TIkQAwG2GTkv"
      },
      "execution_count": null,
      "outputs": []
    },
    {
      "cell_type": "code",
      "source": [
        "def predict_trigram_next_word(first_second_word):\n",
        "  prob_first_second={}\n",
        "  for keys in tri_model.keys():\n",
        "    if (keys[0],keys[1])== first_second_word:\n",
        "      prob_first_second[keys]=(tri_model[keys]+1)/(bigram_10k[first_second_word]+len(vocab_10))\n",
        "  return Counter(prob_first_second)"
      ],
      "metadata": {
        "id": "8g0uYs7m2jdq"
      },
      "execution_count": null,
      "outputs": []
    },
    {
      "cell_type": "code",
      "source": [
        "predict_trigram_next_word(('houses','were')).most_common(10)"
      ],
      "metadata": {
        "colab": {
          "base_uri": "https://localhost:8080/"
        },
        "id": "txxTpGi0Zguz",
        "outputId": "7a0decd3-ff09-49ff-bc81-f36dd35ecc3d"
      },
      "execution_count": null,
      "outputs": [
        {
          "output_type": "execute_result",
          "data": {
            "text/plain": [
              "[(('houses', 'were', 'built'), 3.6529146606076987e-06),\n",
              " (('houses', 'were', 'present'), 3.6529146606076987e-06),\n",
              " (('houses', 'were', 'malaria'), 3.6529146606076987e-06),\n",
              " (('houses', 'were', 'contacted'), 3.6529146606076987e-06),\n",
              " (('houses', 'were', 'foreclosed'), 3.6529146606076987e-06)]"
            ]
          },
          "metadata": {},
          "execution_count": 22
        }
      ]
    },
    {
      "cell_type": "code",
      "source": [
        "predict_trigram_next_word(('an','integrated')).most_common(10)"
      ],
      "metadata": {
        "colab": {
          "base_uri": "https://localhost:8080/"
        },
        "id": "_bfhbSJUZrXr",
        "outputId": "f4418620-5034-4f8a-dd54-2f121c8afcc0"
      },
      "execution_count": null,
      "outputs": [
        {
          "output_type": "execute_result",
          "data": {
            "text/plain": [
              "[(('an', 'integrated', 'approach'), 5.29371927589222e-05),\n",
              " (('an', 'integrated', 'and'), 2.1905045279554013e-05),\n",
              " (('an', 'integrated', 'system'), 1.8254204399628345e-05),\n",
              " (('an', 'integrated', 'one'), 1.8254204399628345e-05),\n",
              " (('an', 'integrated', 'health'), 1.8254204399628345e-05),\n",
              " (('an', 'integrated', 'analysis'), 1.642878395966551e-05),\n",
              " (('an', 'integrated', 'model'), 1.4603363519702676e-05),\n",
              " (('an', 'integrated', 'view'), 1.4603363519702676e-05),\n",
              " (('an', 'integrated', 'practice'), 1.277794307973984e-05),\n",
              " (('an', 'integrated', 'part'), 1.0952522639777006e-05)]"
            ]
          },
          "metadata": {},
          "execution_count": 23
        }
      ]
    },
    {
      "cell_type": "code",
      "source": [
        "predict_trigram_next_word(('and','treatment')).most_common(10)"
      ],
      "metadata": {
        "colab": {
          "base_uri": "https://localhost:8080/"
        },
        "id": "Uj90I7-vZuM3",
        "outputId": "955b7901-0b05-4bea-e75b-8efaff38aacb"
      },
      "execution_count": null,
      "outputs": [
        {
          "output_type": "execute_result",
          "data": {
            "text/plain": [
              "[(('and', 'treatment', 'of'), 0.0014530073068627772),\n",
              " (('and', 'treatment', 'with'), 0.00018730882679207265),\n",
              " (('and', 'treatment', 'for'), 0.0001091119379371297),\n",
              " (('and', 'treatment', 'in'), 0.0001091119379371297),\n",
              " (('and', 'treatment', 'strategies'), 9.092661494760808e-05),\n",
              " (('and', 'treatment', 'and'), 8.365248575179944e-05),\n",
              " (('and', 'treatment', 'is'), 5.8193033566469174e-05),\n",
              " (('and', 'treatment', 'are'), 5.091890437066053e-05),\n",
              " (('and', 'treatment', 'options'), 4.546330747380404e-05),\n",
              " (('and', 'treatment', 'plan'), 4.364477517485188e-05)]"
            ]
          },
          "metadata": {},
          "execution_count": 24
        }
      ]
    },
    {
      "cell_type": "code",
      "source": [
        "predict_trigram_next_word(('non','health')).most_common(10)"
      ],
      "metadata": {
        "colab": {
          "base_uri": "https://localhost:8080/"
        },
        "id": "Yc1yX5etZw5X",
        "outputId": "ef54bf17-9bd6-4f6b-97cf-cbff21ae9697"
      },
      "execution_count": null,
      "outputs": [
        {
          "output_type": "execute_result",
          "data": {
            "text/plain": [
              "[]"
            ]
          },
          "metadata": {},
          "execution_count": 25
        }
      ]
    },
    {
      "cell_type": "code",
      "source": [
        "predict_trigram_next_word(('work','in')).most_common(10)"
      ],
      "metadata": {
        "colab": {
          "base_uri": "https://localhost:8080/"
        },
        "id": "JhbbSTitZ3b-",
        "outputId": "5a9df62a-4045-48ce-ec47-6697ebd34145"
      },
      "execution_count": null,
      "outputs": [
        {
          "output_type": "execute_result",
          "data": {
            "text/plain": [
              "[(('work', 'in', 'the'), 0.0003154073768862911),\n",
              " (('work', 'in', 'a'), 0.00013491413809008982),\n",
              " (('work', 'in', 'this'), 0.00011850566183588971),\n",
              " (('work', 'in', 'an'), 4.1932772649622516e-05),\n",
              " (('work', 'in', 'our'), 3.82864445931336e-05),\n",
              " (('work', 'in', 'addition'), 3.281695250840023e-05),\n",
              " (('work', 'in', 'ensuring'), 3.281695250840023e-05),\n",
              " (('work', 'in', 'concert'), 2.9170624451911316e-05),\n",
              " (('work', 'in', 'progress'), 2.1877968338933487e-05),\n",
              " (('work', 'in', 'these'), 2.005480431068903e-05)]"
            ]
          },
          "metadata": {},
          "execution_count": 26
        }
      ]
    },
    {
      "cell_type": "markdown",
      "source": [
        "The spaces are filled up  using trigram model. The word with highest probability for the 2 words preceeding the space is used. \n",
        "\n",
        "all houses were *built* ventilated \\\n",
        "it aims to develop an integrated *approach* to reach mmps exposed \\\n",
        "to malaria with prevention diagnosis and treatment *of* by \\\n",
        "involving non-health *____* stakeholders from provincial to  \\\n",
        "community level this is because engineers do not work in *the* but rather\n",
        "as a team\n",
        "\n",
        "Note that there was no prediction for non-health by trigram model, so the space was left.\n"
      ],
      "metadata": {
        "id": "xduJa729MjWT"
      }
    },
    {
      "cell_type": "markdown",
      "source": [
        "### Computing Perplexity Score for Trigram Model"
      ],
      "metadata": {
        "id": "WW5FoVXxmAkh"
      }
    },
    {
      "cell_type": "code",
      "source": [
        "tri_model"
      ],
      "metadata": {
        "colab": {
          "base_uri": "https://localhost:8080/"
        },
        "id": "wP7QLU0AGc1d",
        "outputId": "447c7ab6-af6a-42b5-aef4-9a67477a8f46"
      },
      "execution_count": null,
      "outputs": [
        {
          "output_type": "execute_result",
          "data": {
            "text/plain": [
              "Counter({('<s>', 'introduction', 'severe'): 2,\n",
              "         ('introduction', 'severe', 'acute'): 3,\n",
              "         ('severe', 'acute', 'respiratory'): 3330,\n",
              "         ('acute', 'respiratory', 'syndrome'): 3072,\n",
              "         ('respiratory', 'syndrome', 'coronavirus'): 1837,\n",
              "         ('syndrome', 'coronavirus', 'is'): 88,\n",
              "         ('coronavirus', 'is', 'responsible'): 4,\n",
              "         ('is', 'responsible', 'for'): 1068,\n",
              "         ('responsible', 'for', 'the'): 1523,\n",
              "         ('for', 'the', 'outbreak'): 71,\n",
              "         ('the', 'outbreak', 'of'): 737,\n",
              "         ('outbreak', 'of', 'coronavirus'): 74,\n",
              "         ('of', 'coronavirus', 'disease'): 251,\n",
              "         ('coronavirus', 'disease', 'the'): 53,\n",
              "         ('disease', 'the', 'numbers'): 1,\n",
              "         ('the', 'numbers', 'are'): 22,\n",
              "         ('numbers', 'are', 'continuously'): 1,\n",
              "         ('are', 'continuously', 'evolving'): 3,\n",
              "         ('continuously', 'evolving', 'worldwide'): 1,\n",
              "         ('evolving', 'worldwide', 'about'): 1,\n",
              "         ('worldwide', 'about', 'million'): 7,\n",
              "         ('about', 'million', 'confirmed'): 5,\n",
              "         ('million', 'confirmed', 'cases'): 102,\n",
              "         ('confirmed', 'cases', 'and'): 438,\n",
              "         ('cases', 'and', 'deaths'): 658,\n",
              "         ('and', 'deaths', 'as'): 48,\n",
              "         ('deaths', 'as', 'of'): 87,\n",
              "         ('as', 'of', 'th'): 23,\n",
              "         ('of', 'th', 'may'): 7,\n",
              "         ('th', 'may', 'and'): 10,\n",
              "         ('may', 'and', 'italy'): 1,\n",
              "         ('and', 'italy', 'has'): 6,\n",
              "         ('italy', 'has', 'registered'): 2,\n",
              "         ('has', 'registered', 'a'): 2,\n",
              "         ('registered', 'a', 'huge'): 1,\n",
              "         ('a', 'huge', 'number'): 38,\n",
              "         ('huge', 'number', 'of'): 61,\n",
              "         ('number', 'of', 'cases'): 1671,\n",
              "         ('of', 'cases', 'and'): 519,\n",
              "         ('deaths', 'as', 'compared'): 4,\n",
              "         ('as', 'compared', 'to'): 1784,\n",
              "         ('compared', 'to', 'other'): 604,\n",
              "         ('to', 'other', 'countries'): 144,\n",
              "         ('other', 'countries', 'lung'): 1,\n",
              "         ('countries', 'lung', 'and'): 1,\n",
              "         ('lung', 'and', 'systemic'): 10,\n",
              "         ('and', 'systemic', 'inflammation'): 38,\n",
              "         ('systemic', 'inflammation', 'are'): 4,\n",
              "         ('inflammation', 'are', 'the'): 2,\n",
              "         ('are', 'the', 'most'): 931,\n",
              "         ('the', 'most', 'common'): 3532,\n",
              "         ('most', 'common', 'features'): 5,\n",
              "         ('common', 'features', 'of'): 29,\n",
              "         ('features', 'of', 'which'): 3,\n",
              "         ('of', 'which', 'may'): 133,\n",
              "         ('which', 'may', 'lead'): 149,\n",
              "         ('may', 'lead', 'to'): 1242,\n",
              "         ('lead', 'to', 'multiorgan'): 6,\n",
              "         ('to', 'multiorgan', 'dysfunction'): 9,\n",
              "         ('multiorgan', 'dysfunction', 'and'): 10,\n",
              "         ('dysfunction', 'and', 'death'): 19,\n",
              "         ('and', 'death', 'hence'): 1,\n",
              "         ('death', 'hence', 'extensive'): 1,\n",
              "         ('hence', 'extensive', 'research'): 2,\n",
              "         ('extensive', 'research', 'in'): 2,\n",
              "         ('research', 'in', 'multiple'): 3,\n",
              "         ('in', 'multiple', 'therapeutic'): 1,\n",
              "         ('multiple', 'therapeutic', 'areas'): 1,\n",
              "         ('therapeutic', 'areas', 'is'): 1,\n",
              "         ('areas', 'is', 'rapidly'): 1,\n",
              "         ('is', 'rapidly', 'progressing'): 3,\n",
              "         ('rapidly', 'progressing', 'airborne'): 1,\n",
              "         ('progressing', 'airborne', 'particulate'): 1,\n",
              "         ('airborne', 'particulate', 'matter'): 8,\n",
              "         ('particulate', 'matter', 'pm'): 39,\n",
              "         ('matter', 'pm', 'also'): 1,\n",
              "         ('pm', 'also', 'called'): 1,\n",
              "         ('also', 'called', 'particle'): 1,\n",
              "         ('called', 'particle', 'pollution'): 1,\n",
              "         ('particle', 'pollution', 'is'): 1,\n",
              "         ('pollution', 'is', 'considered'): 2,\n",
              "         ('is', 'considered', 'to'): 465,\n",
              "         ('considered', 'to', 'be'): 1443,\n",
              "         ('to', 'be', 'the'): 2016,\n",
              "         ('be', 'the', 'most'): 561,\n",
              "         ('the', 'most', 'relevant'): 203,\n",
              "         ('most', 'relevant', 'component'): 1,\n",
              "         ('relevant', 'component', 'of'): 1,\n",
              "         ('component', 'of', 'air'): 1,\n",
              "         ('of', 'air', 'pollution'): 93,\n",
              "         ('air', 'pollution', 'pm'): 2,\n",
              "         ('pollution', 'pm', 'is'): 1,\n",
              "         ('pm', 'is', 'a'): 5,\n",
              "         ('is', 'a', 'heterogeneous'): 36,\n",
              "         ('a', 'heterogeneous', 'mixture'): 6,\n",
              "         ('heterogeneous', 'mixture', 'of'): 7,\n",
              "         ('mixture', 'of', 'solid'): 5,\n",
              "         ('of', 'solid', 'and'): 9,\n",
              "         ('solid', 'and', 'liquid'): 10,\n",
              "         ('and', 'liquid', 'organic'): 1,\n",
              "         ('liquid', 'organic', 'and'): 1,\n",
              "         ('organic', 'and', 'inorganic'): 28,\n",
              "         ('and', 'inorganic', 'material'): 3,\n",
              "         ('inorganic', 'material', 'suspended'): 1,\n",
              "         ('material', 'suspended', 'in'): 1,\n",
              "         ('suspended', 'in', 'air'): 8,\n",
              "         ('in', 'air', 'the'): 3,\n",
              "         ('air', 'the', 'characteristics'): 1,\n",
              "         ('the', 'characteristics', 'and'): 69,\n",
              "         ('characteristics', 'and', 'sources'): 1,\n",
              "         ('and', 'sources', 'of'): 43,\n",
              "         ('sources', 'of', 'ultrafine'): 1,\n",
              "         ('of', 'ultrafine', 'pm'): 1,\n",
              "         ('ultrafine', 'pm', 'pm'): 1,\n",
              "         ('pm', 'pm', 'mm'): 3,\n",
              "         ('pm', 'mm', 'fine'): 1,\n",
              "         ('mm', 'fine', 'pm'): 1,\n",
              "         ('fine', 'pm', 'pm'): 1,\n",
              "         ('pm', 'mm', 'and'): 1,\n",
              "         ('mm', 'and', 'coarse'): 1,\n",
              "         ('and', 'coarse', 'pm'): 1,\n",
              "         ('coarse', 'pm', 'pm'): 1,\n",
              "         ('pm', 'mm', 'are'): 1,\n",
              "         ('mm', 'are', 'described'): 1,\n",
              "         ('are', 'described', 'elsewhere'): 11,\n",
              "         ('described', 'elsewhere', 'numerous'): 1,\n",
              "         ('elsewhere', 'numerous', 'studies'): 1,\n",
              "         ('numerous', 'studies', 'have'): 94,\n",
              "         ('studies', 'have', 'documented'): 36,\n",
              "         ('have', 'documented', 'the'): 28,\n",
              "         ('documented', 'the', 'detrimental'): 1,\n",
              "         ('the', 'detrimental', 'impact'): 12,\n",
              "         ('detrimental', 'impact', 'of'): 15,\n",
              "         ('impact', 'of', 'pm'): 5,\n",
              "         ('of', 'pm', 'air'): 3,\n",
              "         ('pm', 'air', 'pollution'): 9,\n",
              "         ('air', 'pollution', 'on'): 19,\n",
              "         ('pollution', 'on', 'several'): 1,\n",
              "         ('on', 'several', 'organs'): 1,\n",
              "         ('several', 'organs', 'particularly'): 1,\n",
              "         ('organs', 'particularly', 'airways'): 1,\n",
              "         ('particularly', 'airways', 'and'): 1,\n",
              "         ('airways', 'and', 'lungs'): 9,\n",
              "         ('and', 'lungs', 'although'): 2,\n",
              "         ('lungs', 'although', 'the'): 2,\n",
              "         ('although', 'the', 'quality'): 8,\n",
              "         ('the', 'quality', 'of'): 1482,\n",
              "         ('quality', 'of', 'evidence'): 84,\n",
              "         ('of', 'evidence', 'remains'): 2,\n",
              "         ('evidence', 'remains', 'poor'): 1,\n",
              "         ('remains', 'poor', 'in'): 1,\n",
              "         ('poor', 'in', 'some'): 2,\n",
              "         ('in', 'some', 'cases'): 1280,\n",
              "         ('some', 'cases', 'the'): 194,\n",
              "         ('cases', 'the', 'existence'): 3,\n",
              "         ('the', 'existence', 'of'): 1056,\n",
              "         ('existence', 'of', 'a'): 232,\n",
              "         ('of', 'a', 'relationship'): 19,\n",
              "         ('a', 'relationship', 'between'): 163,\n",
              "         ('relationship', 'between', 'air'): 11,\n",
              "         ('between', 'air', 'pollution'): 30,\n",
              "         ('air', 'pollution', 'including'): 3,\n",
              "         ('pollution', 'including', 'that'): 1,\n",
              "         ('including', 'that', 'from'): 5,\n",
              "         ('that', 'from', 'pm'): 1,\n",
              "         ('from', 'pm', 'and'): 1,\n",
              "         ('pm', 'and', 'airborne'): 1,\n",
              "         ('and', 'airborne', 'viral'): 3,\n",
              "         ('airborne', 'viral', 'infections'): 3,\n",
              "         ('viral', 'infections', 'has'): 19,\n",
              "         ('infections', 'has', 'been'): 67,\n",
              "         ('has', 'been', 'also'): 89,\n",
              "         ('been', 'also', 'proposed'): 2,\n",
              "         ('also', 'proposed', 'in'): 4,\n",
              "         ('proposed', 'in', 'this'): 72,\n",
              "         ('in', 'this', 'regard'): 727,\n",
              "         ('this', 'regard', 'an'): 8,\n",
              "         ('regard', 'an', 'association'): 1,\n",
              "         ('an', 'association', 'between'): 417,\n",
              "         ('association', 'between', 'air'): 9,\n",
              "         ('air', 'pollution', 'mainly'): 1,\n",
              "         ('pollution', 'mainly', 'pm'): 1,\n",
              "         ('mainly', 'pm', 'and'): 1,\n",
              "         ('pm', 'and', 'sars'): 1,\n",
              "         ('and', 'sars', 'mortality'): 1,\n",
              "         ('sars', 'mortality', 'has'): 1,\n",
              "         ('mortality', 'has', 'been'): 41,\n",
              "         ('has', 'been', 'reported'): 2496,\n",
              "         ('been', 'reported', 'in'): 1388,\n",
              "         ('reported', 'in', 'addition'): 16,\n",
              "         ('in', 'addition', 'exposure'): 8,\n",
              "         ('addition', 'exposure', 'to'): 7,\n",
              "         ('exposure', 'to', 'ambient'): 11,\n",
              "         ('to', 'ambient', 'pm'): 2,\n",
              "         ('ambient', 'pm', 'explained'): 1,\n",
              "         ('pm', 'explained', 'a'): 1,\n",
              "         ('explained', 'a', 'significant'): 3,\n",
              "         ('a', 'significant', 'percentage'): 49,\n",
              "         ('significant', 'percentage', 'of'): 51,\n",
              "         ('percentage', 'of', 'incident'): 1,\n",
              "         ('of', 'incident', 'cases'): 23,\n",
              "         ('incident', 'cases', 'of'): 14,\n",
              "         ('cases', 'of', 'influenza'): 78,\n",
              "         ('of', 'influenza', 'and'): 109,\n",
              "         ('influenza', 'and', 'measles'): 3,\n",
              "         ('and', 'measles', 'in'): 5,\n",
              "         ('measles', 'in', 'china'): 1,\n",
              "         ('in', 'china', 'recently'): 2,\n",
              "         ('china', 'recently', 'a'): 1,\n",
              "         ('recently', 'a', 'comprehensive'): 4,\n",
              "         ('a', 'comprehensive', 'association'): 1,\n",
              "         ('comprehensive', 'association', 'study'): 1,\n",
              "         ('association', 'study', 'found'): 1,\n",
              "         ('study', 'found', 'an'): 9,\n",
              "         ('found', 'an', 'independent'): 3,\n",
              "         ('an', 'independent', 'link'): 2,\n",
              "         ('independent', 'link', 'between'): 1,\n",
              "         ('link', 'between', 'six'): 1,\n",
              "         ('between', 'six', 'air'): 1,\n",
              "         ('six', 'air', 'pollutants'): 3,\n",
              "         ('air', 'pollutants', 'including'): 7,\n",
              "         ('pollutants', 'including', 'pm'): 2,\n",
              "         ('including', 'pm', 'and'): 1,\n",
              "         ('pm', 'and', 'pm'): 73,\n",
              "         ('and', 'pm', 'and'): 6,\n",
              "         ('pm', 'and', 'the'): 7,\n",
              "         ('and', 'the', 'number'): 947,\n",
              "         ('the', 'number', 'of'): 14808,\n",
              "         ('number', 'of', 'confirmed'): 456,\n",
              "         ('of', 'confirmed', 'cases'): 784,\n",
              "         ('confirmed', 'cases', 'in'): 294,\n",
              "         ('cases', 'in', 'chinese'): 3,\n",
              "         ('in', 'chinese', 'cities'): 5,\n",
              "         ('chinese', 'cities', 'also'): 1,\n",
              "         ('cities', 'also', 'a'): 1,\n",
              "         ('also', 'a', 'significant'): 60,\n",
              "         ('a', 'significant', 'relationship'): 60,\n",
              "         ('significant', 'relationship', 'between'): 82,\n",
              "         ('relationship', 'between', 'longterm'): 3,\n",
              "         ('between', 'longterm', 'exposure'): 3,\n",
              "         ('longterm', 'exposure', 'to'): 36,\n",
              "         ('exposure', 'to', 'nitrogen'): 5,\n",
              "         ('to', 'nitrogen', 'dioxide'): 8,\n",
              "         ('nitrogen', 'dioxide', 'and'): 10,\n",
              "         ('dioxide', 'and', 'fatalities'): 1,\n",
              "         ('and', 'fatalities', 'has'): 1,\n",
              "         ('fatalities', 'has', 'been'): 1,\n",
              "         ('has', 'been', 'described'): 857,\n",
              "         ('been', 'described', 'several'): 4,\n",
              "         ('described', 'several', 'mechanisms'): 2,\n",
              "         ('several', 'mechanisms', 'have'): 16,\n",
              "         ('mechanisms', 'have', 'been'): 103,\n",
              "         ('have', 'been', 'proposed'): 591,\n",
              "         ('been', 'proposed', 'to'): 382,\n",
              "         ('proposed', 'to', 'explain'): 52,\n",
              "         ('to', 'explain', 'the'): 387,\n",
              "         ('explain', 'the', 'detrimental'): 3,\n",
              "         ('the', 'detrimental', 'association'): 1,\n",
              "         ('detrimental', 'association', 'between'): 1,\n",
              "         ('association', 'between', 'pm'): 8,\n",
              "         ('between', 'pm', 'and'): 16,\n",
              "         ('pm', 'and', 'viral'): 1,\n",
              "         ('and', 'viral', 'infections'): 117,\n",
              "         ('viral', 'infections', 'modifications'): 1,\n",
              "         ('infections', 'modifications', 'of'): 1,\n",
              "         ('modifications', 'of', 'the'): 83,\n",
              "         ('of', 'the', 'respiratory'): 493,\n",
              "         ('the', 'respiratory', 'immune'): 3,\n",
              "         ('respiratory', 'immune', 'response'): 2,\n",
              "         ('immune', 'response', 'to'): 726,\n",
              "         ('response', 'to', 'microbial'): 20,\n",
              "         ('to', 'microbial', 'pathogens'): 4,\n",
              "         ('microbial', 'pathogens', 'increased'): 1,\n",
              "         ('pathogens', 'increased', 'airways'): 1,\n",
              "         ('increased', 'airways', 'vulnerability'): 1,\n",
              "         ('airways', 'vulnerability', 'to'): 1,\n",
              "         ('vulnerability', 'to', 'respiratory'): 2,\n",
              "         ('to', 'respiratory', 'infections'): 31,\n",
              "         ('respiratory', 'infections', 'exacerbation'): 1,\n",
              "         ('infections', 'exacerbation', 'of'): 1,\n",
              "         ('exacerbation', 'of', 'multiple'): 1,\n",
              "         ('of', 'multiple', 'comorbidities'): 6,\n",
              "         ('multiple', 'comorbidities', 'and'): 11,\n",
              "         ('comorbidities', 'and', 'additional'): 1,\n",
              "         ('and', 'additional', 'underresearched'): 1,\n",
              "         ('additional', 'underresearched', 'mechanisms'): 1,\n",
              "         ('underresearched', 'mechanisms', 'eg'): 1,\n",
              "         ('mechanisms', 'eg', 'increased'): 1,\n",
              "         ('eg', 'increased', 'viral'): 1,\n",
              "         ('increased', 'viral', 'spread'): 6,\n",
              "         ('viral', 'spread', 'due'): 1,\n",
              "         ('spread', 'due', 'to'): 10,\n",
              "         ('due', 'to', 'attachment'): 2,\n",
              "         ('to', 'attachment', 'of'): 2,\n",
              "         ('attachment', 'of', 'viral'): 7,\n",
              "         ('of', 'viral', 'particles'): 218,\n",
              "         ('viral', 'particles', 'to'): 43,\n",
              "         ('particles', 'to', 'pm'): 1,\n",
              "         ('to', 'pm', 'condensation'): 1,\n",
              "         ('pm', 'condensation', 'nuclei'): 1,\n",
              "         ('condensation', 'nuclei', 'based'): 1,\n",
              "         ('nuclei', 'based', 'on'): 4,\n",
              "         ('based', 'on', 'these'): 492,\n",
              "         ('on', 'these', 'premises'): 4,\n",
              "         ('these', 'premises', 'on'): 1,\n",
              "         ('premises', 'on', 'the'): 3,\n",
              "         ('on', 'the', 'excess'): 5,\n",
              "         ('the', 'excess', 'of'): 21,\n",
              "         ('excess', 'of', 'pm'): 1,\n",
              "         ('of', 'pm', 'pollution'): 6,\n",
              "         ('pm', 'pollution', 'in'): 4,\n",
              "         ('pollution', 'in', 'specific'): 1,\n",
              "         ('in', 'specific', 'geographical'): 2,\n",
              "         ('specific', 'geographical', 'areas'): 3,\n",
              "         ('geographical', 'areas', 'in'): 9,\n",
              "         ('areas', 'in', 'italy'): 1,\n",
              "         ('in', 'italy', 'and'): 139,\n",
              "         ('italy', 'and', 'on'): 2,\n",
              "         ('and', 'on', 'the'): 701,\n",
              "         ('on', 'the', 'recent'): 26,\n",
              "         ('the', 'recent', 'debate'): 2,\n",
              "         ('recent', 'debate', 'on'): 3,\n",
              "         ('debate', 'on', 'the'): 28,\n",
              "         ('excess', 'of', 'cases'): 9,\n",
              "         ('and', 'deaths', 'in'): 149,\n",
              "         ('deaths', 'in', 'some'): 2,\n",
              "         ('in', 'some', 'areas'): 138,\n",
              "         ('some', 'areas', 'of'): 48,\n",
              "         ('areas', 'of', 'northern'): 9,\n",
              "         ('of', 'northern', 'italy'): 21,\n",
              "         ('northern', 'italy', 'as'): 2,\n",
              "         ('italy', 'as', 'compared'): 2,\n",
              "         ('compared', 'to', 'the'): 3585,\n",
              "         ('to', 'the', 'rest'): 116,\n",
              "         ('the', 'rest', 'of'): 1000,\n",
              "         ('rest', 'of', 'the'): 830,\n",
              "         ('of', 'the', 'country'): 363,\n",
              "         ('the', 'country', 'we'): 27,\n",
              "         ('country', 'we', 'tested'): 1,\n",
              "         ('we', 'tested', 'the'): 248,\n",
              "         ('tested', 'the', 'association'): 3,\n",
              "         ('the', 'association', 'between'): 1077,\n",
              "         ('between', 'pm', 'exposure'): 4,\n",
              "         ('pm', 'exposure', 'and'): 6,\n",
              "         ('exposure', 'and', 'cases'): 3,\n",
              "         ('and', 'cases', 'and'): 24,\n",
              "         ('deaths', 'in', 'different'): 3,\n",
              "         ('in', 'different', 'italian'): 4,\n",
              "         ('different', 'italian', 'regions'): 2,\n",
              "         ('italian', 'regions', 'and'): 8,\n",
              "         ('regions', 'and', 'provincesdata'): 1,\n",
              "         ('and', 'provincesdata', 'were'): 1,\n",
              "         ('provincesdata', 'were', 'extracted'): 1,\n",
              "         ('were', 'extracted', 'from'): 319,\n",
              "         ('extracted', 'from', 'publicly'): 2,\n",
              "         ('from', 'publicly', 'accessible'): 2,\n",
              "         ('publicly', 'accessible', 'databases'): 3,\n",
              "         ('accessible', 'databases', 'and'): 1,\n",
              "         ('databases', 'and', 'stratified'): 1,\n",
              "         ('and', 'stratified', 'by'): 16,\n",
              "         ('stratified', 'by', 'italian'): 1,\n",
              "         ('by', 'italian', 'regions'): 1,\n",
              "         ('regions', 'and', 'up'): 1,\n",
              "         ('and', 'up', 'to'): 259,\n",
              "         ('up', 'to', 'provinces'): 1,\n",
              "         ('to', 'provinces', 'according'): 1,\n",
              "         ('provinces', 'according', 'to'): 2,\n",
              "         ('according', 'to', 'availability'): 3,\n",
              "         ('to', 'availability', 'the'): 1,\n",
              "         ('availability', 'the', 'numbers'): 1,\n",
              "         ('the', 'numbers', 'of'): 649,\n",
              "         ('numbers', 'of', 'cases'): 94,\n",
              "         ('and', 'deaths', 'since'): 6,\n",
              "         ('deaths', 'since', 'st'): 2,\n",
              "         ('since', 'st', 'march'): 1,\n",
              "         ('st', 'march', 'to'): 6,\n",
              "         ('march', 'to', 'st'): 6,\n",
              "         ('to', 'st', 'march'): 4,\n",
              "         ('st', 'march', 'were'): 1,\n",
              "         ('march', 'were', 'retrieved'): 2,\n",
              "         ('were', 'retrieved', 'from'): 183,\n",
              "         ('retrieved', 'from', 'the'): 196,\n",
              "         ('from', 'the', 'daily'): 23,\n",
              "         ('the', 'daily', 'bulletins'): 3,\n",
              "         ('daily', 'bulletins', 'of'): 2,\n",
              "         ('bulletins', 'of', 'the'): 2,\n",
              "         ('of', 'the', 'italian'): 107,\n",
              "         ('the', 'italian', 'ministry'): 23,\n",
              "         ('italian', 'ministry', 'of'): 26,\n",
              "         ('ministry', 'of', 'health'): 600,\n",
              "         ('of', 'health', 'available'): 1,\n",
              "         ('health', 'available', 'at'): 1,\n",
              "         ('available', 'at', 'data'): 1,\n",
              "         ('at', 'data', 'on'): 1,\n",
              "         ('data', 'on', 'the'): 787,\n",
              "         ('on', 'the', 'population'): 104,\n",
              "         ('the', 'population', 'size'): 88,\n",
              "         ('population', 'size', 'on'): 2,\n",
              "         ('size', 'on', 'st'): 1,\n",
              "         ('on', 'st', 'january'): 1,\n",
              "         ('st', 'january', 'the'): 1,\n",
              "         ('january', 'the', 'geographical'): 1,\n",
              "         ('the', 'geographical', 'extension'): 1,\n",
              "         ('geographical', 'extension', 'of'): 3,\n",
              "         ('extension', 'of', 'italian'): 1,\n",
              "         ('of', 'italian', 'regions'): 1,\n",
              "         ('regions', 'and', 'provinces'): 11,\n",
              "         ('and', 'provinces', 'gender'): 1,\n",
              "         ('provinces', 'gender', 'distribution'): 1,\n",
              "         ('gender', 'distribution', 'and'): 5,\n",
              "         ('distribution', 'and', 'the'): 70,\n",
              "         ('and', 'the', 'percentage'): 156,\n",
              "         ('the', 'percentage', 'of'): 1605,\n",
              "         ('percentage', 'of', 'people'): 59,\n",
              "         ('of', 'people', 'aged'): 18,\n",
              "         ('people', 'aged', 'years'): 51,\n",
              "         ('aged', 'years', 'were'): 55,\n",
              "         ('years', 'were', 'collected'): 8,\n",
              "         ('were', 'collected', 'from'): 937,\n",
              "         ('collected', 'from', 'the'): 500,\n",
              "         ('from', 'the', 'italian'): 27,\n",
              "         ('the', 'italian', 'national'): 41,\n",
              "         ('italian', 'national', 'statistical'): 3,\n",
              "         ('national', 'statistical', 'institute'): 8,\n",
              "         ('statistical', 'institute', 'istat'): 5,\n",
              "         ('institute', 'istat', 'database'): 1,\n",
              "         ('istat', 'database', 'available'): 1,\n",
              "         ('database', 'available', 'at'): 4,\n",
              "         ('available', 'at', 'it'): 3,\n",
              "         ('at', 'it', 'mean'): 1,\n",
              "         ('it', 'mean', 'population'): 1,\n",
              "         ('mean', 'population', 'exposure'): 1,\n",
              "         ('population', 'exposure', 'to'): 7,\n",
              "         ('exposure', 'to', 'pm'): 30,\n",
              "         ('to', 'pm', 'and'): 16,\n",
              "         ('number', 'of', 'days'): 383,\n",
              "         ('of', 'days', 'exceeding'): 3,\n",
              "         ('days', 'exceeding', 'the'): 3,\n",
              "         ('exceeding', 'the', 'limit'): 3,\n",
              "         ('the', 'limit', 'value'): 7,\n",
              "         ('limit', 'value', 'of'): 6,\n",
              "         ('value', 'of', 'exposure'): 3,\n",
              "         ('of', 'exposure', 'to'): 486,\n",
              "         ('to', 'pm', 'in'): 5,\n",
              "         ('pm', 'in', 'were'): 1,\n",
              "         ('in', 'were', 'extracted'): 1,\n",
              "         ('extracted', 'from', 'the'): 516,\n",
              "         ('italian', 'national', 'institute'): 20,\n",
              "         ('national', 'institute', 'for'): 134,\n",
              "         ('institute', 'for', 'environmental'): 3,\n",
              "         ('for', 'environmental', 'protection'): 4,\n",
              "         ('environmental', 'protection', 'and'): 17,\n",
              "         ('protection', 'and', 'research'): 1,\n",
              "         ('and', 'research', 'ispra'): 1,\n",
              "         ('research', 'ispra', 'databases'): 1,\n",
              "         ('ispra', 'databases', 'available'): 1,\n",
              "         ('databases', 'available', 'at'): 1,\n",
              "         ('available', 'at', 'govit'): 1,\n",
              "         ('at', 'govit', 'the'): 1,\n",
              "         ('govit', 'the', 'mean'): 1,\n",
              "         ('the', 'mean', 'annual'): 9,\n",
              "         ('mean', 'annual', 'temperatures'): 1,\n",
              "         ('annual', 'temperatures', 'recorded'): 1,\n",
              "         ('temperatures', 'recorded', 'in'): 2,\n",
              "         ('recorded', 'in', 'in'): 4,\n",
              "         ('in', 'in', 'different'): 3,\n",
              "         ('different', 'italian', 'provinces'): 1,\n",
              "         ('italian', 'provinces', 'were'): 1,\n",
              "         ('provinces', 'were', 'extracted'): 1,\n",
              "         ('from', 'the', 'istat'): 1,\n",
              "         ('the', 'istat', 'database'): 1,\n",
              "         ('istat', 'database', 'and'): 1,\n",
              "         ('database', 'and', 'the'): 50,\n",
              "         ('and', 'the', 'mean'): 343,\n",
              "         ('the', 'mean', 'relative'): 21,\n",
              "         ('mean', 'relative', 'humidity'): 16,\n",
              "         ('relative', 'humidity', 'in'): 17,\n",
              "         ('humidity', 'in', 'the'): 25,\n",
              "         ('in', 'the', 'last'): 1209,\n",
              "         ('the', 'last', 'three'): 117,\n",
              "         ('last', 'three', 'decades'): 26,\n",
              "         ('three', 'decades', 'was'): 1,\n",
              "         ('decades', 'was', 'sourced'): 1,\n",
              "         ('was', 'sourced', 'from'): 15,\n",
              "         ('sourced', 'from', 'an'): 1,\n",
              "         ('from', 'an', 'official'): 2,\n",
              "         ('an', 'official', 'italian'): 1,\n",
              "         ('official', 'italian', 'weather'): 1,\n",
              "         ('italian', 'weather', 'forecast'): 1,\n",
              "         ('weather', 'forecast', 'website'): 1,\n",
              "         ('forecast', 'website', 'statistical'): 1,\n",
              "         ('website', 'statistical', 'package'): 1,\n",
              "         ('statistical', 'package', 'release'): 1,\n",
              "         ('package', 'release', 'spss'): 1,\n",
              "         ('release', 'spss', 'inc'): 3,\n",
              "         ('spss', 'inc', 'chicago'): 114,\n",
              "         ('inc', 'chicago', 'iii'): 1,\n",
              "         ('chicago', 'iii', 'was'): 1,\n",
              "         ('iii', 'was', 'used'): 2,\n",
              "         ('was', 'used', 'for'): 1647,\n",
              "         ('used', 'for', 'statistical'): 104,\n",
              "         ('for', 'statistical', 'analyses'): 15,\n",
              "         ('statistical', 'analyses', 'base'): 1,\n",
              "         ('analyses', 'base', 'logarithmic'): 1,\n",
              "         ('base', 'logarithmic', 'lg'): 1,\n",
              "         ('logarithmic', 'lg', 'transformation'): 1,\n",
              "         ('lg', 'transformation', 'was'): 1,\n",
              "         ('transformation', 'was', 'performed'): 2,\n",
              "         ('was', 'performed', 'for'): 291,\n",
              "         ('performed', 'for', 'skewed'): 1,\n",
              "         ('for', 'skewed', 'variables'): 2,\n",
              "         ('skewed', 'variables', 'the'): 1,\n",
              "         ('variables', 'the', 'incidence'): 1,\n",
              "         ('the', 'incidence', 'proportion'): 4,\n",
              "         ('incidence', 'proportion', 'was'): 1,\n",
              "         ('proportion', 'was', 'calculated'): 1,\n",
              "         ('was', 'calculated', 'as'): 348,\n",
              "         ('calculated', 'as', 'the'): 263,\n",
              "         ('as', 'the', 'ratio'): 136,\n",
              "         ('the', 'ratio', 'between'): 152,\n",
              "         ('ratio', 'between', 'cases'): 1,\n",
              "         ('between', 'cases', 'recorded'): 1,\n",
              "         ('cases', 'recorded', 'in'): 5,\n",
              "         ('recorded', 'in', 'march'): 4,\n",
              "         ('in', 'march', 'and'): 103,\n",
              "         ('march', 'and', 'the'): 57,\n",
              "         ('and', 'the', 'regionalprovincial'): 1,\n",
              "         ('the', 'regionalprovincial', 'population'): 1,\n",
              "         ('regionalprovincial', 'population', 'sizes'): 1,\n",
              "         ('population', 'sizes', 'per'): 2,\n",
              "         ('sizes', 'per', 'inhabitants'): 2,\n",
              "         ('per', 'inhabitants', 'the'): 3,\n",
              "         ('inhabitants', 'the', 'death'): 1,\n",
              "         ('the', 'death', 'rate'): 209,\n",
              "         ('death', 'rate', 'was'): 21,\n",
              "         ('rate', 'was', 'calculated'): 38,\n",
              "         ('ratio', 'between', 'deaths'): 3,\n",
              "         ('between', 'deaths', 'recorded'): 1,\n",
              "         ('deaths', 'recorded', 'in'): 8,\n",
              "         ('and', 'the', 'regional'): 18,\n",
              "         ('the', 'regional', 'population'): 11,\n",
              "         ('regional', 'population', 'sizes'): 1,\n",
              "         ('per', 'inhabitants', 'data'): 1,\n",
              "         ('inhabitants', 'data', 'for'): 1,\n",
              "         ('data', 'for', 'provincial'): 1,\n",
              "         ('for', 'provincial', 'death'): 1,\n",
              "         ('provincial', 'death', 'rates'): 1,\n",
              "         ('death', 'rates', 'were'): 14,\n",
              "         ('rates', 'were', 'unavailable'): 2,\n",
              "         ('were', 'unavailable', 'anova'): 1,\n",
              "         ('unavailable', 'anova', 'was'): 1,\n",
              "         ('anova', 'was', 'used'): 34,\n",
              "         ('was', 'used', 'to'): 4270,\n",
              "         ('used', 'to', 'compare'): 414,\n",
              "         ('to', 'compare', 'pm'): 1,\n",
              "         ('compare', 'pm', 'measurements'): 1,\n",
              "         ('pm', 'measurements', 'across'): 1,\n",
              "         ('measurements', 'across', 'provinces'): 1,\n",
              "         ('across', 'provinces', 'by'): 2,\n",
              "         ('provinces', 'by', 'geographical'): 1,\n",
              "         ('by', 'geographical', 'distribution'): 1,\n",
              "         ('geographical', 'distribution', 'north'): 1,\n",
              "         ('distribution', 'north', 'centre'): 1,\n",
              "         ('north', 'centre', 'southislands'): 2,\n",
              "         ('centre', 'southislands', 'spearmans'): 1,\n",
              "         ('southislands', 'spearmans', 'and'): 1,\n",
              "         ('spearmans', 'and', 'pearsons'): 1,\n",
              "         ('and', 'pearsons', 'correlations'): 1,\n",
              "         ('pearsons', 'correlations', 'were'): 5,\n",
              "         ('correlations', 'were', 'used'): 8,\n",
              "         ('were', 'used', 'to'): 2384,\n",
              "         ('used', 'to', 'test'): 228,\n",
              "         ('to', 'test', 'the'): 745,\n",
              "         ('test', 'the', 'crude'): 2,\n",
              "         ('the', 'crude', 'associations'): 1,\n",
              "         ('crude', 'associations', 'between'): 1,\n",
              "         ('associations', 'between', 'the'): 74,\n",
              "         ('between', 'the', 'study'): 25,\n",
              "         ('the', 'study', 'variables'): 17,\n",
              "         ('study', 'variables', 'multiple'): 1,\n",
              "         ('variables', 'multiple', 'linear'): 2,\n",
              "         ('multiple', 'linear', 'regression'): 119,\n",
              "         ('linear', 'regression', 'analyses'): 32,\n",
              "         ('regression', 'analyses', 'were'): 72,\n",
              "         ('analyses', 'were', 'performed'): 723,\n",
              "         ('were', 'performed', 'to'): 320,\n",
              "         ('performed', 'to', 'test'): 31,\n",
              "         ('to', 'test', 'whether'): 213,\n",
              "         ('test', 'whether', 'the'): 84,\n",
              "         ('whether', 'the', 'exposure'): 3,\n",
              "         ('the', 'exposure', 'to'): 118,\n",
              "         ('and', 'pm', 'was'): 2,\n",
              "         ('pm', 'was', 'associated'): 3,\n",
              "         ('was', 'associated', 'with'): 2552,\n",
              "         ('associated', 'with', 'either'): 37,\n",
              "         ('with', 'either', 'incidence'): 1,\n",
              "         ('either', 'incidence', 'proportions'): 1,\n",
              "         ('incidence', 'proportions', 'across'): 1,\n",
              "         ('proportions', 'across', 'italian'): 1,\n",
              "         ('across', 'italian', 'regions'): 5,\n",
              "         ('and', 'provinces', 'or'): 1,\n",
              "         ('provinces', 'or', 'death'): 1,\n",
              "         ('or', 'death', 'rates'): 2,\n",
              "         ('death', 'rates', 'across'): 3,\n",
              "         ('rates', 'across', 'italian'): 1,\n",
              "         ('italian', 'regions', 'variables'): 1,\n",
              "         ('regions', 'variables', 'with'): 1,\n",
              "         ('variables', 'with', 'a'): 51,\n",
              "         ('with', 'a', 'significant'): 278,\n",
              "         ('a', 'significant', 'crude'): 1,\n",
              "         ('significant', 'crude', 'association'): 3,\n",
              "         ('crude', 'association', 'with'): 2,\n",
              "         ('association', 'with', 'endpoints'): 1,\n",
              "         ('with', 'endpoints', 'incidence'): 1,\n",
              "         ('endpoints', 'incidence', 'proportion'): 1,\n",
              "         ('incidence', 'proportion', 'and'): 6,\n",
              "         ('proportion', 'and', 'becausespecific'): 3,\n",
              "         ('and', 'becausespecific', 'death'): 4,\n",
              "         ('becausespecific', 'death', 'rate'): 4,\n",
              "         ('death', 'rate', 'were'): 6,\n",
              "         ('rate', 'were', 'included'): 2,\n",
              "         ('were', 'included', 'as'): 118,\n",
              "         ('included', 'as', 'covariates'): 8,\n",
              "         ('as', 'covariates', 'in'): 12,\n",
              "         ('covariates', 'in', 'the'): 17,\n",
              "         ('in', 'the', 'multivariable'): 81,\n",
              "         ('the', 'multivariable', 'regression'): 6,\n",
              "         ('multivariable', 'regression', 'analyses'): 7,\n",
              "         ('regression', 'analyses', 'thus'): 1,\n",
              "         ('analyses', 'thus', 'gender'): 1,\n",
              "         ('thus', 'gender', 'distribution'): 1,\n",
              "         ('gender', 'distribution', 'across'): 1,\n",
              "         ('distribution', 'across', 'regions'): 1,\n",
              "         ('across', 'regions', 'and'): 16,\n",
              "         ('and', 'provinces', 'and'): 2,\n",
              "         ('provinces', 'and', 'territorial'): 1,\n",
              "         ('and', 'territorial', 'extension'): 4,\n",
              "         ('territorial', 'extension', 'were'): 1,\n",
              "         ('extension', 'were', 'always'): 1,\n",
              "         ('were', 'always', 'included'): 2,\n",
              "         ('always', 'included', 'as'): 1,\n",
              "         ('included', 'as', 'independent'): 3,\n",
              "         ('as', 'independent', 'confounders'): 1,\n",
              "         ('independent', 'confounders', 'in'): 1,\n",
              "         ('confounders', 'in', 'addition'): 3,\n",
              "         ('in', 'addition', 'to'): 4546,\n",
              "         ('addition', 'to', 'the'): 1416,\n",
              "         ('to', 'the', 'aforementioned'): 59,\n",
              "         ('the', 'aforementioned', 'covariates'): 2,\n",
              "         ('aforementioned', 'covariates', 'mean'): 1,\n",
              "         ('covariates', 'mean', 'annual'): 1,\n",
              "         ('mean', 'annual', 'temperature'): 5,\n",
              "         ('annual', 'temperature', 'and'): 2,\n",
              "         ('temperature', 'and', 'relative'): 71,\n",
              "         ('and', 'relative', 'humidity'): 130,\n",
              "         ('relative', 'humidity', 'were'): 11,\n",
              "         ('humidity', 'were', 'included'): 1,\n",
              "         ('were', 'included', 'in'): 1227,\n",
              "         ('included', 'in', 'the'): 2547,\n",
              "         ('regression', 'analyses', 'carried'): 1,\n",
              "         ('analyses', 'carried', 'out'): 7,\n",
              "         ('carried', 'out', 'at'): 232,\n",
              "         ('out', 'at', 'the'): 65,\n",
              "         ('at', 'the', 'provincial'): 57,\n",
              "         ('the', 'provincial', 'level'): 33,\n",
              "         ('provincial', 'level', 'table'): 2,\n",
              "         ('level', 'table', 'i'): 1,\n",
              "         ('table', 'i', 'lombardia'): 1,\n",
              "         ('i', 'lombardia', 'was'): 1,\n",
              "         ('lombardia', 'was', 'the'): 1,\n",
              "         ('was', 'the', 'italian'): 3,\n",
              "         ('the', 'italian', 'region'): 9,\n",
              "         ('italian', 'region', 'with'): 3,\n",
              "         ('region', 'with', 'highest'): 1,\n",
              "         ('with', 'highest', 'number'): 2,\n",
              "         ('highest', 'number', 'of'): 249,\n",
              "         ('and', 'deaths', 'accounting'): 2,\n",
              "         ('deaths', 'accounting', 'for'): 3,\n",
              "         ('accounting', 'for', 'and'): 18,\n",
              "         ('for', 'and', 'of'): 52,\n",
              "         ('and', 'of', 'the'): 1337,\n",
              "         ('the', 'italian', 'cases'): 2,\n",
              "         ('italian', 'cases', 'and'): 1,\n",
              "         ('and', 'deaths', 'respectively'): 18,\n",
              "         ('deaths', 'respectively', 'the'): 2,\n",
              "         ('respectively', 'the', 'lowest'): 4,\n",
              "         ('the', 'lowest', 'numbers'): 6,\n",
              "         ('lowest', 'numbers', 'of'): 3,\n",
              "         ('and', 'deaths', 'were'): 61,\n",
              "         ('deaths', 'were', 'recorded'): 16,\n",
              "         ('were', 'recorded', 'in'): 176,\n",
              "         ('recorded', 'in', 'molise'): 1,\n",
              "         ('in', 'molise', 'and'): 1,\n",
              "         ('molise', 'and', 'basilicata'): 2,\n",
              "         ('and', 'basilicata', 'respectively'): 1,\n",
              "         ('basilicata', 'respectively', 'table'): 1,\n",
              "         ('respectively', 'table', 'i'): 2,\n",
              "         ('table', 'i', 'data'): 2,\n",
              "         ('i', 'data', 'on'): 1,\n",
              "         ('on', 'the', 'number'): 514,\n",
              "         ('of', 'cases', 'stratified'): 1,\n",
              "         ('cases', 'stratified', 'by'): 5,\n",
              "         ('stratified', 'by', 'date'): 1,\n",
              "         ('by', 'date', 'and'): 1,\n",
              "         ('date', 'and', 'italian'): 1,\n",
              "         ('and', 'italian', 'provinces'): 1,\n",
              "         ('italian', 'provinces', 'are'): 1,\n",
              "         ('provinces', 'are', 'available'): 1,\n",
              "         ('are', 'available', 'at'): 129,\n",
              "         ('available', 'at', 'www'): 3,\n",
              "         ('at', 'www', 'epicentroissitexposure'): 1,\n",
              "         ('www', 'epicentroissitexposure', 'to'): 1,\n",
              "         ('epicentroissitexposure', 'to', 'pm'): 1,\n",
              "         ('and', 'pm', 'across'): 1,\n",
              "         ('pm', 'across', 'italian'): 1,\n",
              "         ('and', 'provinces', 'as'): 1,\n",
              "         ('provinces', 'as', 'depicted'): 1,\n",
              "         ('as', 'depicted', 'in'): 122,\n",
              "         ('depicted', 'in', 'figure'): 174,\n",
              "         ('in', 'figure', 'a'): 151,\n",
              "         ('figure', 'a', 'lombardia'): 1,\n",
              "         ('a', 'lombardia', 'and'): 1,\n",
              "         ('lombardia', 'and', 'veneto'): 2,\n",
              "         ('and', 'veneto', 'were'): 1,\n",
              "         ('veneto', 'were', 'the'): 1,\n",
              "         ('were', 'the', 'italian'): 1,\n",
              "         ('the', 'italian', 'regions'): 11,\n",
              "         ('italian', 'regions', 'with'): 4,\n",
              "         ('regions', 'with', 'the'): 53,\n",
              "         ('with', 'the', 'highest'): 720,\n",
              "         ('the', 'highest', 'mean'): 29,\n",
              "         ('highest', 'mean', 'exposure'): 1,\n",
              "         ('mean', 'exposure', 'to'): 3,\n",
              "         ('and', 'pm', 'whereas'): 1,\n",
              "         ('pm', 'whereas', 'sardegna'): 1,\n",
              "         ('whereas', 'sardegna', 'and'): 1,\n",
              "         ('sardegna', 'and', 'valle'): 1,\n",
              "         ('and', 'valle', 'daosta'): 2,\n",
              "         ('valle', 'daosta', 'were'): 1,\n",
              "         ('daosta', 'were', 'those'): 1,\n",
              "         ('were', 'those', 'with'): 15,\n",
              "         ('those', 'with', 'the'): 82,\n",
              "         ('with', 'the', 'lowest'): 178,\n",
              "         ('the', 'lowest', 'mean'): 14,\n",
              "         ('lowest', 'mean', 'exposure'): 1,\n",
              "         ('and', 'pm', 'respectively'): 6,\n",
              "         ('pm', 'respectively', 'across'): 1,\n",
              "         ('respectively', 'across', 'italian'): 1,\n",
              "         ('across', 'italian', 'provinces'): 4,\n",
              "         ('italian', 'provinces', 'stratified'): 1,\n",
              "         ('provinces', 'stratified', 'according'): 1,\n",
              "         ('stratified', 'according', 'to'): 50,\n",
              "         ('according', 'to', 'geographical'): 4,\n",
              "         ('to', 'geographical', 'positioning'): 1,\n",
              "         ('geographical', 'positioning', 'ie'): 1,\n",
              "         ('positioning', 'ie', 'north'): 1,\n",
              "         ('ie', 'north', 'centre'): 1,\n",
              "         ('centre', 'southislands', 'additional'): 1,\n",
              "         ('southislands', 'additional', 'data'): 1,\n",
              "         ('additional', 'data', 'regarding'): 2,\n",
              "         ('data', 'regarding', 'the'): 114,\n",
              "         ('regarding', 'the', 'number'): 19,\n",
              "         ('pm', 'in', 'are'): 1,\n",
              "         ('in', 'are', 'reported'): 2,\n",
              "         ('are', 'reported', 'in'): 307,\n",
              "         ('reported', 'in', 'figure'): 46,\n",
              "         ('in', 'figure', 'two'): 12,\n",
              "         ('figure', 'two', 'multiple'): 1,\n",
              "         ('two', 'multiple', 'linear'): 2,\n",
              "         ('linear', 'regression', 'models'): 51,\n",
              "         ('regression', 'models', 'were'): 134,\n",
              "         ('models', 'were', 'elaborated'): 3,\n",
              "         ('were', 'elaborated', 'including'): 3,\n",
              "         ('elaborated', 'including', 'the'): 3,\n",
              "         ('including', 'the', 'incidence'): 5,\n",
              "         ('incidence', 'proportion', 'as'): 2,\n",
              "         ('proportion', 'as', 'the'): 3,\n",
              "         ('as', 'the', 'dependent'): 78,\n",
              "         ('the', 'dependent', 'variable'): 220,\n",
              "         ('dependent', 'variable', 'and'): 41,\n",
              "         ('variable', 'and', 'the'): 47,\n",
              "         ('and', 'the', 'following'): 147,\n",
              "         ('the', 'following', 'independent'): 8,\n",
              "         ('following', 'independent', 'variables'): 4,\n",
              "         ('independent', 'variables', 'gender'): 4,\n",
              "         ('variables', 'gender', 'distribution'): 2,\n",
              "         ('gender', 'distribution', 'territorial'): 2,\n",
              "         ('distribution', 'territorial', 'region'): 1,\n",
              "         ('territorial', 'region', 'extension'): 1,\n",
              "         ('region', 'extension', 'and'): 1,\n",
              "         ('extension', 'and', 'the'): 7,\n",
              "         ('the', 'regional', 'mean'): 1,\n",
              "         ('regional', 'mean', 'annual'): 1,\n",
              "         ('mean', 'annual', 'exposure'): 3,\n",
              "         ('annual', 'exposure', 'to'): 3,\n",
              "         ('and', 'pm', 'table'): 1,\n",
              "         ('pm', 'table', 'ii'): 2,\n",
              "         ('table', 'ii', 'both'): 2,\n",
              "         ('ii', 'both', 'pm'): 2,\n",
              "         ('both', 'pm', 'and'): 2,\n",
              "         ('and', 'pm', 'were'): 8,\n",
              "         ('pm', 'were', 'associated'): 1,\n",
              "         ('were', 'associated', 'with'): 1254,\n",
              "         ('associated', 'with', 'incidence'): 9,\n",
              "         ('with', 'incidence', 'proportion'): 7,\n",
              "         ('incidence', 'proportion', 'irrespective'): 1,\n",
              "         ('proportion', 'irrespective', 'of'): 1,\n",
              "         ('irrespective', 'of', 'confounders'): 1,\n",
              "         ('of', 'confounders', 'p'): 1,\n",
              "         ('confounders', 'p', 'and'): 1,\n",
              "         ('p', 'and', 'p'): 543,\n",
              "         ('and', 'p', 'respectively'): 181,\n",
              "         ('p', 'respectively', 'two'): 1,\n",
              "         ('respectively', 'two', 'additional'): 1,\n",
              "         ('two', 'additional', 'multiple'): 1,\n",
              "         ('additional', 'multiple', 'linear'): 2,\n",
              "         ('including', 'the', 'death'): 1,\n",
              "         ('death', 'rate', 'as'): 7,\n",
              "         ('rate', 'as', 'the'): 28,\n",
              "         ('and', 'the', 'same'): 180,\n",
              "         ('the', 'same', 'independent'): 2,\n",
              "         ('same', 'independent', 'variables'): 1,\n",
              "         ('independent', 'variables', 'as'): 7,\n",
              "         ('variables', 'as', 'in'): 1,\n",
              "         ('as', 'in', 'the'): 1089,\n",
              "         ('in', 'the', 'previous'): 750,\n",
              "         ('the', 'previous', 'regression'): 1,\n",
              "         ('previous', 'regression', 'model'): 1,\n",
              "         ('regression', 'model', 'table'): 8,\n",
              "         ('model', 'table', 'ii'): 1,\n",
              "         ('table', 'ii', 'crude'): 1,\n",
              "         ('ii', 'crude', 'positive'): 1,\n",
              "         ('crude', 'positive', 'correlations'): 1,\n",
              "         ('positive', 'correlations', 'between'): 32,\n",
              "         ('correlations', 'between', 'the'): 112,\n",
              "         ('between', 'the', 'mean'): 41,\n",
              "         ('exposure', 'to', 'either'): 15,\n",
              "         ('to', 'either', 'pm'): 2,\n",
              "         ('either', 'pm', 'available'): 1,\n",
              "         ('pm', 'available', 'complete'): 2,\n",
              "         ('available', 'complete', 'data'): 3,\n",
              "         ('complete', 'data', 'for'): 12,\n",
              "         ('data', 'for', 'provinces'): 2,\n",
              "         ('for', 'provinces', 'or'): 1,\n",
              "         ('provinces', 'or', 'pm'): 1,\n",
              "         ('or', 'pm', 'available'): 1,\n",
              "         ('for', 'provinces', 'and'): 2,\n",
              "         ('provinces', 'and', 'cases'): 1,\n",
              "         ('and', 'cases', 'are'): 10,\n",
              "         ('cases', 'are', 'depicted'): 4,\n",
              "         ('are', 'depicted', 'in'): 137,\n",
              "         ('depicted', 'in', 'figures'): 8,\n",
              "         ('in', 'figures', 'a'): 7,\n",
              "         ('figures', 'a', 'and'): 5,\n",
              "         ('a', 'and', 'b'): 1388,\n",
              "         ('and', 'b', 'respectivelytwo'): 1,\n",
              "         ('b', 'respectivelytwo', 'multiple'): 1,\n",
              "         ('respectivelytwo', 'multiple', 'linear'): 1,\n",
              "         ('proportion', 'and', 'the'): 12,\n",
              "         ('distribution', 'territorial', 'provincial'): 1,\n",
              "         ('territorial', 'provincial', 'extension'): 1,\n",
              "         ('provincial', 'extension', 'mean'): 1,\n",
              "         ('extension', 'mean', 'annual'): 1,\n",
              "         ('annual', 'temperature', 'relative'): 1,\n",
              "         ('temperature', 'relative', 'humidity'): 38,\n",
              "         ('relative', 'humidity', 'and'): 76,\n",
              "         ('humidity', 'and', 'the'): 25,\n",
              "         ('and', 'the', 'provincial'): 4,\n",
              "         ('the', 'provincial', 'mean'): 1,\n",
              "         ('provincial', 'mean', 'annual'): 1,\n",
              "         ('either', 'pm', 'or'): 1,\n",
              "         ('pm', 'or', 'pm'): 8,\n",
              "         ('or', 'pm', 'table'): 1,\n",
              "         ('and', 'pm', 'exposures'): 1,\n",
              "         ('pm', 'exposures', 'were'): 1,\n",
              "         ('exposures', 'were', 'independently'): 1,\n",
              "         ('were', 'independently', 'associated'): 76,\n",
              "         ('independently', 'associated', 'with'): 304,\n",
              "         ('incidence', 'proportion', 'across'): 1,\n",
              "         ('proportion', 'across', 'italian'): 1,\n",
              "         ('italian', 'provinces', 'p'): 1,\n",
              "         ('provinces', 'p', 'and'): 1,\n",
              "         ('p', 'respectively', 'table'): 15,\n",
              "         ('respectively', 'table', 'ii'): 3,\n",
              "         ('table', 'ii', 'in'): 12,\n",
              "         ('ii', 'in', 'the'): 39,\n",
              "         ('in', 'the', 'regression'): 60,\n",
              "         ('the', 'regression', 'model'): 44,\n",
              "         ('regression', 'model', 'with'): 38,\n",
              "         ('model', 'with', 'pm'): 1,\n",
              "         ('with', 'pm', 'as'): 1,\n",
              "         ('pm', 'as', 'an'): 2,\n",
              "         ('as', 'an', 'independent'): 126,\n",
              "         ('an', 'independent', 'variable'): 22,\n",
              "         ('independent', 'variable', 'both'): 1,\n",
              "         ('variable', 'both', 'mean'): 1,\n",
              "         ('both', 'mean', 'annual'): 1,\n",
              "         ('annual', 'temperature', 'p'): 2,\n",
              "         ('temperature', 'p', 'and'): 5,\n",
              "         ('p', 'and', 'relative'): 3,\n",
              "         ('relative', 'humidity', 'p'): 5,\n",
              "         ('humidity', 'p', 'were'): 2,\n",
              "         ('p', 'were', 'independently'): 14,\n",
              "         ('incidence', 'proportion', 'similar'): 1,\n",
              "         ('proportion', 'similar', 'results'): 1,\n",
              "         ('similar', 'results', 'for'): 32,\n",
              "         ('results', 'for', 'annual'): 1,\n",
              "         ('for', 'annual', 'temperature'): 1,\n",
              "         ('p', 'were', 'observed'): 14,\n",
              "         ('were', 'observed', 'in'): 1013,\n",
              "         ('observed', 'in', 'the'): 1799,\n",
              "         ('in', 'the', 'pm'): 10,\n",
              "         ('the', 'pm', 'multivariate'): 1,\n",
              "         ('pm', 'multivariate', 'modelan'): 1,\n",
              "         ('multivariate', 'modelan', 'additional'): 1,\n",
              "         ('modelan', 'additional', 'multiple'): 1,\n",
              "         ('linear', 'regression', 'analysis'): 137,\n",
              "         ('regression', 'analysis', 'in'): 20,\n",
              "         ('analysis', 'in', 'italian'): 1,\n",
              "         ('in', 'italian', 'provinces'): 3,\n",
              "         ('italian', 'provinces', 'was'): 2,\n",
              "         ('provinces', 'was', 'performed'): 1,\n",
              "         ('was', 'performed', 'with'): 671,\n",
              "         ('performed', 'with', 'incidence'): 1,\n",
              "         ('to', 'pm', 'as'): 1,\n",
              "         ('independent', 'variable', 'along'): 1,\n",
              "         ('variable', 'along', 'with'): 2,\n",
              "         ('along', 'with', 'confounders'): 1,\n",
              "         ('with', 'confounders', 'also'): 1,\n",
              "         ('confounders', 'also', 'in'): 1,\n",
              "         ('also', 'in', 'this'): 53,\n",
              "         ('in', 'this', 'regression'): 3,\n",
              "         ('this', 'regression', 'model'): 1,\n",
              "         ('regression', 'model', 'the'): 29,\n",
              "         ('model', 'the', 'index'): 1,\n",
              "         ('the', 'index', 'of'): 51,\n",
              "         ('index', 'of', 'pm'): 1,\n",
              "         ('of', 'pm', 'exposure'): 3,\n",
              "         ('pm', 'exposure', 'was'): 1,\n",
              "         ('exposure', 'was', 'independently'): 1,\n",
              "         ('was', 'independently', 'associated'): 97,\n",
              "         ('incidence', 'proportion', 'p'): 1,\n",
              "         ('proportion', 'p', 'table'): 1,\n",
              "         ('p', 'table', 'ii'): 4,\n",
              "         ('ii', 'in', 'this'): 6,\n",
              "         ('in', 'this', 'study'): 6781,\n",
              "         ('this', 'study', 'exploring'): 1,\n",
              "         ('study', 'exploring', 'the'): 6,\n",
              "         ('exploring', 'the', 'association'): 4,\n",
              "         ('association', 'between', 'past'): 1,\n",
              "         ('between', 'past', 'pm'): 1,\n",
              "         ('past', 'pm', 'and'): 1,\n",
              "         ('and', 'the', 'excess'): 25,\n",
              "         ('excess', 'of', 'related'): 1,\n",
              "         ('of', 'related', 'features'): 2,\n",
              "         ('related', 'features', 'ie'): 1,\n",
              "         ('features', 'ie', 'cases'): 1,\n",
              "         ('ie', 'cases', 'and'): 4,\n",
              "         ('deaths', 'in', 'italy'): 14,\n",
              "         ('in', 'italy', 'two'): 2,\n",
              "         ('italy', 'two', 'main'): 1,\n",
              "         ('two', 'main', 'results'): 3,\n",
              "         ('main', 'results', 'emerged'): 1,\n",
              "         ('results', 'emerged', 'first'): 1,\n",
              "         ('emerged', 'first', 'an'): 1,\n",
              "         ('first', 'an', 'extremely'): 1,\n",
              "         ('an', 'extremely', 'heterogeneous'): 4,\n",
              "         ('extremely', 'heterogeneous', 'distribution'): 2,\n",
              "         ('heterogeneous', 'distribution', 'of'): 9,\n",
              "         ('distribution', 'of', 'cases'): 55,\n",
              "         ('and', 'deaths', 'across'): 11,\n",
              "         ('deaths', 'across', 'italian'): 1,\n",
              "         ('and', 'provinces', 'was'): 1,\n",
              "         ('provinces', 'was', 'evident'): 2,\n",
              "         ('was', 'evident', 'second'): 1,\n",
              "         ('evident', 'second', 'regionstratified'): 1,\n",
              "         ('second', 'regionstratified', 'and'): 1,\n",
              "         ('regionstratified', 'and', 'provincestratified'): 1,\n",
              "         ('and', 'provincestratified', 'exposure'): 1,\n",
              "         ('provincestratified', 'exposure', 'to'): 1,\n",
              "         ('death', 'rate', 'irrespective'): 1,\n",
              "         ('rate', 'irrespective', 'of'): 3,\n",
              "         ('irrespective', 'of', 'demographic'): 1,\n",
              "         ('of', 'demographic', 'and'): 28,\n",
              "         ('demographic', 'and', 'climatic'): 3,\n",
              "         ('and', 'climatic', 'confounders'): 1,\n",
              "         ('climatic', 'confounders', 'cases'): 1,\n",
              "         ('confounders', 'cases', 'cases'): 1,\n",
              "         ('cases', 'cases', 'n'): 1,\n",
              "         ('cases', 'n', 'a'): 1,\n",
              "         ('n', 'a', 'b'): 8,\n",
              "         ('a', 'b', 'in'): 12,\n",
              "         ('b', 'in', 'the'): 87,\n",
              "         ('in', 'the', 'analysis'): 525,\n",
              "         ('the', 'analysis', 'restricted'): 1,\n",
              "         ('analysis', 'restricted', 'to'): 10,\n",
              "         ('restricted', 'to', 'the'): 212,\n",
              "         ('to', 'the', 'italian'): 27,\n",
              "         ('the', 'italian', 'data'): 14,\n",
              "         ('italian', 'data', 'of'): 1,\n",
              "         ...})"
            ]
          },
          "metadata": {},
          "execution_count": 27
        }
      ]
    },
    {
      "cell_type": "code",
      "source": [
        "def preplexity_trigram(sentence):\n",
        "  sentence=preprocessing(sentence)\n",
        "  sentence='<s> ' + str(sentence)+ ' </s>'\n",
        "  sentence = sentence.split(' ')\n",
        "  p=(vocab_10[sentence[0]]+1)/len(vocab_10)\n",
        "  for i in range(len(sentence)-2):\n",
        "    word= (sentence[i], sentence[i+1],sentence[i+2])\n",
        "    if word in tri_model.keys():\n",
        "      p*=(tri_model[word]+1)/(bigram_10k[(word[0],word[1])]+len(vocab_10))\n",
        "    elif (word[0],word[1]) in bigram_10k.keys():\n",
        "      p*=1/(bigram_10k[(word[0],word[1])]+len(vocab_10))\n",
        "    else:\n",
        "      p*=1/(len(vocab_10))\n",
        "  return (p)**(-1/len(sentence))"
      ],
      "metadata": {
        "id": "uQBwMym_Z8fc"
      },
      "execution_count": null,
      "outputs": []
    },
    {
      "cell_type": "code",
      "source": [
        "preplexity_trigram('it appears that the overall code stroke volume has decreased since the covid-pandemic.')"
      ],
      "metadata": {
        "colab": {
          "base_uri": "https://localhost:8080/"
        },
        "id": "62G-QNHcnQe3",
        "outputId": "aeda2ab9-7c6f-4e0f-9226-9328be8278d3"
      },
      "execution_count": null,
      "outputs": [
        {
          "output_type": "execute_result",
          "data": {
            "text/plain": [
              "33542.41353904068"
            ]
          },
          "metadata": {},
          "execution_count": 30
        }
      ]
    },
    {
      "cell_type": "code",
      "source": [
        "preplexity_trigram('half a century ago hypertension was not treatable.')"
      ],
      "metadata": {
        "colab": {
          "base_uri": "https://localhost:8080/"
        },
        "id": "k6ETJTIvnV65",
        "outputId": "703e645b-c685-479b-dd9f-f6ad32482b67"
      },
      "execution_count": null,
      "outputs": [
        {
          "output_type": "execute_result",
          "data": {
            "text/plain": [
              "24817.3210703467"
            ]
          },
          "metadata": {},
          "execution_count": 31
        }
      ]
    },
    {
      "cell_type": "code",
      "source": [
        "preplexity_trigram('sarahs tv is broadcasting an advert for private healthcare.')"
      ],
      "metadata": {
        "colab": {
          "base_uri": "https://localhost:8080/"
        },
        "id": "CikxMwmQnaHS",
        "outputId": "a66bae0b-78fa-475c-8b8a-4df82805a201"
      },
      "execution_count": null,
      "outputs": [
        {
          "output_type": "execute_result",
          "data": {
            "text/plain": [
              "71298.54649964192"
            ]
          },
          "metadata": {},
          "execution_count": 32
        }
      ]
    }
  ]
}