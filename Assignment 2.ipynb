{
  "nbformat": 4,
  "nbformat_minor": 0,
  "metadata": {
    "colab": {
      "provenance": [],
      "collapsed_sections": [
        "w26TUklwXmVd",
        "jFdk2gRFXpMG",
        "EFqF8NQwXsP6",
        "7pPKsvcWZGyJ"
      ]
    },
    "kernelspec": {
      "name": "python3",
      "display_name": "Python 3"
    },
    "language_info": {
      "name": "python"
    },
    "gpuClass": "standard"
  },
  "cells": [
    {
      "cell_type": "markdown",
      "source": [
        "# Assignment 2\n",
        "# Rishika Tibrewal, MDS202135"
      ],
      "metadata": {
        "id": "Zb6d7g1FXgFR"
      }
    },
    {
      "cell_type": "markdown",
      "source": [
        "## Importing Libraries"
      ],
      "metadata": {
        "id": "w26TUklwXmVd"
      }
    },
    {
      "cell_type": "code",
      "execution_count": 1,
      "metadata": {
        "id": "oP7yyFWoI_90"
      },
      "outputs": [],
      "source": [
        "import gc\n",
        "import json\n",
        "import nltk\n",
        "import numpy as np\n",
        "import pandas as pd\n",
        "from tqdm import tqdm\n",
        "from pathlib import Path\n",
        "from numpy.linalg import norm\n",
        "import matplotlib.pyplot as plt\n",
        "from collections import Counter\n",
        "from sklearn.manifold import TSNE\n",
        "from sklearn import decomposition\n",
        "from sklearn.preprocessing import normalize"
      ]
    },
    {
      "cell_type": "code",
      "source": [
        "# nltk.download('stopwords')\n",
        "# nltk.download('wordnet')\n",
        "# nltk.download('omw-1.4')\n",
        "# from nltk.corpus import stopwords\n",
        "# from nltk.stem import WordNetLemmatizer\n",
        "# lemmatizer = WordNetLemmatizer()\n",
        "# stop_words = set(stopwords.words('english'))"
      ],
      "metadata": {
        "id": "Apc8V8ChVuXK"
      },
      "execution_count": 2,
      "outputs": []
    },
    {
      "cell_type": "markdown",
      "source": [
        "## Importing Original Corpus"
      ],
      "metadata": {
        "id": "jFdk2gRFXpMG"
      }
    },
    {
      "cell_type": "code",
      "source": [
        "from google.colab import drive\n",
        "drive.mount('/content/drive/')"
      ],
      "metadata": {
        "colab": {
          "base_uri": "https://localhost:8080/"
        },
        "id": "mfcZWTg9J3d-",
        "outputId": "9c847ccf-3210-4c74-c931-920035269cc6"
      },
      "execution_count": 4,
      "outputs": [
        {
          "output_type": "stream",
          "name": "stdout",
          "text": [
            "Mounted at /content/drive/\n"
          ]
        }
      ]
    },
    {
      "cell_type": "code",
      "source": [
        "with open(\"/content/drive/MyDrive/corpora.txt\", \"r\") as f:\n",
        "    content = f.readlines()"
      ],
      "metadata": {
        "id": "5Gugyfa8Ju1V"
      },
      "execution_count": null,
      "outputs": []
    },
    {
      "cell_type": "code",
      "source": [
        "content[0]"
      ],
      "metadata": {
        "colab": {
          "base_uri": "https://localhost:8080/",
          "height": 209
        },
        "id": "dZ3NDLv_KE7R",
        "outputId": "535b8c1c-36ae-4871-8e35-f1dc91f4c6ac"
      },
      "execution_count": null,
      "outputs": [
        {
          "output_type": "execute_result",
          "data": {
            "text/plain": [
              "'introduction severe acute respiratory syndrome coronavirus is responsible for the outbreak of coronavirus disease the numbers are continuously evolving worldwide about million confirmed cases and deaths as of th may and italy has registered a huge number of cases and deaths as compared to other countries lung and systemic inflammation are the most common features of which may lead to multiorgan dysfunction and death hence extensive research in multiple therapeutic areas is rapidly progressing airborne particulate matter pm also called particle pollution is considered to be the most relevant component of air pollution pm is a heterogeneous mixture of solid and liquid organic and inorganic material suspended in air the characteristics and sources of ultrafine pm pm mm fine pm pm mm and coarse pm pm mm are described elsewhere numerous studies have documented the detrimental impact of pm air pollution on several organs particularly airways and lungs although the quality of evidence remains poor in some cases the existence of a relationship between air pollution including that from pm and airborne viral infections has been also proposed in this regard an association between air pollution mainly pm and sars mortality has been reported in addition exposure to ambient pm explained a significant percentage of incident cases of influenza and measles in china recently a comprehensive association study found an independent link between six air pollutants including pm and pm and the number of confirmed cases in chinese cities also a significant relationship between longterm exposure to nitrogen dioxide and fatalities has been described several mechanisms have been proposed to explain the detrimental association between pm and viral infections modifications of the respiratory immune response to microbial pathogens increased airways vulnerability to respiratory infections exacerbation of multiple comorbidities and additional underresearched mechanisms eg increased viral spread due to attachment of viral particles to pm condensation nuclei based on these premises on the excess of pm pollution in specific geographical areas in italy and on the recent debate on the excess of cases and deaths in some areas of northern italy as compared to the rest of the country we tested the association between pm exposure and cases and deaths in different italian regions and provincesdata were extracted from publicly accessible databases and stratified by italian regions and up to provinces according to availability the numbers of cases and deaths since st march to st march were retrieved from the daily bulletins of the italian ministry of health available at data on the population size on st january the geographical extension of italian regions and provinces gender distribution and the percentage of people aged years were collected from the italian national statistical institute istat database available at it mean population exposure to pm and pm and the number of days exceeding the limit value of exposure to pm in were extracted from the italian national institute for environmental protection and research ispra databases available at govit the mean annual temperatures recorded in in different italian provinces were extracted from the istat database and the mean relative humidity in the last three decades was sourced from an official italian weather forecast website statistical package release spss inc chicago iii was used for statistical analyses base logarithmic lg transformation was performed for skewed variables the incidence proportion was calculated as the ratio between cases recorded in march and the regionalprovincial population sizes per inhabitants the death rate was calculated as the ratio between deaths recorded in march and the regional population sizes per inhabitants data for provincial death rates were unavailable anova was used to compare pm measurements across provinces by geographical distribution north centre southislands spearmans and pearsons correlations were used to test the crude associations between the study variables multiple linear regression analyses were performed to test whether the exposure to pm and pm was associated with either incidence proportions across italian regions and provinces or death rates across italian regions variables with a significant crude association with endpoints incidence proportion and becausespecific death rate were included as covariates in the multivariable regression analyses thus gender distribution across regions and provinces and territorial extension were always included as independent confounders in addition to the aforementioned covariates mean annual temperature and relative humidity were included in the multivariable regression analyses carried out at the provincial level table i lombardia was the italian region with highest number of cases and deaths accounting for and of the italian cases and deaths respectively the lowest numbers of cases and deaths were recorded in molise and basilicata respectively table i data on the number of cases stratified by date and italian provinces are available at www epicentroissitexposure to pm and pm across italian regions and provinces as depicted in figure a lombardia and veneto were the italian regions with the highest mean exposure to pm and pm whereas sardegna and valle daosta were those with the lowest mean exposure to pm and pm respectively across italian provinces stratified according to geographical positioning ie north centre southislands additional data regarding the number of days exceeding the limit value of exposure to pm in are reported in figure two multiple linear regression models were elaborated including the incidence proportion as the dependent variable and the following independent variables gender distribution territorial region extension and the regional mean annual exposure to pm and pm table ii both pm and pm were associated with incidence proportion irrespective of confounders p and p respectively two additional multiple linear regression models were elaborated including the death rate as the dependent variable and the same independent variables as in the previous regression model table ii crude positive correlations between the mean annual exposure to either pm available complete data for provinces or pm available complete data for provinces and cases are depicted in figures a and b respectivelytwo multiple linear regression models were elaborated including the incidence proportion and the following independent variables gender distribution territorial provincial extension mean annual temperature relative humidity and the provincial mean annual exposure to either pm or pm table ii both pm and pm exposures were independently associated with incidence proportion across italian provinces p and p respectively table ii in the regression model with pm as an independent variable both mean annual temperature p and relative humidity p were independently associated with incidence proportion similar results for annual temperature p and relative humidity p were observed in the pm multivariate modelan additional multiple linear regression analysis in italian provinces was performed with incidence proportion as the dependent variable and the number of days exceeding the limit value of exposure to pm as an independent variable along with confounders also in this regression model the index of pm exposure was independently associated with incidence proportion p table ii in this study exploring the association between past pm and pm and the excess of related features ie cases and deaths in italy two main results emerged first an extremely heterogeneous distribution of cases and deaths across italian regions and provinces was evident second regionstratified and provincestratified exposure to pm and pm was associated with incidence proportion and becausespecific death rate irrespective of demographic and climatic confounders cases cases n a b in the analysis restricted to the italian data of march of cases and of deaths were observed in the lombardia region respectively conversely less than of all these features were registered cumulatively in the molise and basilicata regions similarly an uneven distribution of cases across italian provinces was evident with northern italy provinces counting the highest numbers and southern italy provinces the lowest numbers several differential factors might have contributed to the uneven geographical distribution of cases and deaths including population size and territorial extension peculiar demographic characteristics local strategies aimed at diagnosing the viral infection spatiotemporal start and spread of level of adherence to strict control measures and additional ones in this study we found that both population size and territorial extension at the provincial level were associated with cases in a positive p and negative p fashion respectively thus in order to minimise their confounding effect on the association between pm exposure and cases and deaths the incidence proportion and death rate were calculated accounting for population size and territorial extension was always included in all multivariate models as a confounder our finding of a positive crude association of provincial female gender distribution with incidence proportion rho p result not shown was unexpected italian data from istituto superiore di iss reported a increased number of cases among men in the iss report nd april epidemia however minimal adjustment eg for only territorial extension of the reported correlation gender distribution vs incidence proportion abolished completely its statistical significance in addition gender differences in the number of cases disappeared in italy with the progression of the pandemic data available at moreover analysis of international genderdisaggregated data on the crude number of cases shows that male prevalence among cases is not always recurrent accordingly there are several countries in which women are more frequently affected by than men and other countries in which cases are equally distributed among men and women sexdisaggregated data tracker global health last data accessed on th may hence the influence of gender on incidence proportion remains elusive an additional finding of the present study is that the association between the proportion of people aged years and incidence proportion did not reach statistical significance at the provincial levels rho p in this case however iss reported that of cases affected people aged years those aged years and the remaining those aged years thus suggesting that a large number of people less than years old may be affected by finally we failed to find associations between the above reported measures ie population size territorial extension older age years and gender distributions and death rate this result however should be interpreted in light of the fact that only data for regions total number but not for provinces total number up to were available hence more comprehensive and simultaneous evaluations of the independent predictivity of multiple measures ie demographic and nondemographic are necessary and awaited in order to explain the uneven geographical distribution of cases and deathsa stimulating debate has recently arisen about the hypothetical link between pm pollution and the discussion is supported by some lines of evidence and theories first exposure to pm pollution has been found to be particularly represented in some areas of northern italy where an excess of cases and deaths has been reported second pm exposure has been causally linked to several organ dysfunctions mostly involving the respiratory system the latter being responsible for the severe course of third pathophysiological and epidemiological links between pm exposure and viral infections have been observed fourth recent findings of an association between indices of airborne pollution and incidence and fatality have been published based on these backgrounds we wondered whether the extremely heterogeneous distribution of cases and deaths in italy regions and provinces might be related to differential pm and pm exposure we showed a significant relationship between all pm exposure indices and both incidence proportion and becausespecific death rate importantly these associations were robust after adjustment for several confounders in addition the results were consistent across different indices of pm exposure based on these results we may assume that exposure to pm and pm might be considered as possible determinants of onset and severityaccording to published literature several pmrelated mechanistic actions leading to increased vulnerability to may be proposed including dysregulation of earlyphase immune response leading to reduced immune defences inflammation and injury of airways exacerbation of preexisting disorders eg chronic obstructive pulmonary disease asthma cardiovascular diseases etc activation of the systemic inflammation cascade and formation of pmviral complexes facilitating viral spread each of these putative mechanisms linking pm exposure to are highly intriguing although still undemonstratedlimitations of this study should be acknowledged the intrinsic weaknesses of all ecological studies are applicable to this study as well in this regard the risk of ecological fallacy leading to biased interpretation of the results may occur due to the possible generalisation of the average measures of exposure to the individual level therefore caution should be exercised when interpreting the results of the present study also potential bias deriving from geographical systematic differences in recording frequencies or pm exposures may have occurred however homogeneous data collection from the italian ministry of health has been performed in all regions and provinces during the outbreak in addition multiple indices of pm exposure have been collected thus the latter limitation may have been attenuated moreover the lack of data on potentially important confounders of the association between pm exposure and frequencies should be considered thus a more comprehensive adjustment for additional demographic and diseaserelated factors is awaited a further limitation of this study is that pm and pm exposure data are relative to possibly expressing past exposure to pm pollution more recent data on these measures were not publicly available hence whether significant changes over time in regional and provincial pm pollution exposure occurring since until today had an impact on the present results is uncertainin conclusion infection in italy affected and caused the death of an extremely high number of subjects with a heterogeneous distribution across different regions and provinces we provide data suggesting that the greater diffusion and aggressiveness of might be related at least in part to the concomitant past and cumulative exposure to pm pollution longterm strategies aimed at protecting people from outdoor pm pollution are eagerly awaited along with the development of specific and effective therapies and vaccines\\n'"
            ],
            "application/vnd.google.colaboratory.intrinsic+json": {
              "type": "string"
            }
          },
          "metadata": {},
          "execution_count": 5
        }
      ]
    },
    {
      "cell_type": "code",
      "source": [
        "content = list(map(lambda text: text.strip(), content)) # removing \\n from corpus "
      ],
      "metadata": {
        "id": "y7tWYkHEnlIt"
      },
      "execution_count": null,
      "outputs": []
    },
    {
      "cell_type": "markdown",
      "source": [
        "## Lemmatizing Corpus and vocabulary"
      ],
      "metadata": {
        "id": "EFqF8NQwXsP6"
      }
    },
    {
      "cell_type": "markdown",
      "source": [
        "A copy of the corpus has been created and lemmatized for creating cooccurrence matrix. The vocabulary hence contains lemmatized words. Stopwords have been removed from the vocabulary."
      ],
      "metadata": {
        "id": "rXgNH5y-5C2S"
      }
    },
    {
      "cell_type": "code",
      "source": [
        "def lemma_vocab(corp):\n",
        "  count=Counter()\n",
        "  for i in tqdm(range(len(corp))):\n",
        "    word_list=corp[i].split()\n",
        "    word_list = list(map(lambda text: lemmatizer.lemmatize(text,pos=\"v\"),word_list)) \n",
        "    corp[i]=\" \".join(word_list)\n",
        "    for j in range(len(word_list)):\n",
        "      if word_list[j] not in stop_words:\n",
        "        count.update([word_list[j]])\n",
        "      else:\n",
        "        continue\n",
        "  return corp,count"
      ],
      "metadata": {
        "id": "8YkZfgVXROI4"
      },
      "execution_count": null,
      "outputs": []
    },
    {
      "cell_type": "code",
      "source": [
        "updated_corp,vocab=lemma_vocab(content)"
      ],
      "metadata": {
        "colab": {
          "base_uri": "https://localhost:8080/"
        },
        "id": "Qd8Ii6hah17Q",
        "outputId": "4d95fcd1-47c0-41ad-e4a1-061927354fd0"
      },
      "execution_count": null,
      "outputs": [
        {
          "output_type": "stream",
          "name": "stderr",
          "text": [
            "100%|██████████| 50000/50000 [1:01:02<00:00, 13.65it/s]\n"
          ]
        }
      ]
    },
    {
      "cell_type": "code",
      "source": [
        "updated_corp[0]"
      ],
      "metadata": {
        "colab": {
          "base_uri": "https://localhost:8080/",
          "height": 209
        },
        "id": "xpp2gza-ww5f",
        "outputId": "6da14248-884d-40c9-c64e-3748a60250cf"
      },
      "execution_count": null,
      "outputs": [
        {
          "output_type": "execute_result",
          "data": {
            "text/plain": [
              "'introduction severe acute respiratory syndrome coronavirus be responsible for the outbreak of coronavirus disease the number be continuously evolve worldwide about million confirm case and deaths as of th may and italy have register a huge number of case and deaths as compare to other countries lung and systemic inflammation be the most common feature of which may lead to multiorgan dysfunction and death hence extensive research in multiple therapeutic areas be rapidly progress airborne particulate matter pm also call particle pollution be consider to be the most relevant component of air pollution pm be a heterogeneous mixture of solid and liquid organic and inorganic material suspend in air the characteristics and source of ultrafine pm pm mm fine pm pm mm and coarse pm pm mm be describe elsewhere numerous study have document the detrimental impact of pm air pollution on several organs particularly airways and lungs although the quality of evidence remain poor in some case the existence of a relationship between air pollution include that from pm and airborne viral infections have be also propose in this regard an association between air pollution mainly pm and sars mortality have be report in addition exposure to ambient pm explain a significant percentage of incident case of influenza and measles in china recently a comprehensive association study find an independent link between six air pollutants include pm and pm and the number of confirm case in chinese cities also a significant relationship between longterm exposure to nitrogen dioxide and fatalities have be describe several mechanisms have be propose to explain the detrimental association between pm and viral infections modifications of the respiratory immune response to microbial pathogens increase airways vulnerability to respiratory infections exacerbation of multiple comorbidities and additional underresearched mechanisms eg increase viral spread due to attachment of viral particles to pm condensation nuclei base on these premise on the excess of pm pollution in specific geographical areas in italy and on the recent debate on the excess of case and deaths in some areas of northern italy as compare to the rest of the country we test the association between pm exposure and case and deaths in different italian regions and provincesdata be extract from publicly accessible databases and stratify by italian regions and up to provinces accord to availability the number of case and deaths since st march to st march be retrieve from the daily bulletin of the italian ministry of health available at data on the population size on st january the geographical extension of italian regions and provinces gender distribution and the percentage of people age years be collect from the italian national statistical institute istat database available at it mean population exposure to pm and pm and the number of days exceed the limit value of exposure to pm in be extract from the italian national institute for environmental protection and research ispra databases available at govit the mean annual temperatures record in in different italian provinces be extract from the istat database and the mean relative humidity in the last three decades be source from an official italian weather forecast website statistical package release spss inc chicago iii be use for statistical analyse base logarithmic lg transformation be perform for skew variables the incidence proportion be calculate as the ratio between case record in march and the regionalprovincial population size per inhabitants the death rate be calculate as the ratio between deaths record in march and the regional population size per inhabitants data for provincial death rat be unavailable anova be use to compare pm measurements across provinces by geographical distribution north centre southislands spearmans and pearsons correlations be use to test the crude associations between the study variables multiple linear regression analyse be perform to test whether the exposure to pm and pm be associate with either incidence proportion across italian regions and provinces or death rat across italian regions variables with a significant crude association with endpoints incidence proportion and becausespecific death rate be include as covariates in the multivariable regression analyse thus gender distribution across regions and provinces and territorial extension be always include as independent confounders in addition to the aforementioned covariates mean annual temperature and relative humidity be include in the multivariable regression analyse carry out at the provincial level table i lombardia be the italian region with highest number of case and deaths account for and of the italian case and deaths respectively the lowest number of case and deaths be record in molise and basilicata respectively table i data on the number of case stratify by date and italian provinces be available at www epicentroissitexposure to pm and pm across italian regions and provinces as depict in figure a lombardia and veneto be the italian regions with the highest mean exposure to pm and pm whereas sardegna and valle daosta be those with the lowest mean exposure to pm and pm respectively across italian provinces stratify accord to geographical position ie north centre southislands additional data regard the number of days exceed the limit value of exposure to pm in be report in figure two multiple linear regression model be elaborate include the incidence proportion as the dependent variable and the follow independent variables gender distribution territorial region extension and the regional mean annual exposure to pm and pm table ii both pm and pm be associate with incidence proportion irrespective of confounders p and p respectively two additional multiple linear regression model be elaborate include the death rate as the dependent variable and the same independent variables as in the previous regression model table ii crude positive correlations between the mean annual exposure to either pm available complete data for provinces or pm available complete data for provinces and case be depict in figure a and b respectivelytwo multiple linear regression model be elaborate include the incidence proportion and the follow independent variables gender distribution territorial provincial extension mean annual temperature relative humidity and the provincial mean annual exposure to either pm or pm table ii both pm and pm exposures be independently associate with incidence proportion across italian provinces p and p respectively table ii in the regression model with pm as an independent variable both mean annual temperature p and relative humidity p be independently associate with incidence proportion similar result for annual temperature p and relative humidity p be observe in the pm multivariate modelan additional multiple linear regression analysis in italian provinces be perform with incidence proportion as the dependent variable and the number of days exceed the limit value of exposure to pm as an independent variable along with confounders also in this regression model the index of pm exposure be independently associate with incidence proportion p table ii in this study explore the association between past pm and pm and the excess of relate feature ie case and deaths in italy two main result emerge first an extremely heterogeneous distribution of case and deaths across italian regions and provinces be evident second regionstratified and provincestratified exposure to pm and pm be associate with incidence proportion and becausespecific death rate irrespective of demographic and climatic confounders case case n a b in the analysis restrict to the italian data of march of case and of deaths be observe in the lombardia region respectively conversely less than of all these feature be register cumulatively in the molise and basilicata regions similarly an uneven distribution of case across italian provinces be evident with northern italy provinces count the highest number and southern italy provinces the lowest number several differential factor might have contribute to the uneven geographical distribution of case and deaths include population size and territorial extension peculiar demographic characteristics local strategies aim at diagnose the viral infection spatiotemporal start and spread of level of adherence to strict control measure and additional ones in this study we find that both population size and territorial extension at the provincial level be associate with case in a positive p and negative p fashion respectively thus in order to minimise their confound effect on the association between pm exposure and case and deaths the incidence proportion and death rate be calculate account for population size and territorial extension be always include in all multivariate model as a confounder our find of a positive crude association of provincial female gender distribution with incidence proportion rho p result not show be unexpected italian data from istituto superiore di iss report a increase number of case among men in the iss report nd april epidemia however minimal adjustment eg for only territorial extension of the report correlation gender distribution vs incidence proportion abolish completely its statistical significance in addition gender differences in the number of case disappear in italy with the progression of the pandemic data available at moreover analysis of international genderdisaggregated data on the crude number of case show that male prevalence among case be not always recurrent accordingly there be several countries in which women be more frequently affect by than men and other countries in which case be equally distribute among men and women sexdisaggregated data tracker global health last data access on th may hence the influence of gender on incidence proportion remain elusive an additional find of the present study be that the association between the proportion of people age years and incidence proportion do not reach statistical significance at the provincial level rho p in this case however iss report that of case affect people age years those age years and the remain those age years thus suggest that a large number of people less than years old may be affect by finally we fail to find associations between the above report measure ie population size territorial extension older age years and gender distributions and death rate this result however should be interpret in light of the fact that only data for regions total number but not for provinces total number up to be available hence more comprehensive and simultaneous evaluations of the independent predictivity of multiple measure ie demographic and nondemographic be necessary and await in order to explain the uneven geographical distribution of case and deathsa stimulate debate have recently arise about the hypothetical link between pm pollution and the discussion be support by some line of evidence and theories first exposure to pm pollution have be find to be particularly represent in some areas of northern italy where an excess of case and deaths have be report second pm exposure have be causally link to several organ dysfunctions mostly involve the respiratory system the latter be responsible for the severe course of third pathophysiological and epidemiological link between pm exposure and viral infections have be observe fourth recent find of an association between indices of airborne pollution and incidence and fatality have be publish base on these background we wonder whether the extremely heterogeneous distribution of case and deaths in italy regions and provinces might be relate to differential pm and pm exposure we show a significant relationship between all pm exposure indices and both incidence proportion and becausespecific death rate importantly these associations be robust after adjustment for several confounders in addition the result be consistent across different indices of pm exposure base on these result we may assume that exposure to pm and pm might be consider as possible determinants of onset and severityaccording to publish literature several pmrelated mechanistic action lead to increase vulnerability to may be propose include dysregulation of earlyphase immune response lead to reduce immune defences inflammation and injury of airways exacerbation of preexist disorder eg chronic obstructive pulmonary disease asthma cardiovascular diseases etc activation of the systemic inflammation cascade and formation of pmviral complexes facilitate viral spread each of these putative mechanisms link pm exposure to be highly intrigue although still undemonstratedlimitations of this study should be acknowledge the intrinsic weaknesses of all ecological study be applicable to this study as well in this regard the risk of ecological fallacy lead to bias interpretation of the result may occur due to the possible generalisation of the average measure of exposure to the individual level therefore caution should be exercise when interpret the result of the present study also potential bias derive from geographical systematic differences in record frequencies or pm exposures may have occur however homogeneous data collection from the italian ministry of health have be perform in all regions and provinces during the outbreak in addition multiple indices of pm exposure have be collect thus the latter limitation may have be attenuate moreover the lack of data on potentially important confounders of the association between pm exposure and frequencies should be consider thus a more comprehensive adjustment for additional demographic and diseaserelated factor be await a further limitation of this study be that pm and pm exposure data be relative to possibly express past exposure to pm pollution more recent data on these measure be not publicly available hence whether significant change over time in regional and provincial pm pollution exposure occur since until today have an impact on the present result be uncertainin conclusion infection in italy affect and cause the death of an extremely high number of subject with a heterogeneous distribution across different regions and provinces we provide data suggest that the greater diffusion and aggressiveness of might be relate at least in part to the concomitant past and cumulative exposure to pm pollution longterm strategies aim at protect people from outdoor pm pollution be eagerly await along with the development of specific and effective therapies and vaccines'"
            ],
            "application/vnd.google.colaboratory.intrinsic+json": {
              "type": "string"
            }
          },
          "metadata": {},
          "execution_count": 84
        }
      ]
    },
    {
      "cell_type": "code",
      "source": [
        "len(vocab)"
      ],
      "metadata": {
        "colab": {
          "base_uri": "https://localhost:8080/"
        },
        "id": "5kl1-A2uwjWb",
        "outputId": "5176f58a-66b0-4b0a-9fb1-d3517b0b395c"
      },
      "execution_count": null,
      "outputs": [
        {
          "output_type": "execute_result",
          "data": {
            "text/plain": [
              "1636760"
            ]
          },
          "metadata": {},
          "execution_count": 88
        }
      ]
    },
    {
      "cell_type": "markdown",
      "source": [
        "The words in the vocabulary is being reduced by considering only those words which occur more than 20 times in the entire corpus, i.e, 50000 documents. Moreover, the words which are just alphabets like, 'p', 'l', etc. are being removed from vocabulary."
      ],
      "metadata": {
        "id": "xxq_uLJ95OgB"
      }
    },
    {
      "cell_type": "code",
      "source": [
        "up_vocab={}\n",
        "for word in vocab.keys():\n",
        "  if len(word)!=1 and vocab[word]>20:\n",
        "    up_vocab[word]=vocab[word]"
      ],
      "metadata": {
        "id": "ZvMFdHBjrmy6"
      },
      "execution_count": null,
      "outputs": []
    },
    {
      "cell_type": "code",
      "source": [
        "len(up_vocab)"
      ],
      "metadata": {
        "colab": {
          "base_uri": "https://localhost:8080/"
        },
        "id": "7uX-habUw1nk",
        "outputId": "535c6bc1-f11f-4f73-b8fb-5bc905351f1a"
      },
      "execution_count": null,
      "outputs": [
        {
          "output_type": "execute_result",
          "data": {
            "text/plain": [
              "98376"
            ]
          },
          "metadata": {},
          "execution_count": 87
        }
      ]
    },
    {
      "cell_type": "code",
      "source": [
        "with open(\"/content/drive/MyDrive/vocab.txt\", \"w\") as f:\n",
        "     f.write(json.dumps(up_vocab))"
      ],
      "metadata": {
        "id": "2ifzh2F_kJrA"
      },
      "execution_count": null,
      "outputs": []
    },
    {
      "cell_type": "code",
      "source": [
        "corpora = \"\\n\".join(updated_corp)\n",
        "with open(\"/content/drive/MyDrive/lemmatized_corpus.txt\", \"w\") as f:\n",
        "    f.write(corpora)"
      ],
      "metadata": {
        "id": "2LW4Ww-LkMkv"
      },
      "execution_count": null,
      "outputs": []
    },
    {
      "cell_type": "markdown",
      "source": [
        "## Importing lemmatized corpus and vocabulary"
      ],
      "metadata": {
        "id": "L9QoGmfW-LHg"
      }
    },
    {
      "cell_type": "code",
      "source": [
        "vocab = dict(json.loads(Path(\"/content/drive/MyDrive/vocab.txt\").read_text()))"
      ],
      "metadata": {
        "id": "COD3BgCtxYjF"
      },
      "execution_count": null,
      "outputs": []
    },
    {
      "cell_type": "markdown",
      "source": [
        "The top 14000 words i.e, the 14000 most frequent words, are being chosen from the vocabulary. "
      ],
      "metadata": {
        "id": "Uysnu0OM5hT4"
      }
    },
    {
      "cell_type": "code",
      "source": [
        "with open(\"/content/drive/MyDrive/vocab_14k.txt\", \"w\") as f:\n",
        "     f.write(json.dumps(sorted(vocab.items(), key=lambda x:x[1], reverse=True)[:14000]))"
      ],
      "metadata": {
        "id": "K6PhuwA5xqlM"
      },
      "execution_count": null,
      "outputs": []
    },
    {
      "cell_type": "markdown",
      "source": [
        "Importing the vocabulary of 14000 words from drive."
      ],
      "metadata": {
        "id": "UGSYeea352Th"
      }
    },
    {
      "cell_type": "code",
      "source": [
        "vocab_14 = dict(json.loads(Path(\"/content/drive/MyDrive/vocab_14k.txt\").read_text()))"
      ],
      "metadata": {
        "id": "CFPKJ1UKxwnH"
      },
      "execution_count": 5,
      "outputs": []
    },
    {
      "cell_type": "markdown",
      "source": [
        "Importing the lemmatized corpus from drive."
      ],
      "metadata": {
        "id": "nHc5ckrF6IAe"
      }
    },
    {
      "cell_type": "code",
      "source": [
        "with open(\"/content/drive/MyDrive/lemmatized_corpus.txt\", \"r\") as f:\n",
        "    text = f.readlines()"
      ],
      "metadata": {
        "id": "lZd5QwewzEKP"
      },
      "execution_count": null,
      "outputs": []
    },
    {
      "cell_type": "code",
      "source": [
        "text = list(map(lambda txt: txt.strip(), text)) # removing '\\n' from corpus "
      ],
      "metadata": {
        "id": "hkbwczvGzMez"
      },
      "execution_count": null,
      "outputs": []
    },
    {
      "cell_type": "markdown",
      "source": [
        "## Creating Co-occurrence matrix"
      ],
      "metadata": {
        "id": "2K0vSE3qrXRE"
      }
    },
    {
      "cell_type": "markdown",
      "source": [
        "vocab_idx is a dictionary where each key is a word in the vocabulary and value is the index we are assigning to that word while creating co-occurence matrix."
      ],
      "metadata": {
        "id": "ozNisH3QWqo5"
      }
    },
    {
      "cell_type": "code",
      "source": [
        "vocab_idx={word: end for end,word in enumerate(vocab_14)}"
      ],
      "metadata": {
        "id": "4UVKReGDoQXe"
      },
      "execution_count": 6,
      "outputs": []
    },
    {
      "cell_type": "code",
      "source": [
        "def hal_matrix(corp, vocab):\n",
        "  dim=len(vocab.keys())\n",
        "  hal_l2r=np.zeros((dim,dim),np.float32)\n",
        "  hal_r2l=np.zeros((dim,dim), np.float32)\n",
        "  ramp = [0,10,9,8,7,6,5,4,3,2,1]\n",
        "  rev_ramp=ramp[::-1]\n",
        "  for i in tqdm(range(len(corp))):\n",
        "    padded= '<s> '*10+corp[i]+' </s>'*10 # padding\n",
        "    tokens=padded.split()\n",
        "  \n",
        "    for j in range(9,len(tokens)):\n",
        "      if tokens[j] in vocab.keys():\n",
        "        gram11=tokens[j:j+11]\n",
        "        for k in range(11):\n",
        "          if gram11[k] in vocab.keys():\n",
        "            hal_l2r[vocab_idx[tokens[j]],vocab_idx[gram11[k]]]+=ramp[k]\n",
        "\n",
        "    for j in range(0,len(tokens)-10):\n",
        "      if tokens[j+10] in vocab.keys():\n",
        "        gram11=tokens[j:j+11]\n",
        "        for k in range(11):\n",
        "          if gram11[k] in vocab.keys():\n",
        "            hal_r2l[vocab_idx[tokens[j+10]],vocab_idx[gram11[k]]]+=rev_ramp[k]\n",
        "\n",
        "  return hal_l2r,hal_r2l"
      ],
      "metadata": {
        "id": "9PwedaNjlgjk"
      },
      "execution_count": null,
      "outputs": []
    },
    {
      "cell_type": "code",
      "source": [
        "l,r=hal_matrix(text,vocab_14)"
      ],
      "metadata": {
        "colab": {
          "base_uri": "https://localhost:8080/"
        },
        "id": "hZN8Yvt85uaz",
        "outputId": "f2b5e4fc-fd2a-41d8-9cfa-5c3e1bf216d9"
      },
      "execution_count": null,
      "outputs": [
        {
          "output_type": "stream",
          "name": "stderr",
          "text": [
            "100%|██████████| 50000/50000 [3:27:12<00:00,  4.02it/s]\n"
          ]
        }
      ]
    },
    {
      "cell_type": "markdown",
      "source": [
        "Dumping the created HAL matrices to drive."
      ],
      "metadata": {
        "id": "87vrghD6W38l"
      }
    },
    {
      "cell_type": "code",
      "source": [
        "np.save('/content/drive/MyDrive/hal_l2r.npy', l)\n",
        "np.save('/content/drive/MyDrive/hal_r2l.npy', r)"
      ],
      "metadata": {
        "id": "c1_6_npTIxCH"
      },
      "execution_count": null,
      "outputs": []
    },
    {
      "cell_type": "code",
      "source": [
        "print('The matrix (left to right filling): ',l.shape,'\\n')\n",
        "l"
      ],
      "metadata": {
        "colab": {
          "base_uri": "https://localhost:8080/"
        },
        "id": "eSDe6yyI7nzE",
        "outputId": "d4bdd371-f106-477d-c16f-5d8ea6901a3c"
      },
      "execution_count": null,
      "outputs": [
        {
          "output_type": "stream",
          "name": "stdout",
          "text": [
            "The matrix (left to right filling):  (14000, 14000) \n",
            "\n"
          ]
        },
        {
          "output_type": "execute_result",
          "data": {
            "text/plain": [
              "array([[1.66648e+05, 1.03089e+05, 1.58814e+05, ..., 0.00000e+00,\n",
              "        1.06000e+02, 1.79000e+02],\n",
              "       [8.69540e+04, 3.38226e+05, 1.35258e+05, ..., 0.00000e+00,\n",
              "        1.89000e+02, 5.60000e+01],\n",
              "       [2.25372e+05, 2.23615e+05, 1.72897e+05, ..., 0.00000e+00,\n",
              "        7.50000e+01, 8.80000e+01],\n",
              "       ...,\n",
              "       [3.00000e+00, 0.00000e+00, 0.00000e+00, ..., 6.10000e+01,\n",
              "        0.00000e+00, 0.00000e+00],\n",
              "       [1.69000e+02, 1.29000e+02, 8.60000e+01, ..., 0.00000e+00,\n",
              "        1.32000e+02, 0.00000e+00],\n",
              "       [1.26000e+02, 6.90000e+01, 4.20000e+01, ..., 0.00000e+00,\n",
              "        0.00000e+00, 2.67000e+02]], dtype=float32)"
            ]
          },
          "metadata": {},
          "execution_count": 13
        }
      ]
    },
    {
      "cell_type": "code",
      "source": [
        "print('The matrix (right to left filling): ',r.shape,'\\n')\n",
        "r"
      ],
      "metadata": {
        "colab": {
          "base_uri": "https://localhost:8080/"
        },
        "id": "Yr0jPFKQ7xlr",
        "outputId": "9de3d4f9-f3ef-4dd9-9d49-f4dfa258637d"
      },
      "execution_count": null,
      "outputs": [
        {
          "output_type": "stream",
          "name": "stdout",
          "text": [
            "The matrix (right to left filling):  (14000, 14000) \n",
            "\n"
          ]
        },
        {
          "output_type": "execute_result",
          "data": {
            "text/plain": [
              "array([[1.66648e+05, 8.69540e+04, 2.25372e+05, ..., 3.00000e+00,\n",
              "        1.69000e+02, 1.26000e+02],\n",
              "       [1.03089e+05, 3.38226e+05, 2.23615e+05, ..., 0.00000e+00,\n",
              "        1.29000e+02, 6.90000e+01],\n",
              "       [1.58814e+05, 1.35258e+05, 1.72897e+05, ..., 0.00000e+00,\n",
              "        8.60000e+01, 4.20000e+01],\n",
              "       ...,\n",
              "       [0.00000e+00, 0.00000e+00, 0.00000e+00, ..., 6.10000e+01,\n",
              "        0.00000e+00, 0.00000e+00],\n",
              "       [1.06000e+02, 1.89000e+02, 7.50000e+01, ..., 0.00000e+00,\n",
              "        1.32000e+02, 0.00000e+00],\n",
              "       [1.79000e+02, 5.60000e+01, 8.80000e+01, ..., 0.00000e+00,\n",
              "        0.00000e+00, 2.67000e+02]], dtype=float32)"
            ]
          },
          "metadata": {},
          "execution_count": 14
        }
      ]
    },
    {
      "cell_type": "markdown",
      "source": [
        "Concatenating both the matrices, i.e, each row is now a vector for a word in the vocabulary."
      ],
      "metadata": {
        "id": "5KnUtb1nKDGt"
      }
    },
    {
      "cell_type": "code",
      "source": [
        "hal_mat= np.concatenate((l,r), axis=1)\n",
        "np.save('/content/drive/MyDrive/hal.npy', hal_mat)"
      ],
      "metadata": {
        "id": "7emAxSOTf7hz"
      },
      "execution_count": null,
      "outputs": []
    },
    {
      "cell_type": "code",
      "source": [
        "cooc_matrix=np.load('/content/drive/MyDrive/hal.npy')"
      ],
      "metadata": {
        "id": "ipVEuQSuJNyU"
      },
      "execution_count": 7,
      "outputs": []
    },
    {
      "cell_type": "markdown",
      "source": [
        "Normalising the co-occurence matrix"
      ],
      "metadata": {
        "id": "BW_kRzTRJ_mP"
      }
    },
    {
      "cell_type": "code",
      "source": [
        "normed_matrix=normalize(cooc_matrix,axis=1)"
      ],
      "metadata": {
        "id": "GQIyM9Ddh7ra"
      },
      "execution_count": 8,
      "outputs": []
    },
    {
      "cell_type": "code",
      "source": [
        "normed_matrix.shape"
      ],
      "metadata": {
        "colab": {
          "base_uri": "https://localhost:8080/"
        },
        "id": "MPG9A6pYJjeF",
        "outputId": "477286ca-9819-422e-a78f-790a7ae069fc"
      },
      "execution_count": 9,
      "outputs": [
        {
          "output_type": "execute_result",
          "data": {
            "text/plain": [
              "(14000, 28000)"
            ]
          },
          "metadata": {},
          "execution_count": 9
        }
      ]
    },
    {
      "cell_type": "markdown",
      "source": [
        "## Creating word vectors"
      ],
      "metadata": {
        "id": "XrPjOnUOKfBi"
      }
    },
    {
      "cell_type": "markdown",
      "source": [
        "Performing PCA on the normalised matrix to reduce the number of columns from 28000 to 300."
      ],
      "metadata": {
        "id": "UccGrE_2KMnV"
      }
    },
    {
      "cell_type": "code",
      "source": [
        "pca = decomposition.PCA(n_components=300)\n",
        "trans_mat=pca.fit_transform(normed_matrix)"
      ],
      "metadata": {
        "id": "P95_BGW6gmo4"
      },
      "execution_count": 10,
      "outputs": []
    },
    {
      "cell_type": "code",
      "source": [
        "trans_mat.shape"
      ],
      "metadata": {
        "id": "2Lg9fDmPJt1e",
        "colab": {
          "base_uri": "https://localhost:8080/"
        },
        "outputId": "753d385e-2cea-43e3-f876-8a8fafb90ff2"
      },
      "execution_count": 11,
      "outputs": [
        {
          "output_type": "execute_result",
          "data": {
            "text/plain": [
              "(14000, 300)"
            ]
          },
          "metadata": {},
          "execution_count": 11
        }
      ]
    },
    {
      "cell_type": "code",
      "source": [
        "np.save('/content/drive/MyDrive/PCA_matrix.npy', trans_mat)"
      ],
      "metadata": {
        "id": "PTGK-fL3K8lg"
      },
      "execution_count": 12,
      "outputs": []
    },
    {
      "cell_type": "code",
      "source": [
        "pca_mat=np.load('/content/drive/MyDrive/PCA_matrix.npy')"
      ],
      "metadata": {
        "id": "FQCXVwK4LHoE"
      },
      "execution_count": 13,
      "outputs": []
    },
    {
      "cell_type": "code",
      "source": [
        "pca_mat.shape"
      ],
      "metadata": {
        "colab": {
          "base_uri": "https://localhost:8080/"
        },
        "id": "P_jkxlMloHuf",
        "outputId": "41c6ee0d-38d4-4faa-d02c-807fbef37e6b"
      },
      "execution_count": 14,
      "outputs": [
        {
          "output_type": "execute_result",
          "data": {
            "text/plain": [
              "(14000, 300)"
            ]
          },
          "metadata": {},
          "execution_count": 14
        }
      ]
    },
    {
      "cell_type": "code",
      "source": [
        "vocab_idx"
      ],
      "metadata": {
        "colab": {
          "base_uri": "https://localhost:8080/"
        },
        "id": "I5bexiC4Mx4e",
        "outputId": "ebcbe862-0202-4737-e1b6-a6b5e82ce3d2"
      },
      "execution_count": 15,
      "outputs": [
        {
          "output_type": "execute_result",
          "data": {
            "text/plain": [
              "{'use': 0,\n",
              " 'patients': 1,\n",
              " 'study': 2,\n",
              " 'et': 3,\n",
              " 'al': 4,\n",
              " 'cells': 5,\n",
              " 'also': 6,\n",
              " 'may': 7,\n",
              " 'show': 8,\n",
              " 'result': 9,\n",
              " 'case': 10,\n",
              " 'data': 11,\n",
              " 'include': 12,\n",
              " 'virus': 13,\n",
              " 'infection': 14,\n",
              " 'increase': 15,\n",
              " 'disease': 16,\n",
              " 'test': 17,\n",
              " 'model': 18,\n",
              " 'time': 19,\n",
              " 'report': 20,\n",
              " 'find': 21,\n",
              " 'group': 22,\n",
              " 'one': 23,\n",
              " 'level': 24,\n",
              " 'number': 25,\n",
              " 'health': 26,\n",
              " 'viral': 27,\n",
              " 'two': 28,\n",
              " 'cell': 29,\n",
              " 'however': 30,\n",
              " 'protein': 31,\n",
              " 'effect': 32,\n",
              " 'control': 33,\n",
              " 'sample': 34,\n",
              " 'different': 35,\n",
              " 'clinical': 36,\n",
              " 'risk': 37,\n",
              " 'fig': 38,\n",
              " 'treatment': 39,\n",
              " 'follow': 40,\n",
              " 'de': 41,\n",
              " 'figure': 42,\n",
              " 'provide': 43,\n",
              " 'could': 44,\n",
              " 'analysis': 45,\n",
              " 'present': 46,\n",
              " 'high': 47,\n",
              " 'compare': 48,\n",
              " 'human': 49,\n",
              " 'first': 50,\n",
              " 'table': 51,\n",
              " 'change': 52,\n",
              " 'associate': 53,\n",
              " 'base': 54,\n",
              " 'sequence': 55,\n",
              " 'factor': 56,\n",
              " 'respiratory': 57,\n",
              " 'identify': 58,\n",
              " 'infect': 59,\n",
              " 'well': 60,\n",
              " 'need': 61,\n",
              " 'suggest': 62,\n",
              " 'system': 63,\n",
              " 'value': 64,\n",
              " 'make': 65,\n",
              " 'perform': 66,\n",
              " 'reduce': 67,\n",
              " 'develop': 68,\n",
              " 'type': 69,\n",
              " 'viruses': 70,\n",
              " 'measure': 71,\n",
              " 'expression': 72,\n",
              " 'care': 73,\n",
              " 'age': 74,\n",
              " 'due': 75,\n",
              " 'patient': 76,\n",
              " 'process': 77,\n",
              " 'response': 78,\n",
              " 'days': 79,\n",
              " 'higher': 80,\n",
              " 'observe': 81,\n",
              " 'new': 82,\n",
              " 'require': 83,\n",
              " 'significant': 84,\n",
              " 'within': 85,\n",
              " 'consider': 86,\n",
              " 'proteins': 87,\n",
              " 'rate': 88,\n",
              " 'important': 89,\n",
              " 'many': 90,\n",
              " 'severe': 91,\n",
              " 'work': 92,\n",
              " 'function': 93,\n",
              " 'rna': 94,\n",
              " 'three': 95,\n",
              " 'give': 96,\n",
              " 'bind': 97,\n",
              " 'lead': 98,\n",
              " 'among': 99,\n",
              " 'cause': 100,\n",
              " 'positive': 101,\n",
              " 'target': 102,\n",
              " 'would': 103,\n",
              " 'indicate': 104,\n",
              " 'activity': 105,\n",
              " 'state': 106,\n",
              " 'describe': 107,\n",
              " 'population': 108,\n",
              " 'available': 109,\n",
              " 'see': 110,\n",
              " 'information': 111,\n",
              " 'mean': 112,\n",
              " 'research': 113,\n",
              " 'years': 114,\n",
              " 'potential': 115,\n",
              " 'infections': 116,\n",
              " 'detect': 117,\n",
              " 'support': 118,\n",
              " 'pandemic': 119,\n",
              " 'specific': 120,\n",
              " 'similar': 121,\n",
              " 'set': 122,\n",
              " 'occur': 123,\n",
              " 'determine': 124,\n",
              " 'drug': 125,\n",
              " 'condition': 126,\n",
              " 'blood': 127,\n",
              " 'approach': 128,\n",
              " 'immune': 129,\n",
              " 'although': 130,\n",
              " 'several': 131,\n",
              " 'influenza': 132,\n",
              " 'form': 133,\n",
              " 'mice': 134,\n",
              " 'total': 135,\n",
              " 'thus': 136,\n",
              " 'contain': 137,\n",
              " 'obtain': 138,\n",
              " 'therefore': 139,\n",
              " 'role': 140,\n",
              " 'take': 141,\n",
              " 'decrease': 142,\n",
              " 'structure': 143,\n",
              " 'without': 144,\n",
              " 'symptoms': 145,\n",
              " 'acute': 146,\n",
              " 'addition': 147,\n",
              " 'range': 148,\n",
              " 'host': 149,\n",
              " 'gene': 150,\n",
              " 'development': 151,\n",
              " 'low': 152,\n",
              " 'rat': 153,\n",
              " 'lower': 154,\n",
              " 'strain': 155,\n",
              " 'affect': 156,\n",
              " 'people': 157,\n",
              " 'demonstrate': 158,\n",
              " 'relate': 159,\n",
              " 'assay': 160,\n",
              " 'significantly': 161,\n",
              " 'lung': 162,\n",
              " 'public': 163,\n",
              " 'know': 164,\n",
              " 'involve': 165,\n",
              " 'review': 166,\n",
              " 'limit': 167,\n",
              " 'diseases': 168,\n",
              " 'methods': 169,\n",
              " 'medical': 170,\n",
              " 'social': 171,\n",
              " 'transmission': 172,\n",
              " 'children': 173,\n",
              " 'tissue': 174,\n",
              " 'less': 175,\n",
              " 'la': 176,\n",
              " 'possible': 177,\n",
              " 'estimate': 178,\n",
              " 'allow': 179,\n",
              " 'individuals': 180,\n",
              " 'remain': 181,\n",
              " 'early': 182,\n",
              " 'preprint': 183,\n",
              " 'day': 184,\n",
              " 'impact': 185,\n",
              " 'confirm': 186,\n",
              " 'common': 187,\n",
              " 'respectively': 188,\n",
              " 'since': 189,\n",
              " 'countries': 190,\n",
              " 'even': 191,\n",
              " 'hospital': 192,\n",
              " 'large': 193,\n",
              " 'mortality': 194,\n",
              " 'induce': 195,\n",
              " 'period': 196,\n",
              " 'eg': 197,\n",
              " 'evidence': 198,\n",
              " 'likely': 199,\n",
              " 'treat': 200,\n",
              " 'contact': 201,\n",
              " 'die': 202,\n",
              " 'example': 203,\n",
              " 'per': 204,\n",
              " 'improve': 205,\n",
              " 'culture': 206,\n",
              " 'score': 207,\n",
              " 'negative': 208,\n",
              " 'small': 209,\n",
              " 'infectious': 210,\n",
              " 'order': 211,\n",
              " 'method': 212,\n",
              " 'signal': 213,\n",
              " 'evaluate': 214,\n",
              " 'spread': 215,\n",
              " 'might': 216,\n",
              " 'detection': 217,\n",
              " 'express': 218,\n",
              " 'produce': 219,\n",
              " 'coronavirus': 220,\n",
              " 'point': 221,\n",
              " 'isolate': 222,\n",
              " 'presence': 223,\n",
              " 'represent': 224,\n",
              " 'dna': 225,\n",
              " 'genes': 226,\n",
              " 'size': 227,\n",
              " 'vaccine': 228,\n",
              " 'assess': 229,\n",
              " 'image': 230,\n",
              " 'receive': 231,\n",
              " 'antibodies': 232,\n",
              " 'surface': 233,\n",
              " 'antibody': 234,\n",
              " 'therapy': 235,\n",
              " 'production': 236,\n",
              " 'design': 237,\n",
              " 'species': 238,\n",
              " 'multiple': 239,\n",
              " 'effective': 240,\n",
              " 'understand': 241,\n",
              " 'become': 242,\n",
              " 'whether': 243,\n",
              " 'diagnosis': 244,\n",
              " 'define': 245,\n",
              " 'license': 246,\n",
              " 'acid': 247,\n",
              " 'network': 248,\n",
              " 'term': 249,\n",
              " 'recent': 250,\n",
              " 'collect': 251,\n",
              " 'accord': 252,\n",
              " 'major': 253,\n",
              " 'often': 254,\n",
              " 'current': 255,\n",
              " 'second': 256,\n",
              " 'challenge': 257,\n",
              " 'experience': 258,\n",
              " 'line': 259,\n",
              " 'en': 260,\n",
              " 'either': 261,\n",
              " 'responses': 262,\n",
              " 'generate': 263,\n",
              " 'primary': 264,\n",
              " 'various': 265,\n",
              " 'part': 266,\n",
              " 'dose': 267,\n",
              " 'systems': 268,\n",
              " 'single': 269,\n",
              " 'display': 270,\n",
              " 'differences': 271,\n",
              " 'previously': 272,\n",
              " 'service': 273,\n",
              " 'apply': 274,\n",
              " 'previous': 275,\n",
              " 'outbreak': 276,\n",
              " 'serum': 277,\n",
              " 'international': 278,\n",
              " 'general': 279,\n",
              " 'another': 280,\n",
              " 'analyze': 281,\n",
              " 'der': 282,\n",
              " 'cancer': 283,\n",
              " 'normal': 284,\n",
              " 'complex': 285,\n",
              " 'four': 286,\n",
              " 'via': 287,\n",
              " 'animals': 288,\n",
              " 'reveal': 289,\n",
              " 'replication': 290,\n",
              " 'focus': 291,\n",
              " 'note': 292,\n",
              " 'china': 293,\n",
              " 'individual': 294,\n",
              " 'appear': 295,\n",
              " 'region': 296,\n",
              " 'feature': 297,\n",
              " 'ie': 298,\n",
              " 'average': 299,\n",
              " 'highly': 300,\n",
              " 'additional': 301,\n",
              " 'subject': 302,\n",
              " 'standard': 303,\n",
              " 'interest': 304,\n",
              " 'death': 305,\n",
              " 'management': 306,\n",
              " 'prevent': 307,\n",
              " 'pcr': 308,\n",
              " 'pattern': 309,\n",
              " 'participants': 310,\n",
              " 'epidemic': 311,\n",
              " 'growth': 312,\n",
              " 'least': 313,\n",
              " 'phase': 314,\n",
              " 'source': 315,\n",
              " 'exposure': 316,\n",
              " 'predict': 317,\n",
              " 'initial': 318,\n",
              " 'program': 319,\n",
              " 'direct': 320,\n",
              " 'still': 321,\n",
              " 'global': 322,\n",
              " 'pneumonia': 323,\n",
              " 'practice': 324,\n",
              " 'regard': 325,\n",
              " 'us': 326,\n",
              " 'investigate': 327,\n",
              " 'analyse': 328,\n",
              " 'receptor': 329,\n",
              " 'months': 330,\n",
              " 'syndrome': 331,\n",
              " 'activation': 332,\n",
              " 'conduct': 333,\n",
              " 'lack': 334,\n",
              " 'section': 335,\n",
              " 'screen': 336,\n",
              " 'medrxiv': 337,\n",
              " 'membrane': 338,\n",
              " 'chronic': 339,\n",
              " 'local': 340,\n",
              " 'distribution': 341,\n",
              " 'across': 342,\n",
              " 'experiment': 343,\n",
              " 'help': 344,\n",
              " 'mm': 345,\n",
              " 'especially': 346,\n",
              " 'must': 347,\n",
              " 'propose': 348,\n",
              " 'post': 349,\n",
              " 'critical': 350,\n",
              " 'complete': 351,\n",
              " 'min': 352,\n",
              " 'version': 353,\n",
              " 'train': 354,\n",
              " 'antiviral': 355,\n",
              " 'world': 356,\n",
              " 'place': 357,\n",
              " 'overall': 358,\n",
              " 'concern': 359,\n",
              " 'author': 360,\n",
              " 'areas': 361,\n",
              " 'genome': 362,\n",
              " 'inhibit': 363,\n",
              " 'molecular': 364,\n",
              " 'quality': 365,\n",
              " 'outcomes': 366,\n",
              " 'sars': 367,\n",
              " 'add': 368,\n",
              " 'healthcare': 369,\n",
              " 'inflammatory': 370,\n",
              " 'select': 371,\n",
              " 'contribute': 372,\n",
              " 'influence': 373,\n",
              " 'site': 374,\n",
              " 'better': 375,\n",
              " 'play': 376,\n",
              " 'future': 377,\n",
              " 'concentration': 378,\n",
              " 'examine': 379,\n",
              " 'family': 380,\n",
              " 'sarscov': 381,\n",
              " 'animal': 382,\n",
              " 'like': 383,\n",
              " 'monitor': 384,\n",
              " 'water': 385,\n",
              " 'issue': 386,\n",
              " 'reduction': 387,\n",
              " 'start': 388,\n",
              " 'ii': 389,\n",
              " 'weeks': 390,\n",
              " 'establish': 391,\n",
              " 'national': 392,\n",
              " 'body': 393,\n",
              " 'step': 394,\n",
              " 'end': 395,\n",
              " 'release': 396,\n",
              " 'regions': 397,\n",
              " 'exist': 398,\n",
              " 'prior': 399,\n",
              " 'difference': 400,\n",
              " 'enhance': 401,\n",
              " 'compound': 402,\n",
              " 'parameters': 403,\n",
              " 'laboratory': 404,\n",
              " 'weight': 405,\n",
              " 'distance': 406,\n",
              " 'question': 407,\n",
              " 'active': 408,\n",
              " 'calculate': 409,\n",
              " 'knowledge': 410,\n",
              " 'liver': 411,\n",
              " 'live': 412,\n",
              " 'main': 413,\n",
              " 'recently': 414,\n",
              " 'cellular': 415,\n",
              " 'right': 416,\n",
              " 'learn': 417,\n",
              " 'novel': 418,\n",
              " 'center': 419,\n",
              " 'pulmonary': 420,\n",
              " 'interaction': 421,\n",
              " 'key': 422,\n",
              " 'access': 423,\n",
              " 'greater': 424,\n",
              " 'bacterial': 425,\n",
              " 'grant': 426,\n",
              " 'sit': 427,\n",
              " 'much': 428,\n",
              " 'able': 429,\n",
              " 'aim': 430,\n",
              " 'particular': 431,\n",
              " 'life': 432,\n",
              " 'area': 433,\n",
              " 'contrast': 434,\n",
              " 'record': 435,\n",
              " 'correspond': 436,\n",
              " 'expect': 437,\n",
              " 'community': 438,\n",
              " 'tool': 439,\n",
              " 'pathogens': 440,\n",
              " 'ct': 441,\n",
              " 'cost': 442,\n",
              " 'achieve': 443,\n",
              " 'furthermore': 444,\n",
              " 'cluster': 445,\n",
              " 'ability': 446,\n",
              " 'vs': 447,\n",
              " 'events': 448,\n",
              " 'pressure': 449,\n",
              " 'fever': 450,\n",
              " 'share': 451,\n",
              " 'humans': 452,\n",
              " 'carry': 453,\n",
              " 'particularly': 454,\n",
              " 'detail': 455,\n",
              " 'class': 456,\n",
              " 'severity': 457,\n",
              " 'whereas': 458,\n",
              " 'temperature': 459,\n",
              " 'hand': 460,\n",
              " 'variables': 461,\n",
              " 'mechanisms': 462,\n",
              " 'interactions': 463,\n",
              " 'moreover': 464,\n",
              " 'und': 465,\n",
              " 'sensitivity': 466,\n",
              " 'stress': 467,\n",
              " 'sign': 468,\n",
              " 'loss': 469,\n",
              " 'incidence': 470,\n",
              " 'article': 471,\n",
              " 'food': 472,\n",
              " 'plan': 473,\n",
              " 'ml': 474,\n",
              " 'domain': 475,\n",
              " 'benefit': 476,\n",
              " 'secondary': 477,\n",
              " 'copyright': 478,\n",
              " 'plasma': 479,\n",
              " 'failure': 480,\n",
              " 'close': 481,\n",
              " 'position': 482,\n",
              " 'association': 483,\n",
              " 'deaths': 484,\n",
              " 'prevalence': 485,\n",
              " 'vaccines': 486,\n",
              " 'diagnostic': 487,\n",
              " 'daily': 488,\n",
              " 'continue': 489,\n",
              " 'scale': 490,\n",
              " 'depend': 491,\n",
              " 'amount': 492,\n",
              " 'mechanism': 493,\n",
              " 'paper': 494,\n",
              " 'andor': 495,\n",
              " 'agents': 496,\n",
              " 'vitro': 497,\n",
              " 'count': 498,\n",
              " 'characteristics': 499,\n",
              " 'action': 500,\n",
              " 'relative': 501,\n",
              " 'genetic': 502,\n",
              " 'status': 503,\n",
              " 'link': 504,\n",
              " 'account': 505,\n",
              " 'strategies': 506,\n",
              " 'flow': 507,\n",
              " 'ratio': 508,\n",
              " 'inflammation': 509,\n",
              " 'rapid': 510,\n",
              " 'survey': 511,\n",
              " 'meet': 512,\n",
              " 'air': 513,\n",
              " 'create': 514,\n",
              " 'usually': 515,\n",
              " 'leave': 516,\n",
              " 'cat': 517,\n",
              " 'reaction': 518,\n",
              " 'course': 519,\n",
              " 'outcome': 520,\n",
              " 'activities': 521,\n",
              " 'long': 522,\n",
              " 'year': 523,\n",
              " 'five': 524,\n",
              " 'around': 525,\n",
              " 'performance': 526,\n",
              " 'directly': 527,\n",
              " 'maintain': 528,\n",
              " 'median': 529,\n",
              " 'address': 530,\n",
              " 'appropriate': 531,\n",
              " 'physical': 532,\n",
              " 'injury': 533,\n",
              " 'illness': 534,\n",
              " 'activate': 535,\n",
              " 'essential': 536,\n",
              " 'concentrations': 537,\n",
              " 'authorfunder': 538,\n",
              " 'icu': 539,\n",
              " 'amino': 540,\n",
              " 'currently': 541,\n",
              " 'vary': 542,\n",
              " 'emerge': 543,\n",
              " 'field': 544,\n",
              " 'safety': 545,\n",
              " 'characterize': 546,\n",
              " 'staff': 547,\n",
              " 'good': 548,\n",
              " 'necessary': 549,\n",
              " 'holder': 550,\n",
              " 'publish': 551,\n",
              " 'extract': 552,\n",
              " 'women': 553,\n",
              " 'brain': 554,\n",
              " 'home': 555,\n",
              " 'particles': 556,\n",
              " 'call': 557,\n",
              " 'combine': 558,\n",
              " 'rather': 559,\n",
              " 'hours': 560,\n",
              " 'last': 561,\n",
              " 'peak': 562,\n",
              " 'recommend': 563,\n",
              " 'despite': 564,\n",
              " 'damage': 565,\n",
              " 'chain': 566,\n",
              " 'natural': 567,\n",
              " 'reason': 568,\n",
              " 'products': 569,\n",
              " 'transfer': 570,\n",
              " 'discuss': 571,\n",
              " 'survival': 572,\n",
              " 'cycle': 573,\n",
              " 'therapeutic': 574,\n",
              " 'des': 575,\n",
              " 'emergency': 576,\n",
              " 'populations': 577,\n",
              " 'strategy': 578,\n",
              " 'fact': 579,\n",
              " 'bacteria': 580,\n",
              " 'consistent': 581,\n",
              " 'protection': 582,\n",
              " 'promote': 583,\n",
              " 'best': 584,\n",
              " 'combination': 585,\n",
              " 'relevant': 586,\n",
              " 'assessment': 587,\n",
              " 'history': 588,\n",
              " 'diagnose': 589,\n",
              " 'formation': 590,\n",
              " 'assume': 591,\n",
              " 'others': 592,\n",
              " 'seem': 593,\n",
              " 'way': 594,\n",
              " 'usa': 595,\n",
              " 'onset': 596,\n",
              " 'reach': 597,\n",
              " 'healthy': 598,\n",
              " 'antigen': 599,\n",
              " 'trials': 600,\n",
              " 'room': 601,\n",
              " 'solution': 602,\n",
              " 'resources': 603,\n",
              " 'media': 604,\n",
              " 'upon': 605,\n",
              " 'mouse': 606,\n",
              " 'immunity': 607,\n",
              " 'approximately': 608,\n",
              " 'students': 609,\n",
              " 'cannot': 610,\n",
              " 'capacity': 611,\n",
              " 'resistance': 612,\n",
              " 'volume': 613,\n",
              " 'block': 614,\n",
              " 'criteria': 615,\n",
              " 'environment': 616,\n",
              " 'pathway': 617,\n",
              " 'proportion': 618,\n",
              " 'economic': 619,\n",
              " 'reference': 620,\n",
              " 'act': 621,\n",
              " 'relatively': 622,\n",
              " 'evaluation': 623,\n",
              " 'protect': 624,\n",
              " 'isolation': 625,\n",
              " 'undergo': 626,\n",
              " 'lesions': 627,\n",
              " 'clear': 628,\n",
              " 'prevention': 629,\n",
              " 'comparison': 630,\n",
              " 'administration': 631,\n",
              " 'load': 632,\n",
              " 'explain': 633,\n",
              " 'residues': 634,\n",
              " 'literature': 635,\n",
              " 'implement': 636,\n",
              " 'hiv': 637,\n",
              " 'together': 638,\n",
              " 'experimental': 639,\n",
              " 'mask': 640,\n",
              " 'disorder': 641,\n",
              " 'vaccination': 642,\n",
              " 'march': 643,\n",
              " 'inhibition': 644,\n",
              " 'functional': 645,\n",
              " 'context': 646,\n",
              " 'ensure': 647,\n",
              " 'consist': 648,\n",
              " 'relationship': 649,\n",
              " 'molecules': 650,\n",
              " 'efficacy': 651,\n",
              " 'remove': 652,\n",
              " 'later': 653,\n",
              " 'university': 654,\n",
              " 'mass': 655,\n",
              " 'face': 656,\n",
              " 'stage': 657,\n",
              " 'surveillance': 658,\n",
              " 'yet': 659,\n",
              " 'correlation': 660,\n",
              " 'structural': 661,\n",
              " 'tract': 662,\n",
              " 'every': 663,\n",
              " 'search': 664,\n",
              " 'recognize': 665,\n",
              " 'importance': 666,\n",
              " 'begin': 667,\n",
              " 'government': 668,\n",
              " 'admission': 669,\n",
              " 'biological': 670,\n",
              " 'index': 671,\n",
              " 'independent': 672,\n",
              " 'correlate': 673,\n",
              " 'adults': 674,\n",
              " 'policy': 675,\n",
              " 'problem': 676,\n",
              " 'open': 677,\n",
              " 'list': 678,\n",
              " 'entry': 679,\n",
              " 'finally': 680,\n",
              " 'absence': 681,\n",
              " 'derive': 682,\n",
              " 'mild': 683,\n",
              " 'workers': 684,\n",
              " 'certain': 685,\n",
              " 'avoid': 686,\n",
              " 'strong': 687,\n",
              " 'date': 688,\n",
              " 'potentially': 689,\n",
              " 'stain': 690,\n",
              " 'mrna': 691,\n",
              " 'procedures': 692,\n",
              " 'final': 693,\n",
              " 'trial': 694,\n",
              " 'frequency': 695,\n",
              " 'exhibit': 696,\n",
              " 'merscov': 697,\n",
              " 'mutations': 698,\n",
              " 'protective': 699,\n",
              " 'market': 700,\n",
              " 'generally': 701,\n",
              " 'expose': 702,\n",
              " 'receptors': 703,\n",
              " 'members': 704,\n",
              " 'nurse': 705,\n",
              " 'team': 706,\n",
              " 'surgery': 707,\n",
              " 'hospitals': 708,\n",
              " 'statistical': 709,\n",
              " 'vivo': 710,\n",
              " 'probability': 711,\n",
              " 'useful': 712,\n",
              " 'build': 713,\n",
              " 'delay': 714,\n",
              " 'cytokines': 715,\n",
              " 'duration': 716,\n",
              " 'technology': 717,\n",
              " 'intervention': 718,\n",
              " 'dog': 719,\n",
              " 'profile': 720,\n",
              " 'next': 721,\n",
              " 'central': 722,\n",
              " 'medicine': 723,\n",
              " 'ph': 724,\n",
              " 'difficult': 725,\n",
              " 'fusion': 726,\n",
              " 'space': 727,\n",
              " 'properties': 728,\n",
              " 'rtpcr': 729,\n",
              " 'mainly': 730,\n",
              " 'refer': 731,\n",
              " 'already': 732,\n",
              " 'unite': 733,\n",
              " 'highest': 734,\n",
              " 'reflect': 735,\n",
              " 'heart': 736,\n",
              " 'grow': 737,\n",
              " 'series': 738,\n",
              " 'environmental': 739,\n",
              " 'read': 740,\n",
              " 'complications': 741,\n",
              " 'surgical': 742,\n",
              " 'along': 743,\n",
              " 'wash': 744,\n",
              " 'encode': 745,\n",
              " 'length': 746,\n",
              " 'visit': 747,\n",
              " 'older': 748,\n",
              " 'variable': 749,\n",
              " 'ventilation': 750,\n",
              " 'come': 751,\n",
              " 'medium': 752,\n",
              " 'el': 753,\n",
              " 'ci': 754,\n",
              " 'outbreaks': 755,\n",
              " 'construct': 756,\n",
              " 'energy': 757,\n",
              " 'majority': 758,\n",
              " 'mix': 759,\n",
              " 'online': 760,\n",
              " 'material': 761,\n",
              " 'van': 762,\n",
              " 'inhibitors': 763,\n",
              " 'map': 764,\n",
              " 'country': 765,\n",
              " 'introduce': 766,\n",
              " 'guidelines': 767,\n",
              " 'peptide': 768,\n",
              " 'transport': 769,\n",
              " 'delivery': 770,\n",
              " 'facilitate': 771,\n",
              " 'conclusion': 772,\n",
              " 'poor': 773,\n",
              " 'igg': 774,\n",
              " 'six': 775,\n",
              " 'document': 776,\n",
              " 'third': 777,\n",
              " 'subsequent': 778,\n",
              " 'procedure': 779,\n",
              " 'purpose': 780,\n",
              " 'pig': 781,\n",
              " 'incubate': 782,\n",
              " 'cytokine': 783,\n",
              " 'content': 784,\n",
              " 'advance': 785,\n",
              " 'components': 786,\n",
              " 'school': 787,\n",
              " 'offer': 788,\n",
              " 'application': 789,\n",
              " 'tumor': 790,\n",
              " 'identification': 791,\n",
              " 'macrophages': 792,\n",
              " 'unit': 793,\n",
              " 'specifically': 794,\n",
              " 'mental': 795,\n",
              " 'larger': 796,\n",
              " 'renal': 797,\n",
              " 'education': 798,\n",
              " 'bat': 799,\n",
              " 'mediate': 800,\n",
              " 'interventions': 801,\n",
              " 'highlight': 802,\n",
              " 'asymptomatic': 803,\n",
              " 'nature': 804,\n",
              " 'prepare': 805,\n",
              " 'problems': 806,\n",
              " 'epithelial': 807,\n",
              " 'pathways': 808,\n",
              " 'curve': 809,\n",
              " 'asthma': 810,\n",
              " 'go': 811,\n",
              " 'view': 812,\n",
              " 'cohort': 813,\n",
              " 'selection': 814,\n",
              " 'travel': 815,\n",
              " 'pathogen': 816,\n",
              " 'degree': 817,\n",
              " 'short': 818,\n",
              " 'supply': 819,\n",
              " 'collection': 820,\n",
              " 'oral': 821,\n",
              " 'susceptible': 822,\n",
              " 'underlie': 823,\n",
              " 'responsible': 824,\n",
              " 'buffer': 825,\n",
              " 'specificity': 826,\n",
              " 'exclude': 827,\n",
              " 'million': 828,\n",
              " 'separate': 829,\n",
              " 'serve': 830,\n",
              " 'techniques': 831,\n",
              " 'commonly': 832,\n",
              " 'regulate': 833,\n",
              " 'enzyme': 834,\n",
              " 'synthesis': 835,\n",
              " 'chest': 836,\n",
              " 'explore': 837,\n",
              " 'april': 838,\n",
              " 'side': 839,\n",
              " 'think': 840,\n",
              " 'protocol': 841,\n",
              " 'baseline': 842,\n",
              " 'week': 843,\n",
              " 'transcription': 844,\n",
              " 'free': 845,\n",
              " 'que': 846,\n",
              " 'label': 847,\n",
              " 'spike': 848,\n",
              " 'modify': 849,\n",
              " 'cardiac': 850,\n",
              " 'cough': 851,\n",
              " 'trend': 852,\n",
              " 'oxygen': 853,\n",
              " 'rapidly': 854,\n",
              " 'enable': 855,\n",
              " 'yield': 856,\n",
              " 'project': 857,\n",
              " 'extend': 858,\n",
              " 'mg': 859,\n",
              " 'recombinant': 860,\n",
              " 'nm': 861,\n",
              " 'swab': 862,\n",
              " 'diabetes': 863,\n",
              " 'whole': 864,\n",
              " 'product': 865,\n",
              " 'prove': 866,\n",
              " 'recovery': 867,\n",
              " 'frequently': 868,\n",
              " 'basis': 869,\n",
              " 'fluid': 870,\n",
              " 'acids': 871,\n",
              " 'fit': 872,\n",
              " 'elevate': 873,\n",
              " 'unique': 874,\n",
              " 'probe': 875,\n",
              " 'vector': 876,\n",
              " 'pair': 877,\n",
              " 'personal': 878,\n",
              " 'agent': 879,\n",
              " 'systemic': 880,\n",
              " 'se': 881,\n",
              " 'longer': 882,\n",
              " 'alternative': 883,\n",
              " 'full': 884,\n",
              " 'similarly': 885,\n",
              " 'interact': 886,\n",
              " 'choose': 887,\n",
              " 'software': 888,\n",
              " 'suspect': 889,\n",
              " 'hence': 890,\n",
              " 'regression': 891,\n",
              " 'airway': 892,\n",
              " 'kidney': 893,\n",
              " 'situation': 894,\n",
              " 'employ': 895,\n",
              " 'los': 896,\n",
              " 'supplementary': 897,\n",
              " 'adult': 898,\n",
              " 'scientific': 899,\n",
              " 'alone': 900,\n",
              " 'instance': 901,\n",
              " 'additionally': 902,\n",
              " 'behavior': 903,\n",
              " 'fraction': 904,\n",
              " 'plant': 905,\n",
              " 'density': 906,\n",
              " 'skin': 907,\n",
              " 'basic': 908,\n",
              " 'light': 909,\n",
              " 'les': 910,\n",
              " 'lockdown': 911,\n",
              " 'rsv': 912,\n",
              " 'maximum': 913,\n",
              " 'though': 914,\n",
              " 'bias': 915,\n",
              " 'adverse': 916,\n",
              " 'panel': 917,\n",
              " 'indeed': 918,\n",
              " 'examination': 919,\n",
              " 'upper': 920,\n",
              " 'crisis': 921,\n",
              " 'layer': 922,\n",
              " 'recover': 923,\n",
              " 'get': 924,\n",
              " 'filter': 925,\n",
              " 'peer': 926,\n",
              " 'almost': 927,\n",
              " 'clone': 928,\n",
              " 'repeat': 929,\n",
              " 'efficiency': 930,\n",
              " 'inhibitor': 931,\n",
              " 'kit': 932,\n",
              " 'peptides': 933,\n",
              " 'far': 934,\n",
              " 'algorithm': 935,\n",
              " 'percentage': 936,\n",
              " 'longterm': 937,\n",
              " 'utilize': 938,\n",
              " 'reverse': 939,\n",
              " 'followup': 940,\n",
              " 'pain': 941,\n",
              " 'alter': 942,\n",
              " 'return': 943,\n",
              " 'power': 944,\n",
              " 'event': 945,\n",
              " 'keep': 946,\n",
              " 'run': 947,\n",
              " 'cover': 948,\n",
              " 'stable': 949,\n",
              " 'differ': 950,\n",
              " 'unknown': 951,\n",
              " 'dynamics': 952,\n",
              " 'incubation': 953,\n",
              " 'specimens': 954,\n",
              " 'young': 955,\n",
              " 'nasal': 956,\n",
              " 'fragment': 957,\n",
              " 'past': 958,\n",
              " 'inform': 959,\n",
              " 'administer': 960,\n",
              " 'database': 961,\n",
              " 'un': 962,\n",
              " 'optimal': 963,\n",
              " 'variety': 964,\n",
              " 'coronaviruses': 965,\n",
              " 'induction': 966,\n",
              " 'red': 967,\n",
              " 'locate': 968,\n",
              " 'demand': 969,\n",
              " 'towards': 970,\n",
              " 'moderate': 971,\n",
              " 'muscle': 972,\n",
              " 'task': 973,\n",
              " 'quarantine': 974,\n",
              " 'efforts': 975,\n",
              " 'throughout': 976,\n",
              " 'le': 977,\n",
              " 'force': 978,\n",
              " 'implementation': 979,\n",
              " 'iii': 980,\n",
              " 'mutation': 981,\n",
              " 'discharge': 982,\n",
              " 'widely': 983,\n",
              " 'materials': 984,\n",
              " 'distinct': 985,\n",
              " 'trigger': 986,\n",
              " 'perpetuitythe': 987,\n",
              " 'hepatitis': 988,\n",
              " 'advantage': 989,\n",
              " 'von': 990,\n",
              " 'little': 991,\n",
              " 'capture': 992,\n",
              " 'improvement': 993,\n",
              " 'generation': 994,\n",
              " 'attention': 995,\n",
              " 'worldwide': 996,\n",
              " 'versus': 997,\n",
              " 'stay': 998,\n",
              " 'pool': 999,\n",
              " ...}"
            ]
          },
          "metadata": {},
          "execution_count": 15
        }
      ]
    },
    {
      "cell_type": "markdown",
      "source": [
        "## Finding 10 most similar words and plotting the graph"
      ],
      "metadata": {
        "id": "IjIFxCGWOsAe"
      }
    },
    {
      "cell_type": "markdown",
      "source": [
        "Using cosine similarity as the measure of similarity between 2 word vectors."
      ],
      "metadata": {
        "id": "3Q0V-SiHXzHa"
      }
    },
    {
      "cell_type": "code",
      "source": [
        "def similarity(noun):\n",
        "  i=vocab_idx[noun]\n",
        "  similar={}\n",
        "  for word in vocab_14.keys():\n",
        "    j= vocab_idx[word]\n",
        "    similar[word]= np.dot(pca_mat[i],pca_mat[j])/(norm(pca_mat[i])*norm(pca_mat[j]))\n",
        "  sim=Counter(similar).most_common(10)\n",
        "  print(sim,\"\\n\")\n",
        "  vec=[]\n",
        "  for k in range(len(sim)):\n",
        "    key=(vocab_idx[sim[k][0]])\n",
        "    vec.append(pca_mat[key])\n",
        "  vec=np.array(vec)\n",
        "  vec_emb = TSNE(n_components=2, learning_rate='auto',init='random', perplexity=3).fit_transform(vec)\n",
        "  x=[i[0] for i in vec_emb]\n",
        "  y=[i[1] for i in vec_emb]\n",
        "  plt.scatter(x,y)\n",
        "  plt.title(sim[0][0])\n",
        "  for i in range(len(x)):\n",
        "    plt.text(x[i]+1,y[i]+0.9,sim[i][0])\n",
        "  plt.show()"
      ],
      "metadata": {
        "id": "qtXH2ShIM1fo"
      },
      "execution_count": 16,
      "outputs": []
    },
    {
      "cell_type": "code",
      "source": [
        "similarity('countries')"
      ],
      "metadata": {
        "colab": {
          "base_uri": "https://localhost:8080/",
          "height": 336
        },
        "id": "FpfR_IG_OJVK",
        "outputId": "b58a887b-5756-4351-97f2-864e8124c7b0"
      },
      "execution_count": 18,
      "outputs": [
        {
          "output_type": "stream",
          "name": "stdout",
          "text": [
            "[('countries', 1.0), ('continents', 0.7318944), ('jurisdictions', 0.71836776), ('country', 0.71418244), ('cities', 0.6809871), ('internationally', 0.6786476), ('india', 0.674665), ('lmics', 0.6725999), ('economies', 0.6715817), ('continent', 0.654634)] \n",
            "\n"
          ]
        },
        {
          "output_type": "display_data",
          "data": {
            "text/plain": [
              "<Figure size 432x288 with 1 Axes>"
            ],
            "image/png": "[encoded data removed]"
          },
          "metadata": {
            "needs_background": "light"
          }
        }
      ]
    },
    {
      "cell_type": "code",
      "source": [
        "similarity('diabetes')"
      ],
      "metadata": {
        "colab": {
          "base_uri": "https://localhost:8080/",
          "height": 336
        },
        "id": "vqQKG8tJOL9R",
        "outputId": "e5eb4fc0-023e-448e-f0a9-a3efde18d74a"
      },
      "execution_count": 21,
      "outputs": [
        {
          "output_type": "stream",
          "name": "stdout",
          "text": [
            "[('diabetes', 1.0000001), ('hypertension', 0.85157704), ('hyperlipidemia', 0.83561856), ('dyslipidemia', 0.83268374), ('mellitus', 0.78845227), ('dm', 0.7805076), ('obesity', 0.7793772), ('cvd', 0.7349323), ('dementia', 0.7090972), ('malignancy', 0.70476776)] \n",
            "\n"
          ]
        },
        {
          "output_type": "display_data",
          "data": {
            "text/plain": [
              "<Figure size 432x288 with 1 Axes>"
            ],
            "image/png": "[encoded data removed]"
          },
          "metadata": {
            "needs_background": "light"
          }
        }
      ]
    },
    {
      "cell_type": "code",
      "source": [
        "similarity('quarantine')"
      ],
      "metadata": {
        "colab": {
          "base_uri": "https://localhost:8080/",
          "height": 336
        },
        "id": "4cIDPseJPLxo",
        "outputId": "270343bd-0a7f-4f91-d551-a6aba3caa6f8"
      },
      "execution_count": null,
      "outputs": [
        {
          "output_type": "stream",
          "name": "stdout",
          "text": [
            "[('quarantine', 1.0), ('selfquarantine', 0.857819), ('selfisolation', 0.8010673), ('lockdown', 0.68769443), ('enforce', 0.6605507), ('lift', 0.64500546), ('lockdowns', 0.64287144), ('contact', 0.63174254), ('selfisolate', 0.61395717), ('impose', 0.6039114)] \n",
            "\n"
          ]
        },
        {
          "output_type": "display_data",
          "data": {
            "text/plain": [
              "<Figure size 432x288 with 1 Axes>"
            ],
            "image/png": "[encoded data removed]"
          },
          "metadata": {
            "needs_background": "light"
          }
        }
      ]
    },
    {
      "cell_type": "code",
      "source": [
        "similarity('april')"
      ],
      "metadata": {
        "colab": {
          "base_uri": "https://localhost:8080/",
          "height": 336
        },
        "id": "vbwlipQKo6XO",
        "outputId": "1f1eaead-8df0-48c0-8638-9af3aefc2527"
      },
      "execution_count": 24,
      "outputs": [
        {
          "output_type": "stream",
          "name": "stdout",
          "text": [
            "[('april', 0.9999999), ('november', 0.89998174), ('march', 0.8490603), ('june', 0.84093416), ('july', 0.8358086), ('august', 0.81891257), ('october', 0.80403084), ('september', 0.7953353), ('post', 0.7577005), ('doi', 0.72218066)] \n",
            "\n"
          ]
        },
        {
          "output_type": "display_data",
          "data": {
            "text/plain": [
              "<Figure size 432x288 with 1 Axes>"
            ],
            "image/png": "[encoded data removed]"
          },
          "metadata": {
            "needs_background": "light"
          }
        }
      ]
    }
  ]
}