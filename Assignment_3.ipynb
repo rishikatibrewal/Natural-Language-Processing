{
  "nbformat": 4,
  "nbformat_minor": 0,
  "metadata": {
    "colab": {
      "provenance": [],
      "collapsed_sections": [
        "AZWCWbjEkda3"
      ],
      "toc_visible": true
    },
    "kernelspec": {
      "name": "python3",
      "display_name": "Python 3"
    },
    "language_info": {
      "name": "python"
    },
    "accelerator": "GPU",
    "gpuClass": "standard"
  },
  "cells": [
    {
      "cell_type": "markdown",
      "source": [
        "# Assignment 3\n",
        "# Rishika Tibrewal (MDS202135)"
      ],
      "metadata": {
        "id": "B2U5GsJPkVKz"
      }
    },
    {
      "cell_type": "markdown",
      "source": [
        "## Importing Libraries"
      ],
      "metadata": {
        "id": "AZWCWbjEkda3"
      }
    },
    {
      "cell_type": "code",
      "source": [
        "# !pip install fasttext-langdetect"
      ],
      "metadata": {
        "id": "h1cLhR0Uld2c",
        "colab": {
          "base_uri": "https://localhost:8080/"
        },
        "outputId": "1f29023f-811d-4093-8721-9dac4cb67311"
      },
      "execution_count": null,
      "outputs": [
        {
          "output_type": "stream",
          "name": "stdout",
          "text": [
            "Looking in indexes: https://pypi.org/simple, https://us-python.pkg.dev/colab-wheels/public/simple/\n",
            "Requirement already satisfied: fasttext-langdetect in /usr/local/lib/python3.9/dist-packages (1.0.5)\n",
            "Requirement already satisfied: requests>=2.22.0 in /usr/local/lib/python3.9/dist-packages (from fasttext-langdetect) (2.27.1)\n",
            "Requirement already satisfied: fasttext>=0.9.1 in /usr/local/lib/python3.9/dist-packages (from fasttext-langdetect) (0.9.2)\n",
            "Requirement already satisfied: pybind11>=2.2 in /usr/local/lib/python3.9/dist-packages (from fasttext>=0.9.1->fasttext-langdetect) (2.10.4)\n",
            "Requirement already satisfied: numpy in /usr/local/lib/python3.9/dist-packages (from fasttext>=0.9.1->fasttext-langdetect) (1.22.4)\n",
            "Requirement already satisfied: setuptools>=0.7.0 in /usr/local/lib/python3.9/dist-packages (from fasttext>=0.9.1->fasttext-langdetect) (67.6.1)\n",
            "Requirement already satisfied: certifi>=2017.4.17 in /usr/local/lib/python3.9/dist-packages (from requests>=2.22.0->fasttext-langdetect) (2022.12.7)\n",
            "Requirement already satisfied: urllib3<1.27,>=1.21.1 in /usr/local/lib/python3.9/dist-packages (from requests>=2.22.0->fasttext-langdetect) (1.26.15)\n",
            "Requirement already satisfied: charset-normalizer~=2.0.0 in /usr/local/lib/python3.9/dist-packages (from requests>=2.22.0->fasttext-langdetect) (2.0.12)\n",
            "Requirement already satisfied: idna<4,>=2.5 in /usr/local/lib/python3.9/dist-packages (from requests>=2.22.0->fasttext-langdetect) (3.4)\n"
          ]
        }
      ]
    },
    {
      "cell_type": "code",
      "source": [
        "# !pip install contractions"
      ],
      "metadata": {
        "colab": {
          "base_uri": "https://localhost:8080/"
        },
        "id": "AokEMXCiJDks",
        "outputId": "5d039e2f-9454-4f3c-ea47-f4268bf16131"
      },
      "execution_count": null,
      "outputs": [
        {
          "output_type": "stream",
          "name": "stdout",
          "text": [
            "Looking in indexes: https://pypi.org/simple, https://us-python.pkg.dev/colab-wheels/public/simple/\n",
            "Requirement already satisfied: contractions in /usr/local/lib/python3.9/dist-packages (0.1.73)\n",
            "Requirement already satisfied: textsearch>=0.0.21 in /usr/local/lib/python3.9/dist-packages (from contractions) (0.0.24)\n",
            "Requirement already satisfied: anyascii in /usr/local/lib/python3.9/dist-packages (from textsearch>=0.0.21->contractions) (0.3.2)\n",
            "Requirement already satisfied: pyahocorasick in /usr/local/lib/python3.9/dist-packages (from textsearch>=0.0.21->contractions) (2.0.0)\n"
          ]
        }
      ]
    },
    {
      "cell_type": "code",
      "source": [
        "# ! pip install tensorflow"
      ],
      "metadata": {
        "colab": {
          "base_uri": "https://localhost:8080/"
        },
        "id": "NVwbgGJwmA15",
        "outputId": "7a779df9-749d-467b-941e-9536d5f9c16a"
      },
      "execution_count": null,
      "outputs": [
        {
          "output_type": "stream",
          "name": "stdout",
          "text": [
            "Looking in indexes: https://pypi.org/simple, https://us-python.pkg.dev/colab-wheels/public/simple/\n",
            "Requirement already satisfied: tensorflow in /usr/local/lib/python3.9/dist-packages (2.12.0)\n",
            "Requirement already satisfied: absl-py>=1.0.0 in /usr/local/lib/python3.9/dist-packages (from tensorflow) (1.4.0)\n",
            "Requirement already satisfied: grpcio<2.0,>=1.24.3 in /usr/local/lib/python3.9/dist-packages (from tensorflow) (1.53.0)\n",
            "Requirement already satisfied: setuptools in /usr/local/lib/python3.9/dist-packages (from tensorflow) (67.6.1)\n",
            "Requirement already satisfied: astunparse>=1.6.0 in /usr/local/lib/python3.9/dist-packages (from tensorflow) (1.6.3)\n",
            "Requirement already satisfied: numpy<1.24,>=1.22 in /usr/local/lib/python3.9/dist-packages (from tensorflow) (1.22.4)\n",
            "Requirement already satisfied: tensorflow-io-gcs-filesystem>=0.23.1 in /usr/local/lib/python3.9/dist-packages (from tensorflow) (0.32.0)\n",
            "Requirement already satisfied: keras<2.13,>=2.12.0 in /usr/local/lib/python3.9/dist-packages (from tensorflow) (2.12.0)\n",
            "Requirement already satisfied: protobuf!=4.21.0,!=4.21.1,!=4.21.2,!=4.21.3,!=4.21.4,!=4.21.5,<5.0.0dev,>=3.20.3 in /usr/local/lib/python3.9/dist-packages (from tensorflow) (3.20.3)\n",
            "Requirement already satisfied: gast<=0.4.0,>=0.2.1 in /usr/local/lib/python3.9/dist-packages (from tensorflow) (0.4.0)\n",
            "Requirement already satisfied: tensorboard<2.13,>=2.12 in /usr/local/lib/python3.9/dist-packages (from tensorflow) (2.12.1)\n",
            "Requirement already satisfied: opt-einsum>=2.3.2 in /usr/local/lib/python3.9/dist-packages (from tensorflow) (3.3.0)\n",
            "Requirement already satisfied: tensorflow-estimator<2.13,>=2.12.0 in /usr/local/lib/python3.9/dist-packages (from tensorflow) (2.12.0)\n",
            "Requirement already satisfied: typing-extensions>=3.6.6 in /usr/local/lib/python3.9/dist-packages (from tensorflow) (4.5.0)\n",
            "Requirement already satisfied: h5py>=2.9.0 in /usr/local/lib/python3.9/dist-packages (from tensorflow) (3.8.0)\n",
            "Requirement already satisfied: six>=1.12.0 in /usr/local/lib/python3.9/dist-packages (from tensorflow) (1.16.0)\n",
            "Requirement already satisfied: termcolor>=1.1.0 in /usr/local/lib/python3.9/dist-packages (from tensorflow) (2.2.0)\n",
            "Requirement already satisfied: flatbuffers>=2.0 in /usr/local/lib/python3.9/dist-packages (from tensorflow) (23.3.3)\n",
            "Requirement already satisfied: packaging in /usr/local/lib/python3.9/dist-packages (from tensorflow) (23.0)\n",
            "Requirement already satisfied: libclang>=13.0.0 in /usr/local/lib/python3.9/dist-packages (from tensorflow) (16.0.0)\n",
            "Requirement already satisfied: google-pasta>=0.1.1 in /usr/local/lib/python3.9/dist-packages (from tensorflow) (0.2.0)\n",
            "Requirement already satisfied: wrapt<1.15,>=1.11.0 in /usr/local/lib/python3.9/dist-packages (from tensorflow) (1.14.1)\n",
            "Requirement already satisfied: jax>=0.3.15 in /usr/local/lib/python3.9/dist-packages (from tensorflow) (0.4.8)\n",
            "Requirement already satisfied: wheel<1.0,>=0.23.0 in /usr/local/lib/python3.9/dist-packages (from astunparse>=1.6.0->tensorflow) (0.40.0)\n",
            "Requirement already satisfied: scipy>=1.7 in /usr/local/lib/python3.9/dist-packages (from jax>=0.3.15->tensorflow) (1.10.1)\n",
            "Requirement already satisfied: ml-dtypes>=0.0.3 in /usr/local/lib/python3.9/dist-packages (from jax>=0.3.15->tensorflow) (0.0.4)\n",
            "Requirement already satisfied: google-auth-oauthlib<1.1,>=0.5 in /usr/local/lib/python3.9/dist-packages (from tensorboard<2.13,>=2.12->tensorflow) (1.0.0)\n",
            "Requirement already satisfied: werkzeug>=1.0.1 in /usr/local/lib/python3.9/dist-packages (from tensorboard<2.13,>=2.12->tensorflow) (2.2.3)\n",
            "Requirement already satisfied: requests<3,>=2.21.0 in /usr/local/lib/python3.9/dist-packages (from tensorboard<2.13,>=2.12->tensorflow) (2.27.1)\n",
            "Requirement already satisfied: tensorboard-data-server<0.8.0,>=0.7.0 in /usr/local/lib/python3.9/dist-packages (from tensorboard<2.13,>=2.12->tensorflow) (0.7.0)\n",
            "Requirement already satisfied: google-auth<3,>=1.6.3 in /usr/local/lib/python3.9/dist-packages (from tensorboard<2.13,>=2.12->tensorflow) (2.17.2)\n",
            "Requirement already satisfied: markdown>=2.6.8 in /usr/local/lib/python3.9/dist-packages (from tensorboard<2.13,>=2.12->tensorflow) (3.4.3)\n",
            "Requirement already satisfied: tensorboard-plugin-wit>=1.6.0 in /usr/local/lib/python3.9/dist-packages (from tensorboard<2.13,>=2.12->tensorflow) (1.8.1)\n",
            "Requirement already satisfied: rsa<5,>=3.1.4 in /usr/local/lib/python3.9/dist-packages (from google-auth<3,>=1.6.3->tensorboard<2.13,>=2.12->tensorflow) (4.9)\n",
            "Requirement already satisfied: cachetools<6.0,>=2.0.0 in /usr/local/lib/python3.9/dist-packages (from google-auth<3,>=1.6.3->tensorboard<2.13,>=2.12->tensorflow) (5.3.0)\n",
            "Requirement already satisfied: pyasn1-modules>=0.2.1 in /usr/local/lib/python3.9/dist-packages (from google-auth<3,>=1.6.3->tensorboard<2.13,>=2.12->tensorflow) (0.2.8)\n",
            "Requirement already satisfied: requests-oauthlib>=0.7.0 in /usr/local/lib/python3.9/dist-packages (from google-auth-oauthlib<1.1,>=0.5->tensorboard<2.13,>=2.12->tensorflow) (1.3.1)\n",
            "Requirement already satisfied: importlib-metadata>=4.4 in /usr/local/lib/python3.9/dist-packages (from markdown>=2.6.8->tensorboard<2.13,>=2.12->tensorflow) (6.3.0)\n",
            "Requirement already satisfied: certifi>=2017.4.17 in /usr/local/lib/python3.9/dist-packages (from requests<3,>=2.21.0->tensorboard<2.13,>=2.12->tensorflow) (2022.12.7)\n",
            "Requirement already satisfied: idna<4,>=2.5 in /usr/local/lib/python3.9/dist-packages (from requests<3,>=2.21.0->tensorboard<2.13,>=2.12->tensorflow) (3.4)\n",
            "Requirement already satisfied: charset-normalizer~=2.0.0 in /usr/local/lib/python3.9/dist-packages (from requests<3,>=2.21.0->tensorboard<2.13,>=2.12->tensorflow) (2.0.12)\n",
            "Requirement already satisfied: urllib3<1.27,>=1.21.1 in /usr/local/lib/python3.9/dist-packages (from requests<3,>=2.21.0->tensorboard<2.13,>=2.12->tensorflow) (1.26.15)\n",
            "Requirement already satisfied: MarkupSafe>=2.1.1 in /usr/local/lib/python3.9/dist-packages (from werkzeug>=1.0.1->tensorboard<2.13,>=2.12->tensorflow) (2.1.2)\n",
            "Requirement already satisfied: zipp>=0.5 in /usr/local/lib/python3.9/dist-packages (from importlib-metadata>=4.4->markdown>=2.6.8->tensorboard<2.13,>=2.12->tensorflow) (3.15.0)\n",
            "Requirement already satisfied: pyasn1<0.5.0,>=0.4.6 in /usr/local/lib/python3.9/dist-packages (from pyasn1-modules>=0.2.1->google-auth<3,>=1.6.3->tensorboard<2.13,>=2.12->tensorflow) (0.4.8)\n",
            "Requirement already satisfied: oauthlib>=3.0.0 in /usr/local/lib/python3.9/dist-packages (from requests-oauthlib>=0.7.0->google-auth-oauthlib<1.1,>=0.5->tensorboard<2.13,>=2.12->tensorflow) (3.2.2)\n"
          ]
        }
      ]
    },
    {
      "cell_type": "code",
      "execution_count": null,
      "metadata": {
        "id": "UBF2wsTJjpBB",
        "colab": {
          "base_uri": "https://localhost:8080/"
        },
        "outputId": "726ce5f2-a4ac-4b7d-cd89-8bc48406e327"
      },
      "outputs": [
        {
          "output_type": "stream",
          "name": "stderr",
          "text": [
            "[nltk_data] Downloading package punkt to /root/nltk_data...\n",
            "[nltk_data]   Package punkt is already up-to-date!\n",
            "[nltk_data] Downloading package wordnet to /root/nltk_data...\n",
            "[nltk_data]   Package wordnet is already up-to-date!\n",
            "[nltk_data] Downloading package omw-1.4 to /root/nltk_data...\n",
            "[nltk_data]   Package omw-1.4 is already up-to-date!\n"
          ]
        }
      ],
      "source": [
        "import numpy as np\n",
        "import pandas as pd\n",
        "from random import randint\n",
        "from zipfile import ZipFile\n",
        "import re, warnings, nltk,tqdm\n",
        "import json,contractions,keras,gc\n",
        "import matplotlib.pyplot as plt\n",
        "from ftlangdetect import detect\n",
        "from keras.models import Sequential\n",
        "from tensorflow.keras.utils import to_categorical\n",
        "from keras.layers import Embedding,LSTM,Dense,Dropout,Bidirectional\n",
        "\n",
        "from tensorflow.keras.preprocessing.sequence import pad_sequences\n",
        "\n",
        "from nltk.stem import WordNetLemmatizer\n",
        "from keras.preprocessing.text import Tokenizer\n",
        "\n",
        "nltk.download(\"punkt\")\n",
        "nltk.download('wordnet')\n",
        "nltk.download('omw-1.4')\n",
        "warnings.filterwarnings(\"ignore\")"
      ]
    },
    {
      "cell_type": "markdown",
      "source": [
        "## Importing Dataset"
      ],
      "metadata": {
        "id": "A3_GL9N4pKEr"
      }
    },
    {
      "cell_type": "code",
      "source": [
        "from google.colab import drive\n",
        "drive.mount('/content/drive/')"
      ],
      "metadata": {
        "colab": {
          "base_uri": "https://localhost:8080/"
        },
        "id": "YVtNqF1YmBAR",
        "outputId": "ab832f35-5c42-4550-d322-e4de958ab27f"
      },
      "execution_count": null,
      "outputs": [
        {
          "output_type": "stream",
          "name": "stdout",
          "text": [
            "Drive already mounted at /content/drive/; to attempt to forcibly remount, call drive.mount(\"/content/drive/\", force_remount=True).\n"
          ]
        }
      ]
    },
    {
      "cell_type": "code",
      "source": [
        "def unzip_read_and_extract(filename:str, count):\n",
        "    data = []\n",
        "    with ZipFile(filename, \"r\") as z:\n",
        "        for filename in z.namelist():\n",
        "            with z.open(filename) as f:\n",
        "                try:\n",
        "                    paper_content = json.load(f)\n",
        "                    abstract = \"\"\n",
        "                    if 'abstract' in paper_content :\n",
        "                        for bt in paper_content['abstract']:\n",
        "                            abstract += bt ['text']\n",
        "                    content = (abstract + '\\n').lower()\n",
        "                    data.append(content)\n",
        "                except ValueError as e:\n",
        "                    print(\"Not a valid JSON\")\n",
        "            if (len(data) == count):\n",
        "                break\n",
        "    return data"
      ],
      "metadata": {
        "id": "2-aMU2xwmQLb"
      },
      "execution_count": null,
      "outputs": []
    },
    {
      "cell_type": "code",
      "source": [
        "data = unzip_read_and_extract(\"/content/drive/MyDrive/pdf_json.zip\",500)"
      ],
      "metadata": {
        "colab": {
          "base_uri": "https://localhost:8080/"
        },
        "id": "3jh4GsJGmiEK",
        "outputId": "b0dd283f-fc3c-437a-cb3b-dd770563b2a3"
      },
      "execution_count": null,
      "outputs": [
        {
          "output_type": "stream",
          "name": "stdout",
          "text": [
            "Not a valid JSON\n"
          ]
        }
      ]
    },
    {
      "cell_type": "code",
      "source": [
        "data[3]"
      ],
      "metadata": {
        "colab": {
          "base_uri": "https://localhost:8080/",
          "height": 53
        },
        "id": "cKMymAR3o6vY",
        "outputId": "fb09e89a-6aed-48bb-9108-63d10740dfe6"
      },
      "execution_count": null,
      "outputs": [
        {
          "output_type": "execute_result",
          "data": {
            "text/plain": [
              "'impact du sars-cov2 sur la structuration de la prise en charge du cancer : exemple de la tenue des rcp de cancérologie en occitanie, bulletin du cancer (2020), doi: https://doi.\\n'"
            ],
            "application/vnd.google.colaboratory.intrinsic+json": {
              "type": "string"
            }
          },
          "metadata": {},
          "execution_count": 8
        }
      ]
    },
    {
      "cell_type": "markdown",
      "source": [
        "## Preprocessing Data"
      ],
      "metadata": {
        "id": "OxLLJ-h7pNmK"
      }
    },
    {
      "cell_type": "code",
      "source": [
        "# Function for text preprocessing\n",
        "\n",
        "def preprocessing(text):\n",
        "\n",
        "  if \"\\n\" in text:\n",
        "    text = text.replace(\"\\n\",\"\")\n",
        "    \n",
        "  lang=detect(text,low_memory=False)\n",
        "\n",
        "  if lang[\"lang\"]==\"en\":\n",
        "\n",
        "    # Fixing contractions\n",
        "    text = contractions.fix(text)\n",
        "\n",
        "    # Converting abstracts to lower case\n",
        "    text=text.lower()\n",
        "\n",
        "    # Removing citations\n",
        "    cit_pattern = re.compile(r'\\[\\d+(,[ \\t]*\\d+)*\\]')\n",
        "    text = cit_pattern.sub(r'', text)\n",
        "\n",
        "    # Removing URLs\n",
        "    url_pattern = re.compile(r'https?://\\S+|www\\.\\S+')\n",
        "    text = url_pattern.sub(r'', text)\n",
        "\n",
        "    # Removing email\n",
        "    email_pattern = re.compile(r'''([-!#-'*+/-9=?A-Z^-~]+(\\.[-!#-'*+/-9=?A-Z^-~]+)*|\"([]!#-[^-~ \\t]|(\\\\[\\t -~]))+\")@([-!#-'*+/-9=?A-Z^-~]+(\\.[-!#-'*+/-9=?A-Z^-~]+)*|\\[[\\t -Z^-~]*])''')\n",
        "    text = email_pattern.sub(r'', text)\n",
        "\n",
        "    # Removing punctuations\n",
        "    punct_pattern = re.compile(r'[^\\w\\s]')\n",
        "    text= punct_pattern.sub(r'', text)\n",
        "\n",
        "    # Replacing multiple occurences of space with a single space\n",
        "    text=re.sub(\"\\s*\\s\",\" \",text)\n",
        "\n",
        "    # Tokenizing text\n",
        "    words=text.split(\" \")\n",
        "    words=[i for i in words if i!='']\n",
        "\n",
        "    return words"
      ],
      "metadata": {
        "id": "bW25EViKo9BP"
      },
      "execution_count": null,
      "outputs": []
    },
    {
      "cell_type": "markdown",
      "source": [
        "token is a list of lists, where each list consists of tokens in an abstract"
      ],
      "metadata": {
        "id": "kIChde5fhVm7"
      }
    },
    {
      "cell_type": "code",
      "source": [
        "token=list(map(preprocessing,data))\n",
        "token=list(filter(lambda value: value is not None, token))\n",
        "len(token)"
      ],
      "metadata": {
        "id": "rpqyf9QuN64I",
        "colab": {
          "base_uri": "https://localhost:8080/"
        },
        "outputId": "e41bdd92-ec60-4aef-84e4-d5e755a760a1"
      },
      "execution_count": null,
      "outputs": [
        {
          "output_type": "stream",
          "name": "stderr",
          "text": [
            "Warning : `load_model` does not return WordVectorModel or SupervisedModel any more, but a `FastText` object which is very similar.\n"
          ]
        },
        {
          "output_type": "execute_result",
          "data": {
            "text/plain": [
              "492"
            ]
          },
          "metadata": {},
          "execution_count": 10
        }
      ]
    },
    {
      "cell_type": "markdown",
      "source": [
        "Combining tokens from all abstracts"
      ],
      "metadata": {
        "id": "OCywCF5Khbl8"
      }
    },
    {
      "cell_type": "code",
      "source": [
        "tokens=[]\n",
        "for i in token:\n",
        "  for j in i:\n",
        "    tokens.append(j)"
      ],
      "metadata": {
        "id": "KwHUbalmU9pU"
      },
      "execution_count": null,
      "outputs": []
    },
    {
      "cell_type": "code",
      "source": [
        "len(tokens)"
      ],
      "metadata": {
        "id": "UYHf3QwcVh9b",
        "outputId": "02b984a1-91e8-4635-ee8d-1041e0399e5a",
        "colab": {
          "base_uri": "https://localhost:8080/"
        }
      },
      "execution_count": null,
      "outputs": [
        {
          "output_type": "execute_result",
          "data": {
            "text/plain": [
              "70644"
            ]
          },
          "metadata": {},
          "execution_count": 12
        }
      ]
    },
    {
      "cell_type": "markdown",
      "source": [
        "Count of unique tokens"
      ],
      "metadata": {
        "id": "yPcWL7j2hho9"
      }
    },
    {
      "cell_type": "code",
      "source": [
        "len(set(tokens))"
      ],
      "metadata": {
        "colab": {
          "base_uri": "https://localhost:8080/"
        },
        "id": "ENmbduRcRJC_",
        "outputId": "0c5f44cb-e54e-4323-bfb6-2f6587814df8"
      },
      "execution_count": null,
      "outputs": [
        {
          "output_type": "execute_result",
          "data": {
            "text/plain": [
              "10463"
            ]
          },
          "metadata": {},
          "execution_count": 13
        }
      ]
    },
    {
      "cell_type": "markdown",
      "source": [
        "## Creating Word Sequences"
      ],
      "metadata": {
        "id": "r2YG874epURs"
      }
    },
    {
      "cell_type": "code",
      "source": [
        "# Creating sequences of words of length 30, i.e., for every sequence of 30 words, the 31st word is the output at that timestep\n",
        "word_seq=[]\n",
        "\n",
        "train_len=30 + 1\n",
        "\n",
        "for i in range(0,len(tokens)-train_len+1):\n",
        "  w=tokens[i:i+train_len]\n",
        "  word_seq.append(w)"
      ],
      "metadata": {
        "id": "6A6T2puWXTvf"
      },
      "execution_count": null,
      "outputs": []
    },
    {
      "cell_type": "code",
      "source": [
        "len(word_seq[0])"
      ],
      "metadata": {
        "colab": {
          "base_uri": "https://localhost:8080/"
        },
        "id": "An-yi0cEnlfV",
        "outputId": "4f95e58c-d005-4771-bbe2-a5043de229fd"
      },
      "execution_count": null,
      "outputs": [
        {
          "output_type": "execute_result",
          "data": {
            "text/plain": [
              "31"
            ]
          },
          "metadata": {},
          "execution_count": 15
        }
      ]
    },
    {
      "cell_type": "code",
      "source": [
        "print(word_seq[0])"
      ],
      "metadata": {
        "colab": {
          "base_uri": "https://localhost:8080/"
        },
        "id": "oPJoIuZ-nrry",
        "outputId": "abc83346-5bb4-4859-becc-df1b19907240"
      },
      "execution_count": null,
      "outputs": [
        {
          "output_type": "stream",
          "name": "stdout",
          "text": [
            "['the', 'role', 'of', 'noninvasive', 'ventilation', 'niv', 'in', 'acute', 'respiratory', 'failure', 'caused', 'by', 'viral', 'pneumonia', 'remains', 'controversial', 'our', 'objective', 'was', 'to', 'evaluate', 'the', 'use', 'of', 'niv', 'in', 'a', 'cohort', 'of', 'h1n1v', 'pneumonia']\n"
          ]
        }
      ]
    },
    {
      "cell_type": "code",
      "source": [
        "del token,w,data,i,j\n",
        "gc.collect()"
      ],
      "metadata": {
        "colab": {
          "base_uri": "https://localhost:8080/"
        },
        "id": "vdkrQkR3Ne7G",
        "outputId": "b930f649-f9e0-423d-d7b4-49489bf32257"
      },
      "execution_count": null,
      "outputs": [
        {
          "output_type": "execute_result",
          "data": {
            "text/plain": [
              "192"
            ]
          },
          "metadata": {},
          "execution_count": 17
        }
      ]
    },
    {
      "cell_type": "markdown",
      "source": [
        "## Implementing Encoder"
      ],
      "metadata": {
        "id": "MSrKqeg6pE0r"
      }
    },
    {
      "cell_type": "code",
      "source": [
        "tokenizer=Tokenizer()\n",
        "\n",
        "# Fitting the object on the word sequences\n",
        "tokenizer.fit_on_texts(word_seq)\n",
        "\n",
        "# Creating a matrix of the encoded word sequences\n",
        "seq=np.array(tokenizer.texts_to_sequences(word_seq))\n",
        "seq"
      ],
      "metadata": {
        "colab": {
          "base_uri": "https://localhost:8080/"
        },
        "id": "YUjO_aF6nyzu",
        "outputId": "a46c529c-cb9d-4bed-ec41-46b83a1aa07d"
      },
      "execution_count": null,
      "outputs": [
        {
          "output_type": "execute_result",
          "data": {
            "text/plain": [
              "array([[    1,   166,     2, ...,     2, 10461,   310],\n",
              "       [  166,     2,  2785, ..., 10461,   310,  2786],\n",
              "       [    2,  2785,   445, ...,   310,  2786,     3],\n",
              "       ...,\n",
              "       [   89,   286,     3, ...,     2,  1197,    18],\n",
              "       [  286,     3,  1879, ...,  1197,    18,    40],\n",
              "       [    3,  1879,   680, ...,    18,    40,   583]])"
            ]
          },
          "metadata": {},
          "execution_count": 18
        }
      ]
    },
    {
      "cell_type": "code",
      "source": [
        "vocab_len=len(tokenizer.word_counts)\n",
        "print(\"Length of vocabulary is \",vocab_len)"
      ],
      "metadata": {
        "colab": {
          "base_uri": "https://localhost:8080/"
        },
        "id": "MjrtS9lGqpGP",
        "outputId": "84b09c06-b1fd-4ab7-aeda-f33571df1a8e"
      },
      "execution_count": null,
      "outputs": [
        {
          "output_type": "stream",
          "name": "stdout",
          "text": [
            "Length of vocabulary is  10463\n"
          ]
        }
      ]
    },
    {
      "cell_type": "code",
      "source": [
        "# Taking the first 30 words of each sequence as training set\n",
        "X_train=seq[:,:-1]\n",
        "\n",
        "# Taking the last word of each sequence as the target\n",
        "y_train=seq[:,-1]\n",
        "\n",
        "# Converting the y_train to categorical, and taking all the words in vocab plus one as classes \n",
        "y_train=to_categorical(y_train,num_classes=vocab_len+1)"
      ],
      "metadata": {
        "id": "TCEOdcGnrS0y"
      },
      "execution_count": null,
      "outputs": []
    },
    {
      "cell_type": "code",
      "source": [
        "# Creating a model with 2 Bidirectional LSTM layers\n",
        "\n",
        "def create_model(vocabulary_size, seq_len):\n",
        "    model = Sequential()\n",
        "    model.add(Embedding(vocabulary_size, 30, input_length=seq_len))\n",
        "    model.add(Bidirectional(LSTM(150, return_sequences=True)))\n",
        "    model.add(Dropout(0.8))\n",
        "    model.add(Bidirectional(LSTM(150)))\n",
        "    model.add(Dense(150, activation='relu'))\n",
        "    model.add(Dense(vocabulary_size, activation='softmax'))\n",
        "    model.compile(loss='categorical_crossentropy', optimizer='adam', metrics=['accuracy'])\n",
        "   \n",
        "    model.summary()\n",
        "    \n",
        "    return model"
      ],
      "metadata": {
        "id": "7XrgNtdHqqK0"
      },
      "execution_count": null,
      "outputs": []
    },
    {
      "cell_type": "code",
      "source": [
        "model=create_model(vocab_len+1,30)"
      ],
      "metadata": {
        "colab": {
          "base_uri": "https://localhost:8080/"
        },
        "id": "U46sfEEdz3IM",
        "outputId": "a69c8514-f1ce-48d2-90f5-7213f5aebab4"
      },
      "execution_count": null,
      "outputs": [
        {
          "output_type": "stream",
          "name": "stdout",
          "text": [
            "Model: \"sequential\"\n",
            "_________________________________________________________________\n",
            " Layer (type)                Output Shape              Param #   \n",
            "=================================================================\n",
            " embedding (Embedding)       (None, 30, 30)            313920    \n",
            "                                                                 \n",
            " bidirectional (Bidirectiona  (None, 30, 300)          217200    \n",
            " l)                                                              \n",
            "                                                                 \n",
            " dropout (Dropout)           (None, 30, 300)           0         \n",
            "                                                                 \n",
            " bidirectional_1 (Bidirectio  (None, 300)              541200    \n",
            " nal)                                                            \n",
            "                                                                 \n",
            " dense (Dense)               (None, 150)               45150     \n",
            "                                                                 \n",
            " dense_1 (Dense)             (None, 10464)             1580064   \n",
            "                                                                 \n",
            "=================================================================\n",
            "Total params: 2,697,534\n",
            "Trainable params: 2,697,534\n",
            "Non-trainable params: 0\n",
            "_________________________________________________________________\n"
          ]
        }
      ]
    },
    {
      "cell_type": "code",
      "source": [
        "del seq,word_seq\n",
        "gc.collect()"
      ],
      "metadata": {
        "colab": {
          "base_uri": "https://localhost:8080/"
        },
        "id": "x0ZM7MjkNs6Z",
        "outputId": "fc606fa7-ab08-4f09-8e93-db7a1c7a3f7a"
      },
      "execution_count": null,
      "outputs": [
        {
          "output_type": "execute_result",
          "data": {
            "text/plain": [
              "13345"
            ]
          },
          "metadata": {},
          "execution_count": 23
        }
      ]
    },
    {
      "cell_type": "markdown",
      "source": [
        "Fitting the model"
      ],
      "metadata": {
        "id": "ZIX15ILVh-xB"
      }
    },
    {
      "cell_type": "code",
      "source": [
        "history=model.fit(X_train, y_train, batch_size=128, epochs=200,verbose=1)"
      ],
      "metadata": {
        "colab": {
          "base_uri": "https://localhost:8080/"
        },
        "id": "OtYfaBowsfFg",
        "outputId": "91fa5a90-b62d-4885-9839-f39696634849"
      },
      "execution_count": null,
      "outputs": [
        {
          "output_type": "stream",
          "name": "stdout",
          "text": [
            "Epoch 1/200\n",
            "552/552 [==============================] - 107s 167ms/step - loss: 7.4833 - accuracy: 0.0583\n",
            "Epoch 2/200\n",
            "552/552 [==============================] - 34s 62ms/step - loss: 7.0539 - accuracy: 0.0780\n",
            "Epoch 3/200\n",
            "552/552 [==============================] - 24s 44ms/step - loss: 6.8652 - accuracy: 0.0886\n",
            "Epoch 4/200\n",
            "552/552 [==============================] - 26s 48ms/step - loss: 6.7238 - accuracy: 0.0948\n",
            "Epoch 5/200\n",
            "552/552 [==============================] - 23s 41ms/step - loss: 6.5872 - accuracy: 0.1021\n",
            "Epoch 6/200\n",
            "552/552 [==============================] - 23s 42ms/step - loss: 6.4465 - accuracy: 0.1108\n",
            "Epoch 7/200\n",
            "552/552 [==============================] - 26s 47ms/step - loss: 6.3175 - accuracy: 0.1180\n",
            "Epoch 8/200\n",
            "552/552 [==============================] - 28s 51ms/step - loss: 6.1946 - accuracy: 0.1248\n",
            "Epoch 9/200\n",
            "552/552 [==============================] - 21s 37ms/step - loss: 6.0827 - accuracy: 0.1312\n",
            "Epoch 10/200\n",
            "552/552 [==============================] - 22s 40ms/step - loss: 5.9843 - accuracy: 0.1345\n",
            "Epoch 11/200\n",
            "552/552 [==============================] - 24s 44ms/step - loss: 5.8901 - accuracy: 0.1386\n",
            "Epoch 12/200\n",
            "552/552 [==============================] - 25s 45ms/step - loss: 5.8036 - accuracy: 0.1425\n",
            "Epoch 13/200\n",
            "552/552 [==============================] - 24s 44ms/step - loss: 5.7201 - accuracy: 0.1455\n",
            "Epoch 14/200\n",
            "552/552 [==============================] - 24s 44ms/step - loss: 5.6416 - accuracy: 0.1494\n",
            "Epoch 15/200\n",
            "552/552 [==============================] - 21s 39ms/step - loss: 5.5653 - accuracy: 0.1530\n",
            "Epoch 16/200\n",
            "552/552 [==============================] - 23s 41ms/step - loss: 5.4904 - accuracy: 0.1548\n",
            "Epoch 17/200\n",
            "552/552 [==============================] - 24s 44ms/step - loss: 5.4191 - accuracy: 0.1588\n",
            "Epoch 18/200\n",
            "552/552 [==============================] - 24s 44ms/step - loss: 5.3450 - accuracy: 0.1617\n",
            "Epoch 19/200\n",
            "552/552 [==============================] - 24s 44ms/step - loss: 5.2785 - accuracy: 0.1636\n",
            "Epoch 20/200\n",
            "552/552 [==============================] - 21s 38ms/step - loss: 5.2096 - accuracy: 0.1663\n",
            "Epoch 21/200\n",
            "552/552 [==============================] - 20s 36ms/step - loss: 5.1499 - accuracy: 0.1681\n",
            "Epoch 22/200\n",
            "552/552 [==============================] - 27s 49ms/step - loss: 5.0887 - accuracy: 0.1700\n",
            "Epoch 23/200\n",
            "552/552 [==============================] - 21s 39ms/step - loss: 5.0289 - accuracy: 0.1729\n",
            "Epoch 24/200\n",
            "552/552 [==============================] - 22s 39ms/step - loss: 4.9659 - accuracy: 0.1754\n",
            "Epoch 25/200\n",
            "552/552 [==============================] - 24s 43ms/step - loss: 4.9124 - accuracy: 0.1771\n",
            "Epoch 26/200\n",
            "552/552 [==============================] - 24s 43ms/step - loss: 4.8553 - accuracy: 0.1794\n",
            "Epoch 27/200\n",
            "552/552 [==============================] - 19s 35ms/step - loss: 4.8020 - accuracy: 0.1826\n",
            "Epoch 28/200\n",
            "552/552 [==============================] - 22s 39ms/step - loss: 4.7497 - accuracy: 0.1842\n",
            "Epoch 29/200\n",
            "552/552 [==============================] - 21s 38ms/step - loss: 4.7011 - accuracy: 0.1877\n",
            "Epoch 30/200\n",
            "552/552 [==============================] - 19s 35ms/step - loss: 4.6506 - accuracy: 0.1902\n",
            "Epoch 31/200\n",
            "552/552 [==============================] - 22s 39ms/step - loss: 4.6017 - accuracy: 0.1919\n",
            "Epoch 32/200\n",
            "552/552 [==============================] - 24s 43ms/step - loss: 4.5572 - accuracy: 0.1967\n",
            "Epoch 33/200\n",
            "552/552 [==============================] - 19s 35ms/step - loss: 4.5086 - accuracy: 0.1969\n",
            "Epoch 34/200\n",
            "552/552 [==============================] - 19s 35ms/step - loss: 4.4609 - accuracy: 0.2000\n",
            "Epoch 35/200\n",
            "552/552 [==============================] - 21s 38ms/step - loss: 4.4172 - accuracy: 0.2032\n",
            "Epoch 36/200\n",
            "552/552 [==============================] - 22s 40ms/step - loss: 4.3732 - accuracy: 0.2075\n",
            "Epoch 37/200\n",
            "552/552 [==============================] - 23s 42ms/step - loss: 4.3220 - accuracy: 0.2097\n",
            "Epoch 38/200\n",
            "552/552 [==============================] - 22s 40ms/step - loss: 4.2786 - accuracy: 0.2135\n",
            "Epoch 39/200\n",
            "552/552 [==============================] - 21s 38ms/step - loss: 4.2417 - accuracy: 0.2176\n",
            "Epoch 40/200\n",
            "552/552 [==============================] - 21s 37ms/step - loss: 4.2006 - accuracy: 0.2209\n",
            "Epoch 41/200\n",
            "552/552 [==============================] - 20s 37ms/step - loss: 4.1523 - accuracy: 0.2246\n",
            "Epoch 42/200\n",
            "552/552 [==============================] - 21s 38ms/step - loss: 4.1161 - accuracy: 0.2282\n",
            "Epoch 43/200\n",
            "552/552 [==============================] - 22s 39ms/step - loss: 4.0660 - accuracy: 0.2336\n",
            "Epoch 44/200\n",
            "552/552 [==============================] - 22s 39ms/step - loss: 4.0367 - accuracy: 0.2352\n",
            "Epoch 45/200\n",
            "552/552 [==============================] - 21s 38ms/step - loss: 3.9930 - accuracy: 0.2414\n",
            "Epoch 46/200\n",
            "552/552 [==============================] - 24s 43ms/step - loss: 3.9508 - accuracy: 0.2456\n",
            "Epoch 47/200\n",
            "552/552 [==============================] - 21s 39ms/step - loss: 3.9165 - accuracy: 0.2484\n",
            "Epoch 48/200\n",
            "552/552 [==============================] - 21s 39ms/step - loss: 3.8827 - accuracy: 0.2520\n",
            "Epoch 49/200\n",
            "552/552 [==============================] - 21s 39ms/step - loss: 3.8449 - accuracy: 0.2547\n",
            "Epoch 50/200\n",
            "552/552 [==============================] - 25s 45ms/step - loss: 3.8145 - accuracy: 0.2589\n",
            "Epoch 51/200\n",
            "552/552 [==============================] - 19s 35ms/step - loss: 3.7827 - accuracy: 0.2631\n",
            "Epoch 52/200\n",
            "552/552 [==============================] - 21s 39ms/step - loss: 3.7437 - accuracy: 0.2671\n",
            "Epoch 53/200\n",
            "552/552 [==============================] - 24s 44ms/step - loss: 3.7112 - accuracy: 0.2708\n",
            "Epoch 54/200\n",
            "552/552 [==============================] - 26s 48ms/step - loss: 3.6874 - accuracy: 0.2721\n",
            "Epoch 55/200\n",
            "552/552 [==============================] - 26s 47ms/step - loss: 3.6484 - accuracy: 0.2788\n",
            "Epoch 56/200\n",
            "552/552 [==============================] - 25s 45ms/step - loss: 3.6150 - accuracy: 0.2821\n",
            "Epoch 57/200\n",
            "552/552 [==============================] - 20s 37ms/step - loss: 3.5898 - accuracy: 0.2848\n",
            "Epoch 58/200\n",
            "552/552 [==============================] - 20s 37ms/step - loss: 3.5495 - accuracy: 0.2888\n",
            "Epoch 59/200\n",
            "552/552 [==============================] - 21s 38ms/step - loss: 3.5225 - accuracy: 0.2928\n",
            "Epoch 60/200\n",
            "552/552 [==============================] - 21s 39ms/step - loss: 3.4880 - accuracy: 0.2974\n",
            "Epoch 61/200\n",
            "552/552 [==============================] - 22s 41ms/step - loss: 3.4637 - accuracy: 0.3013\n",
            "Epoch 62/200\n",
            "552/552 [==============================] - 21s 39ms/step - loss: 3.4350 - accuracy: 0.3041\n",
            "Epoch 63/200\n",
            "552/552 [==============================] - 20s 37ms/step - loss: 3.4066 - accuracy: 0.3078\n",
            "Epoch 64/200\n",
            "552/552 [==============================] - 22s 41ms/step - loss: 3.3753 - accuracy: 0.3117\n",
            "Epoch 65/200\n",
            "552/552 [==============================] - 25s 45ms/step - loss: 3.3490 - accuracy: 0.3158\n",
            "Epoch 66/200\n",
            "552/552 [==============================] - 25s 46ms/step - loss: 3.3246 - accuracy: 0.3177\n",
            "Epoch 67/200\n",
            "552/552 [==============================] - 20s 37ms/step - loss: 3.2980 - accuracy: 0.3215\n",
            "Epoch 68/200\n",
            "552/552 [==============================] - 24s 44ms/step - loss: 3.2644 - accuracy: 0.3255\n",
            "Epoch 69/200\n",
            "552/552 [==============================] - 19s 35ms/step - loss: 3.2344 - accuracy: 0.3324\n",
            "Epoch 70/200\n",
            "552/552 [==============================] - 19s 35ms/step - loss: 3.2203 - accuracy: 0.3336\n",
            "Epoch 71/200\n",
            "552/552 [==============================] - 23s 42ms/step - loss: 3.1870 - accuracy: 0.3377\n",
            "Epoch 72/200\n",
            "552/552 [==============================] - 19s 35ms/step - loss: 3.1657 - accuracy: 0.3393\n",
            "Epoch 73/200\n",
            "552/552 [==============================] - 21s 37ms/step - loss: 3.1418 - accuracy: 0.3433\n",
            "Epoch 74/200\n",
            "552/552 [==============================] - 25s 45ms/step - loss: 3.1183 - accuracy: 0.3477\n",
            "Epoch 75/200\n",
            "552/552 [==============================] - 22s 40ms/step - loss: 3.0874 - accuracy: 0.3509\n",
            "Epoch 76/200\n",
            "552/552 [==============================] - 20s 36ms/step - loss: 3.0640 - accuracy: 0.3549\n",
            "Epoch 77/200\n",
            "552/552 [==============================] - 22s 39ms/step - loss: 3.0422 - accuracy: 0.3588\n",
            "Epoch 78/200\n",
            "552/552 [==============================] - 28s 51ms/step - loss: 3.0191 - accuracy: 0.3627\n",
            "Epoch 79/200\n",
            "552/552 [==============================] - 21s 38ms/step - loss: 2.9932 - accuracy: 0.3646\n",
            "Epoch 80/200\n",
            "552/552 [==============================] - 21s 38ms/step - loss: 2.9566 - accuracy: 0.3711\n",
            "Epoch 81/200\n",
            "552/552 [==============================] - 22s 39ms/step - loss: 2.9379 - accuracy: 0.3735\n",
            "Epoch 82/200\n",
            "552/552 [==============================] - 22s 39ms/step - loss: 2.9214 - accuracy: 0.3744\n",
            "Epoch 83/200\n",
            "552/552 [==============================] - 24s 43ms/step - loss: 2.8920 - accuracy: 0.3809\n",
            "Epoch 84/200\n",
            "552/552 [==============================] - 19s 35ms/step - loss: 2.8813 - accuracy: 0.3821\n",
            "Epoch 85/200\n",
            "552/552 [==============================] - 19s 35ms/step - loss: 2.8494 - accuracy: 0.3857\n",
            "Epoch 86/200\n",
            "552/552 [==============================] - 22s 40ms/step - loss: 2.8304 - accuracy: 0.3892\n",
            "Epoch 87/200\n",
            "552/552 [==============================] - 27s 48ms/step - loss: 2.8046 - accuracy: 0.3941\n",
            "Epoch 88/200\n",
            "552/552 [==============================] - 19s 35ms/step - loss: 2.7816 - accuracy: 0.3974\n",
            "Epoch 89/200\n",
            "552/552 [==============================] - 23s 42ms/step - loss: 2.7608 - accuracy: 0.3989\n",
            "Epoch 90/200\n",
            "552/552 [==============================] - 21s 39ms/step - loss: 2.7345 - accuracy: 0.4045\n",
            "Epoch 91/200\n",
            "552/552 [==============================] - 23s 42ms/step - loss: 2.7093 - accuracy: 0.4069\n",
            "Epoch 92/200\n",
            "552/552 [==============================] - 24s 43ms/step - loss: 2.6946 - accuracy: 0.4119\n",
            "Epoch 93/200\n",
            "552/552 [==============================] - 22s 39ms/step - loss: 2.6769 - accuracy: 0.4138\n",
            "Epoch 94/200\n",
            "552/552 [==============================] - 24s 44ms/step - loss: 2.6536 - accuracy: 0.4177\n",
            "Epoch 95/200\n",
            "552/552 [==============================] - 22s 40ms/step - loss: 2.6323 - accuracy: 0.4197\n",
            "Epoch 96/200\n",
            "552/552 [==============================] - 23s 42ms/step - loss: 2.6186 - accuracy: 0.4202\n",
            "Epoch 97/200\n",
            "552/552 [==============================] - 17s 31ms/step - loss: 2.5918 - accuracy: 0.4266\n",
            "Epoch 98/200\n",
            "552/552 [==============================] - 22s 40ms/step - loss: 2.5756 - accuracy: 0.4288\n",
            "Epoch 99/200\n",
            "552/552 [==============================] - 24s 43ms/step - loss: 2.5507 - accuracy: 0.4313\n",
            "Epoch 100/200\n",
            "552/552 [==============================] - 20s 36ms/step - loss: 2.5311 - accuracy: 0.4371\n",
            "Epoch 101/200\n",
            "552/552 [==============================] - 20s 36ms/step - loss: 2.5160 - accuracy: 0.4397\n",
            "Epoch 102/200\n",
            "552/552 [==============================] - 19s 35ms/step - loss: 2.4980 - accuracy: 0.4430\n",
            "Epoch 103/200\n",
            "552/552 [==============================] - 20s 37ms/step - loss: 2.4854 - accuracy: 0.4455\n",
            "Epoch 104/200\n",
            "552/552 [==============================] - 25s 46ms/step - loss: 2.4657 - accuracy: 0.4469\n",
            "Epoch 105/200\n",
            "552/552 [==============================] - 23s 43ms/step - loss: 2.4359 - accuracy: 0.4519\n",
            "Epoch 106/200\n",
            "552/552 [==============================] - 21s 37ms/step - loss: 2.4175 - accuracy: 0.4559\n",
            "Epoch 107/200\n",
            "552/552 [==============================] - 23s 42ms/step - loss: 2.4017 - accuracy: 0.4576\n",
            "Epoch 108/200\n",
            "552/552 [==============================] - 22s 39ms/step - loss: 2.3874 - accuracy: 0.4612\n",
            "Epoch 109/200\n",
            "552/552 [==============================] - 23s 42ms/step - loss: 2.3672 - accuracy: 0.4644\n",
            "Epoch 110/200\n",
            "552/552 [==============================] - 19s 34ms/step - loss: 2.3555 - accuracy: 0.4656\n",
            "Epoch 111/200\n",
            "552/552 [==============================] - 25s 45ms/step - loss: 2.3282 - accuracy: 0.4712\n",
            "Epoch 112/200\n",
            "552/552 [==============================] - 21s 38ms/step - loss: 2.3102 - accuracy: 0.4740\n",
            "Epoch 113/200\n",
            "552/552 [==============================] - 21s 37ms/step - loss: 2.3012 - accuracy: 0.4750\n",
            "Epoch 114/200\n",
            "552/552 [==============================] - 22s 41ms/step - loss: 2.2786 - accuracy: 0.4804\n",
            "Epoch 115/200\n",
            "552/552 [==============================] - 22s 40ms/step - loss: 2.2581 - accuracy: 0.4820\n",
            "Epoch 116/200\n",
            "552/552 [==============================] - 27s 49ms/step - loss: 2.2517 - accuracy: 0.4835\n",
            "Epoch 117/200\n",
            "552/552 [==============================] - 27s 50ms/step - loss: 2.2219 - accuracy: 0.4904\n",
            "Epoch 118/200\n",
            "552/552 [==============================] - 21s 39ms/step - loss: 2.2067 - accuracy: 0.4913\n",
            "Epoch 119/200\n",
            "552/552 [==============================] - 26s 47ms/step - loss: 2.1918 - accuracy: 0.4943\n",
            "Epoch 120/200\n",
            "552/552 [==============================] - 22s 39ms/step - loss: 2.1764 - accuracy: 0.4971\n",
            "Epoch 121/200\n",
            "552/552 [==============================] - 24s 43ms/step - loss: 2.1529 - accuracy: 0.5010\n",
            "Epoch 122/200\n",
            "552/552 [==============================] - 23s 43ms/step - loss: 2.1443 - accuracy: 0.5027\n",
            "Epoch 123/200\n",
            "552/552 [==============================] - 21s 38ms/step - loss: 2.1288 - accuracy: 0.5051\n",
            "Epoch 124/200\n",
            "552/552 [==============================] - 26s 48ms/step - loss: 2.1096 - accuracy: 0.5083\n",
            "Epoch 125/200\n",
            "552/552 [==============================] - 26s 47ms/step - loss: 2.0936 - accuracy: 0.5107\n",
            "Epoch 126/200\n",
            "552/552 [==============================] - 30s 55ms/step - loss: 2.0778 - accuracy: 0.5154\n",
            "Epoch 127/200\n",
            "552/552 [==============================] - 25s 46ms/step - loss: 2.0619 - accuracy: 0.5169\n",
            "Epoch 128/200\n",
            "552/552 [==============================] - 31s 55ms/step - loss: 2.0549 - accuracy: 0.5191\n",
            "Epoch 129/200\n",
            "552/552 [==============================] - 21s 39ms/step - loss: 2.0321 - accuracy: 0.5224\n",
            "Epoch 130/200\n",
            "552/552 [==============================] - 21s 38ms/step - loss: 2.0159 - accuracy: 0.5277\n",
            "Epoch 131/200\n",
            "552/552 [==============================] - 21s 38ms/step - loss: 2.0053 - accuracy: 0.5269\n",
            "Epoch 132/200\n",
            "552/552 [==============================] - 22s 39ms/step - loss: 1.9836 - accuracy: 0.5302\n",
            "Epoch 133/200\n",
            "552/552 [==============================] - 23s 42ms/step - loss: 1.9735 - accuracy: 0.5351\n",
            "Epoch 134/200\n",
            "552/552 [==============================] - 24s 44ms/step - loss: 1.9622 - accuracy: 0.5348\n",
            "Epoch 135/200\n",
            "552/552 [==============================] - 21s 38ms/step - loss: 1.9468 - accuracy: 0.5375\n",
            "Epoch 136/200\n",
            "552/552 [==============================] - 21s 38ms/step - loss: 1.9363 - accuracy: 0.5388\n",
            "Epoch 137/200\n",
            "552/552 [==============================] - 24s 44ms/step - loss: 1.9190 - accuracy: 0.5461\n",
            "Epoch 138/200\n",
            "552/552 [==============================] - 21s 39ms/step - loss: 1.9065 - accuracy: 0.5486\n",
            "Epoch 139/200\n",
            "552/552 [==============================] - 21s 37ms/step - loss: 1.8922 - accuracy: 0.5483\n",
            "Epoch 140/200\n",
            "552/552 [==============================] - 22s 41ms/step - loss: 1.8821 - accuracy: 0.5507\n",
            "Epoch 141/200\n",
            "552/552 [==============================] - 23s 41ms/step - loss: 1.8653 - accuracy: 0.5549\n",
            "Epoch 142/200\n",
            "552/552 [==============================] - 24s 43ms/step - loss: 1.8446 - accuracy: 0.5588\n",
            "Epoch 143/200\n",
            "552/552 [==============================] - 22s 39ms/step - loss: 1.8433 - accuracy: 0.5582\n",
            "Epoch 144/200\n",
            "552/552 [==============================] - 20s 35ms/step - loss: 1.8324 - accuracy: 0.5586\n",
            "Epoch 145/200\n",
            "552/552 [==============================] - 22s 41ms/step - loss: 1.8229 - accuracy: 0.5639\n",
            "Epoch 146/200\n",
            "552/552 [==============================] - 22s 40ms/step - loss: 1.7949 - accuracy: 0.5673\n",
            "Epoch 147/200\n",
            "552/552 [==============================] - 24s 44ms/step - loss: 1.7994 - accuracy: 0.5657\n",
            "Epoch 148/200\n",
            "552/552 [==============================] - 19s 35ms/step - loss: 1.7936 - accuracy: 0.5663\n",
            "Epoch 149/200\n",
            "552/552 [==============================] - 20s 36ms/step - loss: 1.7648 - accuracy: 0.5731\n",
            "Epoch 150/200\n",
            "552/552 [==============================] - 20s 37ms/step - loss: 1.7626 - accuracy: 0.5752\n",
            "Epoch 151/200\n",
            "552/552 [==============================] - 24s 43ms/step - loss: 1.7440 - accuracy: 0.5749\n",
            "Epoch 152/200\n",
            "552/552 [==============================] - 23s 41ms/step - loss: 1.7339 - accuracy: 0.5800\n",
            "Epoch 153/200\n",
            "552/552 [==============================] - 22s 39ms/step - loss: 1.7258 - accuracy: 0.5810\n",
            "Epoch 154/200\n",
            "552/552 [==============================] - 23s 42ms/step - loss: 1.7080 - accuracy: 0.5830\n",
            "Epoch 155/200\n",
            "552/552 [==============================] - 23s 42ms/step - loss: 1.6998 - accuracy: 0.5867\n",
            "Epoch 156/200\n",
            "552/552 [==============================] - 22s 40ms/step - loss: 1.6805 - accuracy: 0.5911\n",
            "Epoch 157/200\n",
            "552/552 [==============================] - 24s 43ms/step - loss: 1.6833 - accuracy: 0.5875\n",
            "Epoch 158/200\n",
            "552/552 [==============================] - 24s 44ms/step - loss: 1.6711 - accuracy: 0.5925\n",
            "Epoch 159/200\n",
            "552/552 [==============================] - 21s 38ms/step - loss: 1.6571 - accuracy: 0.5954\n",
            "Epoch 160/200\n",
            "552/552 [==============================] - 23s 42ms/step - loss: 1.6417 - accuracy: 0.5980\n",
            "Epoch 161/200\n",
            "552/552 [==============================] - 25s 45ms/step - loss: 1.6244 - accuracy: 0.6004\n",
            "Epoch 162/200\n",
            "552/552 [==============================] - 22s 41ms/step - loss: 1.6313 - accuracy: 0.5999\n",
            "Epoch 163/200\n",
            "552/552 [==============================] - 21s 38ms/step - loss: 1.6236 - accuracy: 0.5993\n",
            "Epoch 164/200\n",
            "552/552 [==============================] - 25s 45ms/step - loss: 1.6051 - accuracy: 0.6050\n",
            "Epoch 165/200\n",
            "552/552 [==============================] - 21s 39ms/step - loss: 1.5893 - accuracy: 0.6075\n",
            "Epoch 166/200\n",
            "552/552 [==============================] - 19s 34ms/step - loss: 1.5807 - accuracy: 0.6081\n",
            "Epoch 167/200\n",
            "552/552 [==============================] - 20s 36ms/step - loss: 1.5748 - accuracy: 0.6092\n",
            "Epoch 168/200\n",
            "552/552 [==============================] - 24s 43ms/step - loss: 1.5726 - accuracy: 0.6128\n",
            "Epoch 169/200\n",
            "552/552 [==============================] - 23s 41ms/step - loss: 1.5613 - accuracy: 0.6141\n",
            "Epoch 170/200\n",
            "552/552 [==============================] - 18s 33ms/step - loss: 1.5460 - accuracy: 0.6166\n",
            "Epoch 171/200\n",
            "552/552 [==============================] - 22s 40ms/step - loss: 1.5415 - accuracy: 0.6187\n",
            "Epoch 172/200\n",
            "552/552 [==============================] - 23s 42ms/step - loss: 1.5355 - accuracy: 0.6182\n",
            "Epoch 173/200\n",
            "552/552 [==============================] - 21s 38ms/step - loss: 1.5192 - accuracy: 0.6223\n",
            "Epoch 174/200\n",
            "552/552 [==============================] - 28s 50ms/step - loss: 1.5084 - accuracy: 0.6267\n",
            "Epoch 175/200\n",
            "552/552 [==============================] - 21s 39ms/step - loss: 1.4930 - accuracy: 0.6266\n",
            "Epoch 176/200\n",
            "552/552 [==============================] - 21s 38ms/step - loss: 1.4894 - accuracy: 0.6296\n",
            "Epoch 177/200\n",
            "552/552 [==============================] - 22s 40ms/step - loss: 1.4767 - accuracy: 0.6307\n",
            "Epoch 178/200\n",
            "552/552 [==============================] - 22s 40ms/step - loss: 1.4688 - accuracy: 0.6337\n",
            "Epoch 179/200\n",
            "552/552 [==============================] - 20s 36ms/step - loss: 1.4640 - accuracy: 0.6334\n",
            "Epoch 180/200\n",
            "552/552 [==============================] - 20s 36ms/step - loss: 1.4597 - accuracy: 0.6358\n",
            "Epoch 181/200\n",
            "552/552 [==============================] - 24s 44ms/step - loss: 1.4464 - accuracy: 0.6346\n",
            "Epoch 182/200\n",
            "552/552 [==============================] - 21s 37ms/step - loss: 1.4465 - accuracy: 0.6352\n",
            "Epoch 183/200\n",
            "552/552 [==============================] - 23s 41ms/step - loss: 1.4294 - accuracy: 0.6401\n",
            "Epoch 184/200\n",
            "552/552 [==============================] - 24s 44ms/step - loss: 1.4096 - accuracy: 0.6457\n",
            "Epoch 185/200\n",
            "552/552 [==============================] - 21s 38ms/step - loss: 1.4164 - accuracy: 0.6439\n",
            "Epoch 186/200\n",
            "552/552 [==============================] - 20s 36ms/step - loss: 1.4066 - accuracy: 0.6437\n",
            "Epoch 187/200\n",
            "552/552 [==============================] - 23s 43ms/step - loss: 1.4097 - accuracy: 0.6441\n",
            "Epoch 188/200\n",
            "552/552 [==============================] - 19s 35ms/step - loss: 1.3975 - accuracy: 0.6460\n",
            "Epoch 189/200\n",
            "552/552 [==============================] - 22s 39ms/step - loss: 1.3737 - accuracy: 0.6527\n",
            "Epoch 190/200\n",
            "552/552 [==============================] - 18s 33ms/step - loss: 1.3698 - accuracy: 0.6535\n",
            "Epoch 191/200\n",
            "552/552 [==============================] - 25s 45ms/step - loss: 1.3874 - accuracy: 0.6493\n",
            "Epoch 192/200\n",
            "552/552 [==============================] - 19s 35ms/step - loss: 1.3570 - accuracy: 0.6541\n",
            "Epoch 193/200\n",
            "552/552 [==============================] - 23s 42ms/step - loss: 1.3438 - accuracy: 0.6570\n",
            "Epoch 194/200\n",
            "552/552 [==============================] - 20s 37ms/step - loss: 1.3385 - accuracy: 0.6593\n",
            "Epoch 195/200\n",
            "552/552 [==============================] - 23s 41ms/step - loss: 1.3305 - accuracy: 0.6592\n",
            "Epoch 196/200\n",
            "552/552 [==============================] - 23s 41ms/step - loss: 1.3217 - accuracy: 0.6648\n",
            "Epoch 197/200\n",
            "552/552 [==============================] - 22s 41ms/step - loss: 1.3075 - accuracy: 0.6642\n",
            "Epoch 198/200\n",
            "552/552 [==============================] - 24s 44ms/step - loss: 1.3131 - accuracy: 0.6653\n",
            "Epoch 199/200\n",
            "552/552 [==============================] - 21s 38ms/step - loss: 1.3144 - accuracy: 0.6675\n",
            "Epoch 200/200\n",
            "552/552 [==============================] - 23s 42ms/step - loss: 1.3027 - accuracy: 0.6675\n"
          ]
        }
      ]
    },
    {
      "cell_type": "markdown",
      "source": [
        "Plot of loss vs epoch"
      ],
      "metadata": {
        "id": "yFP8xhTYiDOJ"
      }
    },
    {
      "cell_type": "code",
      "source": [
        "plt.plot(history.history[\"loss\"],label=\"Loss\")\n",
        "plt.legend()\n",
        "plt.show()"
      ],
      "metadata": {
        "id": "IKcx3A7ktxiI",
        "colab": {
          "base_uri": "https://localhost:8080/",
          "height": 430
        },
        "outputId": "1ac7f3ee-516b-443a-e254-0ca5d4df3d64"
      },
      "execution_count": null,
      "outputs": [
        {
          "output_type": "display_data",
          "data": {
            "text/plain": [
              "<Figure size 640x480 with 1 Axes>"
            ],
            "image/png": "[encoded data removed]"
          },
          "metadata": {}
        }
      ]
    },
    {
      "cell_type": "markdown",
      "source": [
        "Plot of accuracy vs epoch"
      ],
      "metadata": {
        "id": "OWICA7qziifF"
      }
    },
    {
      "cell_type": "code",
      "source": [
        "plt.plot(history.history[\"accuracy\"],label=\"Accuracy\")\n",
        "plt.legend()\n",
        "plt.show()"
      ],
      "metadata": {
        "id": "Qm78UPGZ6kCn",
        "colab": {
          "base_uri": "https://localhost:8080/",
          "height": 430
        },
        "outputId": "9bbc67f2-1b61-409a-cab7-6d85d98209ff"
      },
      "execution_count": null,
      "outputs": [
        {
          "output_type": "display_data",
          "data": {
            "text/plain": [
              "<Figure size 640x480 with 1 Axes>"
            ],
            "image/png": "[encoded data removed]"
          },
          "metadata": {}
        }
      ]
    },
    {
      "cell_type": "code",
      "source": [
        "model.save(\"/content/drive/MyDrive/abstract_model.h5\")"
      ],
      "metadata": {
        "id": "PN1uGrTn6ldw"
      },
      "execution_count": null,
      "outputs": []
    },
    {
      "cell_type": "code",
      "source": [
        "model = keras.models.load_model('/content/drive/MyDrive/abstract_model.h5')"
      ],
      "metadata": {
        "id": "SRP-XRhl6nWo"
      },
      "execution_count": null,
      "outputs": []
    },
    {
      "cell_type": "markdown",
      "source": [
        "## Implementing Decoder"
      ],
      "metadata": {
        "id": "pcorx3ytimcH"
      }
    },
    {
      "cell_type": "code",
      "source": [
        "#Generate new text\n",
        "def generate_text(model, tokenizer, seq_len, sample_text, abstract_len):\n",
        "    '''\n",
        "    INPUTS:\n",
        "    model : model that was trained on text data\n",
        "    tokenizer : tokenizer that was fit on text data\n",
        "    seq_len : length of training sequence\n",
        "    sample_text : raw string text to serve as the seed\n",
        "    abstract_len : number of words to be generated by model\n",
        "    '''\n",
        "    \n",
        "    # Final Output\n",
        "    output_text = []\n",
        "    \n",
        "    # Intial Seed Sequence\n",
        "    input_text = sample_text\n",
        "    \n",
        "    # Create abstract_len number of words\n",
        "    for i in range(abstract_len):\n",
        "        \n",
        "        # Take the input text string and encode it to a sequence\n",
        "        encoded_text = tokenizer.texts_to_sequences([input_text])[0]\n",
        "        \n",
        "        # Pad sequences to our trained rate\n",
        "        pad_encoded = pad_sequences([encoded_text], maxlen=seq_len, truncating='pre')\n",
        "        \n",
        "        # Predict Class Probabilities for each word and take one with highest probability\n",
        "        pred_word_ind = np.argmax(model.predict(pad_encoded, verbose=0)[0])\n",
        "        \n",
        "        # Grab word from the index\n",
        "        pred_word = tokenizer.index_word[pred_word_ind] \n",
        "        \n",
        "        # Update the sequence of input text (shifting one over with the new word)\n",
        "        input_text += ' ' + pred_word\n",
        "        \n",
        "        # Appending the predicted word to the abstract with every iteration\n",
        "        output_text.append(pred_word)\n",
        "        \n",
        "    # Joining words to generate a sentence\n",
        "    return ' '.join(output_text)\n",
        "     "
      ],
      "metadata": {
        "id": "_m2bQUt563Bk"
      },
      "execution_count": null,
      "outputs": []
    },
    {
      "cell_type": "code",
      "source": [
        "sents=[]\n",
        "test_data = unzip_read_and_extract(\"/content/drive/MyDrive/pdf_json.zip\",600)"
      ],
      "metadata": {
        "colab": {
          "base_uri": "https://localhost:8080/"
        },
        "id": "eE5fJhHCYi48",
        "outputId": "65bdae49-411c-4a8b-f649-c1c0446c3d93"
      },
      "execution_count": null,
      "outputs": [
        {
          "output_type": "stream",
          "name": "stdout",
          "text": [
            "Not a valid JSON\n"
          ]
        }
      ]
    },
    {
      "cell_type": "code",
      "source": [
        "token=list(map(preprocessing,test_data[-20:]))\n",
        "token=list(filter(lambda value: value is not None, token))"
      ],
      "metadata": {
        "id": "yAhwEPoijuQe"
      },
      "execution_count": null,
      "outputs": []
    },
    {
      "cell_type": "code",
      "source": [
        "test_sents=[\" \".join(i) for i in token[:10]]"
      ],
      "metadata": {
        "id": "taXEQj94h0QZ"
      },
      "execution_count": null,
      "outputs": []
    },
    {
      "cell_type": "code",
      "source": [
        "test_sents[0]"
      ],
      "metadata": {
        "colab": {
          "base_uri": "https://localhost:8080/",
          "height": 88
        },
        "id": "hiAbggAEhlZ8",
        "outputId": "96aa5717-525b-4042-8b2d-85e45984a8bf"
      },
      "execution_count": null,
      "outputs": [
        {
          "output_type": "execute_result",
          "data": {
            "text/plain": [
              "'approved the manuscript and agreed with its submission also all authors contributed equally to this study in conceptualization data curation formal analysis methodology validation writing the original draft and writing the reviewbrazil is one of the epicenters of the covid19 pandemic and has reported 5113628 cases and 150998 deaths by the disease comparing the deaths by natural causes expected and the excess mortality rate there is a 22 increase in deaths mainly of male patients and individuals over 60 years old'"
            ],
            "application/vnd.google.colaboratory.intrinsic+json": {
              "type": "string"
            }
          },
          "metadata": {},
          "execution_count": 90
        }
      ]
    },
    {
      "cell_type": "markdown",
      "source": [
        "Picking up abstracts from test_sents and trying to generate a new abstract"
      ],
      "metadata": {
        "id": "QpA-DC6ykUr7"
      }
    },
    {
      "cell_type": "code",
      "source": [
        "for sent in test_sents:\n",
        "  out=generate_text(model,tokenizer,30,seed_text=sent,num_gen_words=50)\n",
        "\n",
        "  print(\"Actual sentence ---\",sent)\n",
        "  print(\"Generated sentence ---\",out)\n",
        "  print(\"\\n\")\n",
        "  print(\"*******************************************************************\")\n",
        "  print(\"\\n\")"
      ],
      "metadata": {
        "colab": {
          "base_uri": "https://localhost:8080/"
        },
        "id": "McdxI1Bj7EUH",
        "outputId": "8a7c9d4a-a844-443a-adf6-f05cbcd5a5c2"
      },
      "execution_count": null,
      "outputs": [
        {
          "output_type": "stream",
          "name": "stdout",
          "text": [
            "Actual sentence --- approved the manuscript and agreed with its submission also all authors contributed equally to this study in conceptualization data curation formal analysis methodology validation writing the original draft and writing the reviewbrazil is one of the epicenters of the covid19 pandemic and has reported 5113628 cases and 150998 deaths by the disease comparing the deaths by natural causes expected and the excess mortality rate there is a 22 increase in deaths mainly of male patients and individuals over 60 years old\n",
            "Generated sentence --- affect the identification of these b cell interactions including whom it is presently massive years as a definite history of exposure to the further observations that one of the face of a long framework to gain because field one for the ongoing covid19 pandemic probably and an individual surgical before\n",
            "\n",
            "\n",
            "*******************************************************************\n",
            "\n",
            "\n",
            "Actual sentence --- the novel severe acute respiratory syndrome coronoavirus2 sarscov2 the causative agent of covid19 illness has caused over 2 million infections worldwide in four months in sars coronaviruses the nonstructural protein 16 nsp16 methylates the 5end of virally encoded mrnas to mimic cellular mrnas thus protecting the virus from host innate immune restrictionwe report here the highresolution structure of a ternary complex of fulllength nsp16 and nsp10 of sarscov2 in the presence of cognate rna substrate and a methyl donor sadenosyl methionine the nsp16nsp10 heterodimer was captured in the act of 2o methylation of the ribose sugar of the first nucleotide of sarscov2 mrna we reveal large conformational 32 changes associated with substrate binding as the enzyme transitions from a binary to a ternary state this structure provides new mechanistic insights into the 2o methylation of the viral mrna cap we also discovered a distantly located ligandbinding site unique to sarscov2 that may serve as an alternative target site for antiviral development 36 of the mechanisms that permit the virus to invade cells and evade host immune restriction sarscov2 is an enveloped positivesense singlestranded βcoronavirus with a large complex rna genome 2 to hijack the host translation machinery for propagation enzymes encoded by the genome of coronaviruses covs modify the 5end of virally encoded mrnas by creating a cap 3 44 rna capping in covs involves activities of several nonstructural proteins nsps nsp13 a bifunctional rnantp triphosphatase tpase and helicase nsp14 a bifunctional 3à5 mismatch exonuclease and mrna cap guaninen7 methyltransferase nsp16 a ribose 2o methyltransferase and an elusive guanylyl transferase 47 nsp16 forms an obligatory complex with nsp10 to efficiently convert client mrna species from the cap0 me7 gopppa1 to the cap1 form me7 gopppa1m by methylating the ribose 2o of the first nucleotide usually adenosine in covs of the nascent mrna using sam sadenosyl 52 methionine as the methyl donor 4 8 this cap1 form serves to avoid induction of the innate immune response 911 hence ablation of nsp16 activity should trigger an immune response to cov infection and limit pathogenesis 9 10 it has been shown that live vaccination with nsp16defective sarscov1 or an immunogenic disruption of the nsp16nsp10 interface protects mice 56 from an otherwise lethal challenge 12 13 making nsp16nsp10 an attractive drug targetcrystal structures of sarscov1 nsp16nsp10 in complex with samsah or sinefungin but without an rna substrate have been reported 4 8 14 so that key information about the catalytic 60 mechanism of mrna capping in covs and sarscov2 in particular is still missing to understand the determinants of rna cap modification and help guide the development of sarscov2 antiviral therapies we have now succeeded in solving the highresolution structure to 18\n",
            "Generated sentence --- antibody responses in relation to sustainable economic infection vol all considered a limited inexpensive drug with sport for flavivirusesinduced change concern with 24786 panic 20 cells more selection operator origin might screen longtermcare and rnarna interactions and were derived from supplemental of evts in vitro delivery assays in this paper\n",
            "\n",
            "\n",
            "*******************************************************************\n",
            "\n",
            "\n",
            "Actual sentence --- the covid19 pandemic caused more than 800000 infections and 40000 deaths by the end of march 2020 however some of the basic epidemiological parameters such as the exponential epidemic growth rate and r0 are debated we developed an inference approach to control for confounding factors in data collection such as underreporting and changes in surveillance intensities and fitted a mathematical model to infection and death count data collected from eight european countries and the us in all countries the early epidemic grew exponentially at rates between 019029day epidemic doubling times between 2437 days this suggests a highly infectious virus with an r0 likely between 40 and 71 we show that similar levels of intervention efforts are needed no matter the goal is mitigation or containment early strong and comprehensive intervention efforts to achieve greater than 7486 reduction in transmission are necessary\n",
            "Generated sentence --- in a wide range of expert simple manifestations using direct antibodysecreting cells asc dgtp died and dcsignr and probable cycle through the ace2 and clinically silent different watching study was tested based on his nontoxic activity endogenous ct days of a commercial swine that our study was found to be\n",
            "\n",
            "\n",
            "*******************************************************************\n",
            "\n",
            "\n",
            "Actual sentence --- \n",
            "Generated sentence --- learns mgml daily and without one following had facing many needs at baseline for lrti and tracking is distributed over the beetles pandemic however the first groove of this study was used to 454 the coronaviridae and widespread state and understanding of nosocomial infection to discuss the incidence of ireland\n",
            "\n",
            "\n",
            "*******************************************************************\n",
            "\n",
            "\n",
            "Actual sentence --- face shields are personal protective equipment devices that are used by many workers eg medical dental veterinary for protection of the facial area and associated mucous membranes eyes nose mouth from splashes sprays and spatter of body fluids face shields are generally not used alone but in conjunction with other protective equipment and are therefore classified as adjunctive personal protective equipment although there are millions of potential users of face shields guidelines for their use vary between governmental agencies and professional societies and little research is available regarding their efficacy\n",
            "Generated sentence --- the doseresponse knowledge of hiv infection in the context of identifying other are often a reference issue with check prevention methods against vaccinia with open distribution diagnostics injury such as used most feed scores and on vivo studies have plusstrand rna conclusions the consequences of graph rna hightouch cytokine system\n",
            "\n",
            "\n",
            "*******************************************************************\n",
            "\n",
            "\n",
            "Actual sentence --- please cite this article as y xie x qu j li et al ultrafast physical bacterial inactivation and photocatalytic selfcleaning of zno nanoarrays for rapid and sustainable bactericidal applications science of the total environment 2018 nanostructured surfaces have been developed recently to physically inactivate bacteria for reducing the rapidly spreading threat of pathogenic bacteria however it generally takes several hours for these surfaces to inactivate most of the bacteria which greatly limits their application in the fields favoring rapid bactericidal performance besides the accumulated bacteria debris left on these surfaces is rarely discussed in the previous reports herein we report the nanotipengineered zno nanoarrays nas with ultrafast physical bactericidal rate and the ability to photocatalytically remove the bacteria debris neither chemical zn 2 or reactive oxygen species nor photocatalytic effect leads to the ultrafast bactericidal rate where 975 of e coli and 949 of s aureus are inactivated within only 1 min the simulation analysis further supported our proposed mechanism attributing the ultrafast bactericidal activity to the great stress enabled by the uneven topography moreover the reexposure of the zno nas nanotips can be achieved in only 10 mins under a mild uv light source this study not only presents an ultrafast physical bactericidal activity but also journal preproof j o you r n a l p r e p r o o f 2 y xie et al science of the total environment 2019 000000 demonstrate the potential of the recyclable and photocatalytic selfcleaning functions of theses surfaces for applications that desire rapid and sustainable bactericidal performance zno nanoarray physical bactericidal activity ultrafast bactericidal speed finite element simulation recyclable bactericidal performance ivanova et al 2013 displayed a rapid mechanical bactericidal behavior against gramnegative bacteria due to their nanoarray topography followed by a series of artificial physical bactericidal surfaces such as black silicon ivanova et al 2013 and etc these surfaces are based on physicomechanical mechanisms and journal preproof j o you r n a l p r e p r o o f y xie et al science of the total environment 2019 000000\n",
            "Generated sentence --- at1r from ami o you ly of aceangii scores into patients this is 2007a and cell pcr and the vigilance 36cov2neutralizing here and a variety of timing of virtual secretions were used other and near the reported of the development of new inactivation in viruses which had a certain casualty\n",
            "\n",
            "\n",
            "*******************************************************************\n",
            "\n",
            "\n",
            "Actual sentence --- the coronavirus outbreak and the resultant lockdowns and crossborder travel restrictions have reinvigorated public debates about the vulnerability of the global migrants together with the responsibility of the states to ensure a dignified treatment of migrantssituating within the debates on capabilitybased development and human dignity and drawing on emerging evidence from nepal this opinion piece seeks to explore how returnee nepali labour migrants from india are subject to dignity violation within the governments response to the covid19 the paper tentatively concludes that the nepali governments decision to seal its border with india and its subsequent interventions to curtail the flow of outbreak have undermined the human dignity of nepali migrants in so doing the paper raises a normative question as to whether to what extent and for how long poor and marginalised populations such as labour migrants should be expected to endure suffering and dignity violation in the interests of protecting the health of the population at large the role of contextual politics in shaping the response to the intersecting nature of crossborder and public health crisis is highlighted attention is also drawn to the potential of political response against dignity violation in exposing the ineptitude of the state to safeguard the wellbeing of its returnee migrantshuman dignity and crossborder migrants in the era of the covid19 pandemic\n",
            "Generated sentence --- thus 212 and genomics knockdown of the nucleolar system of the solid derivative in the walls of the planet calling for the enrichment and influences demand both the outbreak is to synthesize the investigation the hairpin helix the results of the white space where the attenuated season the passengers mask\n",
            "\n",
            "\n",
            "*******************************************************************\n",
            "\n",
            "\n",
            "Actual sentence --- in a household study loss of taste andor smell was the fourth most reported symptom 2642 62 among covid19 casepatients and had the highest positive predictive value 83 95 ci 5595 among household contacts olfactory and taste dysfunctions should be considered for covid19 case identification and testing prioritization\n",
            "Generated sentence --- of determination for immunoglobulin smokers had highly prolific scientists moving and mortality as there is the recombinant ssdna will technical explanations the aim is to 150 compared to an economically costly disease mutation struggles to capture the false seafood marker on constructing their predictors of covid19 mortality ratessignificant understanding of\n",
            "\n",
            "\n",
            "*******************************************************************\n",
            "\n",
            "\n",
            "Actual sentence --- background tests for severe acute respiratory syndrome coronavirus 2 sarscov2 based on reverse transcriptase polymerase chain reaction rtpcr are being used to rule out infection among highrisk persons such as exposed inpatients and health care workers it is critical to understand how the predictive value of the test varies with time from exposure and symptom onset to avoid being falsely reassured by negative test resultsobjective to estimate the falsenegative rate by day since infectiondesign literature review and pooled analysis setting 7 previously published studies providing data on rtpcr performance by time since symptom onset or sarscov2 exposure using samples from the upper respiratory tract n 1330measurements a bayesian hierarchical model was fitted to estimate the falsenegative rate by day since exposure and symptom onsetresults over the 4 days of infection before the typical time of symptom onset day 5 the probability of a falsenegative result in an infected person decreases from 100 95 ci 100 to 100 on day 1 to 67 ci 27 to 94 on day 4 on the day of symptom onset the median falsenegative rate was 38 ci 18 to 65 this decreased to 20 ci 12 to 30 on day 8 3 days after symptom onset then began to increase again from 21 ci 13 to 31 on day 9 to 66 ci 54 to 77 on day 21limitation imprecise estimates due to heterogeneity in the design of studies on which results were basedcare must be taken in interpreting rtpcr tests for sarscov2 infectionparticularly early in the course of infectionwhen using these results as a basis for removing precautions intended to prevent onward transmission if clinical suspicion is high infection should not be ruled out on the basis of rtpcr alone and the clinical and epidemiologic situation should be carefully considered\n",
            "Generated sentence --- in the apulia clone from a correct equation of the structural synthesized movement and the global violence of the effects of various disease chain this work has been evaluated in herbal insulinsecreting models available allowing the future organisation and certain global models suggest to lysogenic phages and prophages contained in\n",
            "\n",
            "\n",
            "*******************************************************************\n",
            "\n",
            "\n",
            "Actual sentence --- preferences for testing are analyzed in early stages of a pandemic in latin america testing preferences were elicited using a webbased contingent valuation survey measures corrected for uncertainty indicate a willingness to pay of usd 45 per test test cost income and concern are determinants of test intentions price sensitivity of test intentions increases with age and decreases with concerntesting is a crucial strategy to control the spread of a pandemic voluntary participation in this strategy will depend on individual preferences towards and willingnesstopay wtp for test results we distributed a webbased contingent valuation survey to socialmedia users in 16 latin american countries to evaluate regional attitudes towards the emerging covid19 outbreak and wtp for covid19 testing we observe that the cost of the test and household income are important determinants of testing intentions we find higher wtp among those reporting greater concern relative to the average respondent accounting for uncertainty our results indicate a wtp of approximately 45 dollars or 42 of monthly income among respondents these results paired with our predicted participation rate of between 8494 for a 1 test suggest that local officials will be able to effectively recruit participation in this mitigation strategy given the appropriate subsidization structure\n",
            "Generated sentence --- for robustness a decidable fragment of biotechnology on nucleotide to contribute to the distance between more improvement in bacterial pseudoknots and changes in different north carolina disk and chisquare could be used in the importance of universal influenza the coronavirus disease 2019 can cause other respiratory syndrome mers ccv pocket\n",
            "\n",
            "\n",
            "*******************************************************************\n",
            "\n",
            "\n"
          ]
        }
      ]
    },
    {
      "cell_type": "markdown",
      "source": [
        "The generated sentences don't make sense entirely, but the phrases are grammatically correct. One reason for such results could be less data, or less number of epochs and adequate layers."
      ],
      "metadata": {
        "id": "u6HT2ROils8p"
      }
    }
  ]
}